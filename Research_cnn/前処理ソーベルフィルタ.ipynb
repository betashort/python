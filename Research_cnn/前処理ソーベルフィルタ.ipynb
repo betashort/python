{
 "cells": [
  {
   "cell_type": "markdown",
   "metadata": {},
   "source": [
    "# 前処理ソーベルフィルタ"
   ]
  },
  {
   "cell_type": "code",
   "execution_count": 1,
   "metadata": {},
   "outputs": [
    {
     "name": "stderr",
     "output_type": "stream",
     "text": [
      "C:\\Users\\ail\\Anaconda3\\lib\\site-packages\\h5py\\__init__.py:36: FutureWarning: Conversion of the second argument of issubdtype from `float` to `np.floating` is deprecated. In future, it will be treated as `np.float64 == np.dtype(float).type`.\n",
      "  from ._conv import register_converters as _register_converters\n",
      "Using TensorFlow backend.\n"
     ]
    }
   ],
   "source": [
    "%matplotlib inline\n",
    "import numpy as np\n",
    "#データの読み込みと前処理\n",
    "from keras.utils import np_utils\n",
    "from keras.datasets import mnist\n",
    "#kerasでCNN構築\n",
    "from keras.models import Sequential\n",
    "from keras.layers import Conv2D, MaxPooling2D\n",
    "from keras.layers import Activation, Dropout, Flatten, Dense\n",
    "from keras.optimizers import Adam\n",
    "#時間計測\n",
    "import time\n",
    "import cv2\n",
    " \n",
    "'''\n",
    "データの読み込みと前処理\n",
    "'''\n",
    "#データの読み込み\n",
    "(X_train, y_train), (X_test, y_test) = mnist.load_data()\n",
    "\n",
    "#訓練用\n",
    "#X\n",
    "\n",
    "#ソーベルフィルタ\n",
    "X_train = cv2.Sobel(X_train, cv2.CV_32F, 1, 0, ksize=3)\n",
    "\n",
    "X_train = X_train.reshape(60000, 28, 28, 1)\n",
    "X_train = X_train.astype('float32')#型を変更\n",
    "X_train /= X_train.max() #0から1.0の範囲に変換\n",
    "\n",
    "#y\n",
    "#正解ラベル\n",
    "correct = 10\n",
    "y_train = np_utils.to_categorical(y_train, correct)\n",
    "\n",
    "\n",
    "\n",
    "#テストデータ\n",
    "#X\n",
    "#ソーベルフィルタ\n",
    "X_test = cv2.Sobel(X_test, cv2.CV_32F, 1, 0, ksize=3)\n",
    "\n",
    "X_test = X_test.reshape(10000, 28, 28, 1)\n",
    "X_test = X_test.astype('float32')\n",
    "X_test /= X_test.max()\n",
    "\n",
    "#y\n",
    "y_test = np_utils.to_categorical(y_test, correct)\n",
    "\n",
    "\n"
   ]
  },
  {
   "cell_type": "code",
   "execution_count": null,
   "metadata": {},
   "outputs": [],
   "source": [
    " \n",
    "'''\n",
    "CNNの構築\n",
    "'''\n",
    " \n",
    "model = Sequential()\n",
    " \n",
    "model.add(Conv2D(filters=32, kernel_size=(3,3), padding='same', input_shape=(28, 28, 1), activation='relu'))\n",
    "\n",
    "model.add(MaxPooling2D())\n",
    "model.add(Flatten())\n",
    "\n",
    "model.add(Dense(10, activation='softmax'))\n",
    " \n",
    "model.compile(loss='categorical_crossentropy', optimizer=Adam(), metrics=['accuracy'])\n",
    " \n",
    "'''\n",
    "学習\n",
    "'''\n",
    "#計測開始\n",
    "startTime = time.time()\n",
    " \n",
    "history = model.fit(X_train, y_train, epochs=20, batch_size=100, verbose=1, validation_data=(X_test, y_test))\n",
    " \n",
    "score = model.evaluate(X_test, y_test, verbose=0)\n",
    "timer = time.time() - startTime\n",
    "print('Test Loss:{}'.format(score[0]))\n",
    "print('Test accuracy:{}'.format(score[1]))\n",
    "#処理時間\n",
    "print(\"time:{}sec\".format(timer))"
   ]
  },
  {
   "cell_type": "code",
   "execution_count": 3,
   "metadata": {},
   "outputs": [
    {
     "data": {
      "image/png": "[encoded data removed]",
      "text/plain": [
       "<matplotlib.figure.Figure at 0x1c489473c50>"
      ]
     },
     "metadata": {
      "needs_background": "light"
     },
     "output_type": "display_data"
    },
    {
     "name": "stdout",
     "output_type": "stream",
     "text": [
      "255\n",
      "1020.0\n"
     ]
    },
    {
     "data": {
      "image/png": "[encoded data removed]",
      "text/plain": [
       "<matplotlib.figure.Figure at 0x1c4896fa978>"
      ]
     },
     "metadata": {
      "needs_background": "light"
     },
     "output_type": "display_data"
    },
    {
     "name": "stdout",
     "output_type": "stream",
     "text": [
      "1.0\n"
     ]
    },
    {
     "data": {
      "text/plain": [
       "5"
      ]
     },
     "execution_count": 3,
     "metadata": {},
     "output_type": "execute_result"
    }
   ],
   "source": [
    "import cv2\n",
    "import matplotlib.pyplot as plt\n",
    "#データの読み込み\n",
    "(X_train, y_train), (X_test, y_test) = mnist.load_data()\n",
    "\n",
    "mn=0\n",
    "\n",
    "plt.imshow(X_train[mn])\n",
    "plt.gray()\n",
    "plt.show()\n",
    "#ソーベルフィルタ\n",
    "print(X_train.max())\n",
    "X_train = cv2.Sobel(X_train, cv2.CV_32F, 1, 0, ksize=3)\n",
    "print(X_train.max())\n",
    "\n",
    "plt.imshow(X_train[mn])\n",
    "plt.gray()\n",
    "plt.show()\n",
    "\n",
    "cv2.imwrite('Sobel_MNIST.png', X_train[mn])\n",
    "\n",
    "#訓練データ\n",
    "X_train = X_train.reshape(60000, 28, 28, 1)\n",
    "\n",
    "X_train = X_train.astype('float32')#型を変更\n",
    "X_train /= X_train.max() #0から1.0の範囲に変換\n",
    "print(X_train.max())\n",
    "y_train[mn]"
   ]
  },
  {
   "cell_type": "code",
   "execution_count": null,
   "metadata": {},
   "outputs": [],
   "source": []
  }
 ],
 "metadata": {
  "kernelspec": {
   "display_name": "Python 3",
   "language": "python",
   "name": "python3"
  },
  "language_info": {
   "codemirror_mode": {
    "name": "ipython",
    "version": 3
   },
   "file_extension": ".py",
   "mimetype": "text/x-python",
   "name": "python",
   "nbconvert_exporter": "python",
   "pygments_lexer": "ipython3",
   "version": "3.6.4"
  }
 },
 "nbformat": 4,
 "nbformat_minor": 2
}

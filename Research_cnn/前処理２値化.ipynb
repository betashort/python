{
 "cells": [
  {
   "cell_type": "code",
   "execution_count": 5,
   "metadata": {},
   "outputs": [],
   "source": [
    "import numpy as np\n",
    "# データの読み込みと前処理\n",
    "from keras.utils import np_utils\n",
    "from keras.datasets import mnist\n",
    "# kerasでCNN構築\n",
    "from keras.models import Sequential\n",
    "from keras.layers import Conv2D, MaxPooling2D\n",
    "from keras.layers import Activation, Dropout, Flatten, Dense\n",
    "from keras.optimizers import Adam\n",
    "# 時間計測\n",
    "import time\n",
    "\n",
    "import cv2\n",
    "\n",
    "'''\n",
    "データの読み込みと前処理\n",
    "'''\n",
    "# データの読み込み\n",
    "(X_train, y_train), (X_test, y_test) = mnist.load_data()\n",
    "# 訓練データ\n",
    "# 2値化\n",
    "ret, X_train = cv2.threshold(X_train, 127, 255, cv2.THRESH_BINARY)\n",
    "\n",
    "X_train = X_train.reshape(60000, 28, 28, 1)\n",
    "\n",
    "X_train = X_train.astype('float32')  # 型を変更\n",
    "X_train /= 255  # 0から1.0の範囲に変換\n",
    "\n",
    "# 正解ラベル\n",
    "correct = 10\n",
    "y_train = np_utils.to_categorical(y_train, correct)\n",
    "\n",
    "# テストデータ\n",
    "# 2値化\n",
    "ret, X_test = cv2.threshold(X_test, 127, 255, cv2.THRESH_BINARY)\n",
    "X_test = X_test.reshape(10000, 28, 28, 1)\n",
    "X_test = X_test.astype('float32')\n",
    "X_test /= 255\n",
    "\n",
    "y_test = np_utils.to_categorical(y_test, correct)\n"
   ]
  },
  {
   "cell_type": "code",
   "execution_count": 7,
   "metadata": {},
   "outputs": [
    {
     "name": "stdout",
     "output_type": "stream",
     "text": [
      "Train on 60000 samples, validate on 10000 samples\n",
      "Epoch 1/20\n",
      "60000/60000 [==============================] - 36s 601us/step - loss: 0.3071 - acc: 0.9189 - val_loss: 0.1294 - val_acc: 0.9632\n",
      "Epoch 2/20\n",
      "60000/60000 [==============================] - 34s 574us/step - loss: 0.1063 - acc: 0.9700 - val_loss: 0.0861 - val_acc: 0.9737\n",
      "Epoch 3/20\n",
      "60000/60000 [==============================] - 34s 566us/step - loss: 0.0762 - acc: 0.9781 - val_loss: 0.0728 - val_acc: 0.9771\n",
      "Epoch 4/20\n",
      "60000/60000 [==============================] - 34s 566us/step - loss: 0.0619 - acc: 0.9817 - val_loss: 0.0782 - val_acc: 0.9759\n",
      "Epoch 5/20\n",
      "60000/60000 [==============================] - 34s 573us/step - loss: 0.0539 - acc: 0.9834 - val_loss: 0.0670 - val_acc: 0.9801\n",
      "Epoch 6/20\n",
      "60000/60000 [==============================] - 34s 571us/step - loss: 0.0465 - acc: 0.9863 - val_loss: 0.0665 - val_acc: 0.9795\n",
      "Epoch 7/20\n",
      "60000/60000 [==============================] - 34s 572us/step - loss: 0.0407 - acc: 0.9879 - val_loss: 0.0633 - val_acc: 0.9806\n",
      "Epoch 8/20\n",
      "60000/60000 [==============================] - 34s 574us/step - loss: 0.0371 - acc: 0.9890 - val_loss: 0.0639 - val_acc: 0.9798\n",
      "Epoch 9/20\n",
      "60000/60000 [==============================] - 32s 532us/step - loss: 0.0327 - acc: 0.9906 - val_loss: 0.0684 - val_acc: 0.9797\n",
      "Epoch 10/20\n",
      "60000/60000 [==============================] - 35s 590us/step - loss: 0.0282 - acc: 0.9921 - val_loss: 0.0653 - val_acc: 0.9809\n",
      "Epoch 11/20\n",
      "60000/60000 [==============================] - 35s 584us/step - loss: 0.0252 - acc: 0.9929 - val_loss: 0.0671 - val_acc: 0.9807\n",
      "Epoch 12/20\n",
      "60000/60000 [==============================] - 35s 576us/step - loss: 0.0228 - acc: 0.9934 - val_loss: 0.0710 - val_acc: 0.9799\n",
      "Epoch 13/20\n",
      "60000/60000 [==============================] - 35s 583us/step - loss: 0.0194 - acc: 0.9950 - val_loss: 0.0676 - val_acc: 0.9796\n",
      "Epoch 14/20\n",
      "60000/60000 [==============================] - 34s 564us/step - loss: 0.0175 - acc: 0.9951 - val_loss: 0.0774 - val_acc: 0.9775\n",
      "Epoch 15/20\n",
      "60000/60000 [==============================] - 34s 568us/step - loss: 0.0160 - acc: 0.9956 - val_loss: 0.0778 - val_acc: 0.9789\n",
      "Epoch 16/20\n",
      "60000/60000 [==============================] - 34s 574us/step - loss: 0.0127 - acc: 0.9967 - val_loss: 0.0768 - val_acc: 0.9797\n",
      "Epoch 17/20\n",
      "60000/60000 [==============================] - 24s 405us/step - loss: 0.0113 - acc: 0.9973 - val_loss: 0.0799 - val_acc: 0.9804\n",
      "Epoch 18/20\n",
      "60000/60000 [==============================] - 23s 381us/step - loss: 0.0104 - acc: 0.9976 - val_loss: 0.0805 - val_acc: 0.9792\n",
      "Epoch 19/20\n",
      "60000/60000 [==============================] - 23s 376us/step - loss: 0.0088 - acc: 0.9978 - val_loss: 0.0825 - val_acc: 0.9793\n",
      "Epoch 20/20\n",
      "60000/60000 [==============================] - 23s 380us/step - loss: 0.0075 - acc: 0.9986 - val_loss: 0.0819 - val_acc: 0.9803\n",
      "Test Loss:0.08191061080826038\n",
      "Test accuracy:0.9803\n",
      "time:645.9354865550995sec\n"
     ]
    }
   ],
   "source": [
    "\n",
    "'''\n",
    "CNNの構築\n",
    "'''\n",
    "\n",
    "model = Sequential()\n",
    "\n",
    "model.add(Conv2D(filters=32, kernel_size=(3, 3), padding='same', input_shape=(28, 28, 1), activation='relu'))\n",
    "\n",
    "model.add(MaxPooling2D())\n",
    "\n",
    "model.add(Flatten())\n",
    "\n",
    "model.add(Dense(10, activation='softmax'))\n",
    "\n",
    "model.compile(loss='categorical_crossentropy', optimizer=Adam(), metrics=['accuracy'])\n",
    "\n",
    "'''\n",
    "学習\n",
    "'''\n",
    "# 計測開始\n",
    "startTime = time.time()\n",
    "\n",
    "history = model.fit(X_train, y_train, epochs=20, batch_size=100, verbose=1, validation_data=(X_test, y_test))\n",
    "\n",
    "score = model.evaluate(X_test, y_test, verbose=0)\n",
    "\n",
    "timer = time.time() - startTime\n",
    "\n",
    "# 損失\n",
    "print('Test Loss:{}'.format(score[0]))\n",
    "\n",
    "# 精度\n",
    "print('Test accuracy:{}'.format(score[1]))\n",
    "\n",
    "# 処理時間\n",
    "print(\"time:{}sec\".format(timer))\n"
   ]
  },
  {
   "cell_type": "code",
   "execution_count": 4,
   "metadata": {},
   "outputs": [
    {
     "data": {
      "text/plain": [
       "True"
      ]
     },
     "execution_count": 4,
     "metadata": {},
     "output_type": "execute_result"
    }
   ],
   "source": [
    "\n",
    "'''\n",
    "データの読み込みと前処理\n",
    "'''\n",
    "# データの読み込み\n",
    "(X_train, y_train), (X_test, y_test) = mnist.load_data()\n",
    "# 訓練データ\n",
    "# 2値化\n",
    "ret, X_train = cv2.threshold(X_train, 127, 255, cv2.THRESH_BINARY)\n",
    "mn = 0\n",
    "cv2.imwrite('binary_MNIST.png', X_train[mn])"
   ]
  },
  {
   "cell_type": "code",
   "execution_count": null,
   "metadata": {},
   "outputs": [],
   "source": []
  }
 ],
 "metadata": {
  "kernelspec": {
   "display_name": "Python 3",
   "language": "python",
   "name": "python3"
  },
  "language_info": {
   "codemirror_mode": {
    "name": "ipython",
    "version": 3
   },
   "file_extension": ".py",
   "mimetype": "text/x-python",
   "name": "python",
   "nbconvert_exporter": "python",
   "pygments_lexer": "ipython3",
   "version": "3.6.4"
  }
 },
 "nbformat": 4,
 "nbformat_minor": 2
}

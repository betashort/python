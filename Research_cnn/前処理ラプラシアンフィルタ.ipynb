{
 "cells": [
  {
   "cell_type": "markdown",
   "metadata": {},
   "source": [
    "# ラプラシアンフィルタ"
   ]
  },
  {
   "cell_type": "code",
   "execution_count": 1,
   "metadata": {},
   "outputs": [
    {
     "name": "stderr",
     "output_type": "stream",
     "text": [
      "C:\\Users\\ail\\Anaconda3\\lib\\site-packages\\h5py\\__init__.py:36: FutureWarning: Conversion of the second argument of issubdtype from `float` to `np.floating` is deprecated. In future, it will be treated as `np.float64 == np.dtype(float).type`.\n",
      "  from ._conv import register_converters as _register_converters\n",
      "Using TensorFlow backend.\n"
     ]
    }
   ],
   "source": [
    "import numpy as np\n",
    "#データの読み込みと前処理\n",
    "from keras.utils import np_utils\n",
    "from keras.datasets import mnist\n",
    "#kerasでCNN構築\n",
    "from keras.models import Sequential\n",
    "from keras.layers import Conv2D, MaxPooling2D\n",
    "from keras.layers import Activation, Dropout, Flatten, Dense\n",
    "from keras.optimizers import Adam\n",
    "#時間計測\n",
    "import time\n",
    "import cv2\n",
    " \n",
    "'''\n",
    "データの読み込みと前処理\n",
    "'''\n",
    "#データの読み込み\n",
    "(X_train, y_train), (X_test, y_test) = mnist.load_data()\n",
    "\n",
    "#訓練用\n",
    "#X\n",
    "\n",
    "#ラプラシアンフィルタ\n",
    "X_train = cv2.Laplacian(X_train, cv2.CV_32F, ksize=3)\n",
    "\n",
    "X_train = X_train.reshape(60000, 28, 28, 1)\n",
    "X_train = X_train.astype('float32')#型を変更\n",
    "X_train /= X_train.max() #0から1.0の範囲に変換\n",
    "\n",
    "#y\n",
    "#正解ラベル\n",
    "correct = 10\n",
    "y_train = np_utils.to_categorical(y_train, correct)\n",
    "\n",
    "\n",
    "\n",
    "#テストデータ\n",
    "#X\n",
    "#ラプラシアンフィルタ\n",
    "X_test = cv2.Laplacian(X_test, cv2.CV_32F, ksize=3)\n",
    "\n",
    "X_test = X_test.reshape(10000, 28, 28, 1)\n",
    "X_test = X_test.astype('float32')\n",
    "X_test /= X_test.max()\n",
    "\n",
    "#y\n",
    "y_test = np_utils.to_categorical(y_test, correct)\n",
    "\n"
   ]
  },
  {
   "cell_type": "code",
   "execution_count": 3,
   "metadata": {},
   "outputs": [
    {
     "name": "stdout",
     "output_type": "stream",
     "text": [
      "Train on 60000 samples, validate on 10000 samples\n",
      "Epoch 1/20\n",
      "60000/60000 [==============================] - 35s 589us/step - loss: 0.4087 - acc: 0.8833 - val_loss: 0.1842 - val_acc: 0.9492\n",
      "Epoch 2/20\n",
      "60000/60000 [==============================] - 34s 564us/step - loss: 0.1622 - acc: 0.9521 - val_loss: 0.1352 - val_acc: 0.9609\n",
      "Epoch 3/20\n",
      "60000/60000 [==============================] - 34s 565us/step - loss: 0.1225 - acc: 0.9629 - val_loss: 0.1190 - val_acc: 0.9644\n",
      "Epoch 4/20\n",
      "60000/60000 [==============================] - 35s 586us/step - loss: 0.1040 - acc: 0.9680 - val_loss: 0.1046 - val_acc: 0.9678\n",
      "Epoch 5/20\n",
      "60000/60000 [==============================] - 35s 579us/step - loss: 0.0908 - acc: 0.9720 - val_loss: 0.0986 - val_acc: 0.9692\n",
      "Epoch 6/20\n",
      "60000/60000 [==============================] - 35s 577us/step - loss: 0.0810 - acc: 0.9752 - val_loss: 0.0951 - val_acc: 0.9687\n",
      "Epoch 7/20\n",
      "60000/60000 [==============================] - 35s 578us/step - loss: 0.0727 - acc: 0.9781 - val_loss: 0.0977 - val_acc: 0.9697\n",
      "Epoch 8/20\n",
      "60000/60000 [==============================] - 35s 582us/step - loss: 0.0674 - acc: 0.9793 - val_loss: 0.0924 - val_acc: 0.9708\n",
      "Epoch 9/20\n",
      "60000/60000 [==============================] - 35s 578us/step - loss: 0.0610 - acc: 0.9814 - val_loss: 0.0942 - val_acc: 0.9705\n",
      "Epoch 10/20\n",
      "60000/60000 [==============================] - 26s 434us/step - loss: 0.0560 - acc: 0.9836 - val_loss: 0.0961 - val_acc: 0.9706\n",
      "Epoch 11/20\n",
      "60000/60000 [==============================] - 23s 380us/step - loss: 0.0522 - acc: 0.9839 - val_loss: 0.0962 - val_acc: 0.9694\n",
      "Epoch 12/20\n",
      "60000/60000 [==============================] - 23s 390us/step - loss: 0.0463 - acc: 0.9861 - val_loss: 0.0929 - val_acc: 0.9701\n",
      "Epoch 13/20\n",
      "60000/60000 [==============================] - 23s 385us/step - loss: 0.0438 - acc: 0.9866 - val_loss: 0.0928 - val_acc: 0.9713\n",
      "Epoch 14/20\n",
      "60000/60000 [==============================] - 15s 251us/step - loss: 0.0393 - acc: 0.9885 - val_loss: 0.0988 - val_acc: 0.9707\n",
      "Epoch 15/20\n",
      "60000/60000 [==============================] - 14s 240us/step - loss: 0.0364 - acc: 0.9894 - val_loss: 0.1022 - val_acc: 0.9697\n",
      "Epoch 16/20\n",
      "60000/60000 [==============================] - 14s 240us/step - loss: 0.0333 - acc: 0.9904 - val_loss: 0.0972 - val_acc: 0.9713\n",
      "Epoch 17/20\n",
      "60000/60000 [==============================] - 14s 239us/step - loss: 0.0304 - acc: 0.9914 - val_loss: 0.0980 - val_acc: 0.9714\n",
      "Epoch 18/20\n",
      "60000/60000 [==============================] - 14s 241us/step - loss: 0.0287 - acc: 0.9914 - val_loss: 0.1007 - val_acc: 0.9703\n",
      "Epoch 19/20\n",
      "60000/60000 [==============================] - 14s 240us/step - loss: 0.0254 - acc: 0.9928 - val_loss: 0.1100 - val_acc: 0.9696\n",
      "Epoch 20/20\n",
      "60000/60000 [==============================] - 15s 242us/step - loss: 0.0231 - acc: 0.9936 - val_loss: 0.1088 - val_acc: 0.9699\n",
      "Test Loss:0.10881184241524898\n",
      "Test accuracy:0.9699\n",
      "time:511.52396059036255sec\n"
     ]
    }
   ],
   "source": [
    " \n",
    "'''\n",
    "CNNの構築\n",
    "'''\n",
    " \n",
    "model = Sequential()\n",
    " \n",
    "model.add(Conv2D(filters=32, kernel_size=(3,3), padding='same', input_shape=(28, 28, 1), activation='relu'))\n",
    "model.add(MaxPooling2D())\n",
    "model.add(Flatten())\n",
    "\n",
    "model.add(Dense(10, activation='softmax'))\n",
    " \n",
    "model.compile(loss='categorical_crossentropy', optimizer=Adam(), metrics=['accuracy'])\n",
    " \n",
    "'''\n",
    "学習\n",
    "'''\n",
    "#計測開始\n",
    "startTime = time.time()\n",
    " \n",
    "history = model.fit(X_train, y_train, epochs=20, batch_size=100, verbose=1, validation_data=(X_test, y_test))\n",
    " \n",
    "score = model.evaluate(X_test, y_test, verbose=0)\n",
    "timer = time.time() - startTime\n",
    "print('Test Loss:{}'.format(score[0]))\n",
    "print('Test accuracy:{}'.format(score[1]))\n",
    "#処理時間\n",
    "print(\"time:{}sec\".format(timer))"
   ]
  },
  {
   "cell_type": "code",
   "execution_count": 5,
   "metadata": {},
   "outputs": [
    {
     "data": {
      "image/png": "[encoded data removed]",
      "text/plain": [
       "<matplotlib.figure.Figure at 0x2afb1c855f8>"
      ]
     },
     "metadata": {
      "needs_background": "light"
     },
     "output_type": "display_data"
    },
    {
     "name": "stdout",
     "output_type": "stream",
     "text": [
      "255\n",
      "2040.0\n"
     ]
    },
    {
     "data": {
      "image/png": "[encoded data removed]",
      "text/plain": [
       "<matplotlib.figure.Figure at 0x2afb1ce54a8>"
      ]
     },
     "metadata": {
      "needs_background": "light"
     },
     "output_type": "display_data"
    },
    {
     "name": "stdout",
     "output_type": "stream",
     "text": [
      "1.0\n"
     ]
    },
    {
     "data": {
      "text/plain": [
       "5"
      ]
     },
     "execution_count": 5,
     "metadata": {},
     "output_type": "execute_result"
    }
   ],
   "source": [
    "%matplotlib inline\n",
    "import cv2\n",
    "import matplotlib.pyplot as plt\n",
    "#データの読み込み\n",
    "(X_train, y_train), (X_test, y_test) = mnist.load_data()\n",
    "\n",
    "mn=0\n",
    "\n",
    "plt.imshow(X_train[mn])\n",
    "plt.gray()\n",
    "plt.show()\n",
    "#ガウスフィルタ\n",
    "print(X_train.max())\n",
    "X_train = cv2.Laplacian(X_train, cv2.CV_32F, ksize=3)\n",
    "print(X_train.max())\n",
    "\n",
    "plt.imshow(X_train[mn])\n",
    "plt.gray()\n",
    "plt.show()\n",
    "cv2.imwrite('Laplacian.png', X_train[mn])\n",
    "#訓練データ\n",
    "X_train = X_train.reshape(60000, 28, 28, 1)\n",
    "\n",
    "X_train = X_train.astype('float32')#型を変更\n",
    "X_train /= X_train.max() #0から1.0の範囲に変換\n",
    "print(X_train.max())\n",
    "y_train[mn]"
   ]
  },
  {
   "cell_type": "code",
   "execution_count": null,
   "metadata": {},
   "outputs": [],
   "source": []
  }
 ],
 "metadata": {
  "kernelspec": {
   "display_name": "Python 3",
   "language": "python",
   "name": "python3"
  },
  "language_info": {
   "codemirror_mode": {
    "name": "ipython",
    "version": 3
   },
   "file_extension": ".py",
   "mimetype": "text/x-python",
   "name": "python",
   "nbconvert_exporter": "python",
   "pygments_lexer": "ipython3",
   "version": "3.6.4"
  }
 },
 "nbformat": 4,
 "nbformat_minor": 2
}

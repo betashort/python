{
 "cells": [
  {
   "cell_type": "code",
   "execution_count": 1,
   "metadata": {},
   "outputs": [],
   "source": [
    "from janome.tokenizer import Tokenizer\n",
    "import zipfile\n",
    "import os, urllib.request as request\n",
    "import re"
   ]
  },
  {
   "cell_type": "markdown",
   "metadata": {},
   "source": [
    "# 人間失格をダウンロード"
   ]
  },
  {
   "cell_type": "code",
   "execution_count": 205,
   "metadata": {},
   "outputs": [],
   "source": [
    "#https://www.aozora.gr.jp/cards/000035/card301.html\n",
    "url = \"https://www.aozora.gr.jp/cards/000035/files/301_ruby_5915.zip\""
   ]
  },
  {
   "cell_type": "code",
   "execution_count": 3,
   "metadata": {},
   "outputs": [],
   "source": [
    "localfile = \"301_ruby_5915.zip\""
   ]
  },
  {
   "cell_type": "code",
   "execution_count": 5,
   "metadata": {},
   "outputs": [],
   "source": [
    "#request.urlretrieve(url,localfile)"
   ]
  },
  {
   "cell_type": "markdown",
   "metadata": {},
   "source": [
    "## zip操作"
   ]
  },
  {
   "cell_type": "code",
   "execution_count": 6,
   "metadata": {},
   "outputs": [
    {
     "data": {
      "text/plain": [
       "['ningen_shikkaku.txt']"
      ]
     },
     "execution_count": 6,
     "metadata": {},
     "output_type": "execute_result"
    }
   ],
   "source": [
    "zip_file = zipfile.ZipFile(localfile, 'r')\n",
    "zip_file.namelist()"
   ]
  },
  {
   "cell_type": "code",
   "execution_count": 7,
   "metadata": {},
   "outputs": [],
   "source": [
    "#展開する\n",
    "zip_file.extractall()"
   ]
  },
  {
   "cell_type": "code",
   "execution_count": 8,
   "metadata": {},
   "outputs": [],
   "source": [
    "file = zip_file.open('ningen_shikkaku.txt', 'r')\n",
    "bindata = file.read()\n",
    "textdata = bindata.decode('shift_jis')"
   ]
  },
  {
   "cell_type": "markdown",
   "metadata": {},
   "source": [
    "# 人間失格"
   ]
  },
  {
   "cell_type": "code",
   "execution_count": 9,
   "metadata": {},
   "outputs": [
    {
     "data": {
      "text/plain": [
       "'人間失格\\r\\n太宰治\\r\\n\\r\\n-------------------------------------------------------\\r\\n【テキスト中に現れる記号について】\\r\\n\\r\\n《》：ルビ\\r\\n（例）従姉妹《いとこ》\\r\\n\\r\\n｜：ルビの付く文字列の始まりを特定する記号\\r\\n（例）昔｜気質《かたぎ》\\r\\n\\r\\n［＃］：入力者注\\u3000主に外字の説明や、傍点の位置の指定\\r\\n（例）［＃３字下げ］はしがき［＃「はしがき」は大見出し］\\r\\n-------------------------------------------------------\\r\\n\\r\\n［＃３字下げ］はしがき［＃「はしがき」は大見出し］\\r\\n\\r\\n\\r\\n\\u3000私は、その男の写真を三葉、見たことがある。\\r\\n\\u3000一葉は、その男の、幼年時代、とでも言うべきであろうか、十歳前後かと推定される頃の写真であって、その子供が大勢の女のひとに取りかこまれ、（それは、その子供の姉たち、妹たち、それから、従姉妹《いとこ》たちかと想像される）庭園の池のほとりに、荒い縞の袴《はかま》をはいて立ち、首を三十度ほど左に傾け、醜く笑っている写真である。醜く？\\u3000けれども、鈍い人たち（'"
      ]
     },
     "execution_count": 9,
     "metadata": {},
     "output_type": "execute_result"
    }
   ],
   "source": [
    "textdata[:500]"
   ]
  },
  {
   "cell_type": "markdown",
   "metadata": {},
   "source": [
    "## \\rと\\n１を削除"
   ]
  },
  {
   "cell_type": "code",
   "execution_count": 13,
   "metadata": {},
   "outputs": [],
   "source": [
    "textdata = textdata.replace('\\r', '').replace('\\n', '').replace('\\u3000', '')"
   ]
  },
  {
   "cell_type": "code",
   "execution_count": 14,
   "metadata": {},
   "outputs": [
    {
     "data": {
      "text/plain": [
       "'人間失格太宰治-------------------------------------------------------【テキスト中に現れる記号について】《》：ルビ（例）従姉妹《いとこ》｜：ルビの付く文字列の始まりを特定する記号（例）昔｜気質《かたぎ》［＃］：入力者注主に外字の説明や、傍点の位置の指定（例）［＃３字下げ］はしがき［＃「はしがき」は大見出し］-------------------------------------------------------［＃３字下げ］はしがき［＃「はしがき」は大見出し］私は、その男の写真を三葉、見たことがある。一葉は、その男の、幼年時代、とでも言うべきであろうか、十歳前後かと推定される頃の写真であって、その子供が大勢の女のひとに取りかこまれ、（それは、その子供の姉たち、妹たち、それから、従姉妹《いとこ》たちかと想像される）庭園の池のほとりに、荒い縞の袴《はかま》をはいて立ち、首を三十度ほど左に傾け、醜く笑っている写真である。醜く？けれども、鈍い人たち（つまり、美醜などに関心を持たぬ人たち）は、面白くも何とも無いような顔をして、「可愛い坊ち'"
      ]
     },
     "execution_count": 14,
     "metadata": {},
     "output_type": "execute_result"
    }
   ],
   "source": [
    "textdata[:500]"
   ]
  },
  {
   "cell_type": "markdown",
   "metadata": {},
   "source": [
    "## 正規表現で文字種を判定"
   ]
  },
  {
   "cell_type": "code",
   "execution_count": 16,
   "metadata": {},
   "outputs": [
    {
     "data": {
      "text/plain": [
       "['http', 'www', 'aozora', 'gr', 'jp']"
      ]
     },
     "execution_count": 16,
     "metadata": {},
     "output_type": "execute_result"
    }
   ],
   "source": [
    "#アルファベット\n",
    "p = re.compile('[a-z]+')\n",
    "p.findall(textdata)"
   ]
  },
  {
   "cell_type": "code",
   "execution_count": 18,
   "metadata": {},
   "outputs": [
    {
     "data": {
      "text/plain": [
       "['sdfghb', 'edfgv']"
      ]
     },
     "execution_count": 18,
     "metadata": {},
     "output_type": "execute_result"
    }
   ],
   "source": [
    "p.findall(\"1234sdfghb2345edfgv\")"
   ]
  },
  {
   "cell_type": "code",
   "execution_count": 19,
   "metadata": {},
   "outputs": [
    {
     "data": {
      "text/plain": [
       "['1952',\n",
       " '27',\n",
       " '1',\n",
       " '3',\n",
       " '1985',\n",
       " '6',\n",
       " '3',\n",
       " '1',\n",
       " '1948',\n",
       " '23',\n",
       " '6',\n",
       " '8',\n",
       " '1999',\n",
       " '1',\n",
       " '1',\n",
       " '2',\n",
       " '11',\n",
       " '1',\n",
       " '9']"
      ]
     },
     "execution_count": 19,
     "metadata": {},
     "output_type": "execute_result"
    }
   ],
   "source": [
    "#数字\n",
    "p = re.compile('[1-9]+')\n",
    "p.findall(textdata)"
   ]
  },
  {
   "cell_type": "markdown",
   "metadata": {},
   "source": [
    "## 記号について"
   ]
  },
  {
   "cell_type": "markdown",
   "metadata": {},
   "source": [
    "【テキスト中に現れる記号について】《》：ルビ（例）従姉妹《いとこ》｜：ルビの付く文字列の始まりを特定する記号（例）昔｜気質《かたぎ》［＃］：入力者注主に外字の説明や、傍点の位置の指定（例）［＃３字下げ］はしがき［＃「はしがき」は大見出し］"
   ]
  },
  {
   "cell_type": "markdown",
   "metadata": {},
   "source": [
    "# クリーニング\n",
    "\n",
    "1. 《》:ルビ\n",
    "2. | : ルギのつく文字列の始まり\n",
    "3. [#] : 入力者注主に外字の説明や、傍点の位置の指定"
   ]
  },
  {
   "cell_type": "markdown",
   "metadata": {},
   "source": [
    "## [#]を抽出"
   ]
  },
  {
   "cell_type": "code",
   "execution_count": 213,
   "metadata": {},
   "outputs": [
    {
     "data": {
      "text/plain": [
       "['［＃］',\n",
       " '［＃３字下げ］',\n",
       " '［＃「はしがき」は大見出し］',\n",
       " '［＃３字下げ］',\n",
       " '［＃「はしがき」は大見出し］',\n",
       " '［＃改頁］',\n",
       " '［＃３字下げ］',\n",
       " '［＃「第一の手記」は大見出し］',\n",
       " '［＃「お互いの不信の中で」に傍点］',\n",
       " '［＃「清く明るく朗らかに」に傍点］',\n",
       " '［＃改頁］',\n",
       " '［＃３字下げ］',\n",
       " '［＃「第二の手記」は大見出し］',\n",
       " '［＃「生れた時からの日蔭者」に傍点］',\n",
       " '［＃「血肉よりも」に傍点］',\n",
       " '［＃「実感として」に傍点］',\n",
       " '［＃「なつかしい」に傍点］',\n",
       " '［＃改頁］',\n",
       " '［＃３字下げ］',\n",
       " '［＃「第三の手記」は大見出し］',\n",
       " '［＃５字下げ］',\n",
       " '［＃「一」は中見出し］',\n",
       " '［＃ここから２字下げ］',\n",
       " '［＃ここで字下げ終わり］',\n",
       " '［＃「人間は決して人間に服従しない」に傍点］',\n",
       " '［＃ここから２字下げ］',\n",
       " '［＃ここで字下げ終わり］',\n",
       " '［＃５字下げ］',\n",
       " '［＃「二」は中見出し］',\n",
       " '［＃「都会の」に傍点］',\n",
       " '［＃「やる気で」に傍点］',\n",
       " '［＃「真理」に傍点］',\n",
       " '［＃改頁］',\n",
       " '［＃３字下げ］',\n",
       " '［＃「あとがき」は大見出し］']"
      ]
     },
     "execution_count": 213,
     "metadata": {},
     "output_type": "execute_result"
    }
   ],
   "source": [
    "annotations = re.compile(r'［＃.*?］')\n",
    "annotations.findall(textdata)"
   ]
  },
  {
   "cell_type": "code",
   "execution_count": 214,
   "metadata": {},
   "outputs": [],
   "source": [
    "def clearn(text):\n",
    "    text = text.replace(\"|\", \"\")\n",
    "    #正規表現で削除する\n",
    "    text = re.sub(\"-.*?-\", \"\", text)\n",
    "    text = re.sub(\"《.*?》\", \"\", text)\n",
    "    text = re.sub(\"［＃.*?］\", \"\", text)\n",
    "    \n",
    "    return text"
   ]
  },
  {
   "cell_type": "code",
   "execution_count": 215,
   "metadata": {},
   "outputs": [],
   "source": [
    "textdata = clearn(textdata)"
   ]
  },
  {
   "cell_type": "code",
   "execution_count": 216,
   "metadata": {},
   "outputs": [],
   "source": [
    "textdata = textdata[7:]"
   ]
  },
  {
   "cell_type": "code",
   "execution_count": 246,
   "metadata": {},
   "outputs": [],
   "source": [
    "#textdata"
   ]
  },
  {
   "cell_type": "markdown",
   "metadata": {},
   "source": [
    "# 形態素解析のチュートリアル"
   ]
  },
  {
   "cell_type": "code",
   "execution_count": 182,
   "metadata": {},
   "outputs": [
    {
     "name": "stdout",
     "output_type": "stream",
     "text": [
      "私\t名詞,代名詞,一般,*,*,*,私,ワタシ,ワタシ\n",
      "の\t助詞,連体化,*,*,*,*,の,ノ,ノ\n",
      "名前\t名詞,一般,*,*,*,*,名前,ナマエ,ナマエ\n",
      "は\t助詞,係助詞,*,*,*,*,は,ハ,ワ\n",
      "、\t記号,読点,*,*,*,*,、,、,、\n",
      "β\t記号,アルファベット,*,*,*,*,β,ベータ,ベータ\n",
      "short\t名詞,一般,*,*,*,*,*\n",
      "です\t助動詞,*,*,*,特殊・デス,基本形,です,デス,デス\n",
      "。\t記号,句点,*,*,*,*,。,。,。\n",
      "ブログ\t名詞,一般,*,*,*,*,*\n",
      "を\t助詞,格助詞,一般,*,*,*,を,ヲ,ヲ\n",
      "書い\t動詞,自立,*,*,五段・カ行イ音便,連用タ接続,書く,カイ,カイ\n",
      "て\t助詞,接続助詞,*,*,*,*,て,テ,テ\n",
      "い\t動詞,非自立,*,*,一段,連用形,いる,イ,イ\n",
      "ます\t助動詞,*,*,*,特殊・マス,基本形,ます,マス,マス\n",
      "EOS\n",
      "\n"
     ]
    }
   ],
   "source": [
    "import MeCab\n",
    "text = \"私の名前は、βshortです。ブログを書いています\"\n",
    "t = MeCab.Tagger('')\n",
    "print(t.parse(text))"
   ]
  },
  {
   "cell_type": "markdown",
   "metadata": {},
   "source": [
    "## MeCab.Taggerの引数\n",
    "mecabrc:(引数なし)  \n",
    "-Ochasen: (ChaSen 互換形式)  \n",
    "-Owakati: (分かち書きのみを出力)  \n",
    "-Oyomi: (読みのみを出力)  "
   ]
  },
  {
   "cell_type": "code",
   "execution_count": 183,
   "metadata": {},
   "outputs": [
    {
     "name": "stdout",
     "output_type": "stream",
     "text": [
      "私 の 名前 は 、 β short です 。 ブログ を 書い て い ます 。 \n",
      "\n"
     ]
    }
   ],
   "source": [
    "import MeCab\n",
    "text = \"私の名前は、βshortです。ブログを書いています。\"\n",
    "tagger = MeCab.Tagger(\"-Owakati\")\n",
    "text = tagger.parse (text)\n",
    "print(text)"
   ]
  },
  {
   "cell_type": "code",
   "execution_count": 188,
   "metadata": {},
   "outputs": [
    {
     "data": {
      "text/plain": [
       "['私', 'の', '名前', 'は', 'β', 'short', 'です', 'ブログ', 'を', '書い', 'て', 'い', 'ます']"
      ]
     },
     "execution_count": 188,
     "metadata": {},
     "output_type": "execute_result"
    }
   ],
   "source": [
    "#句読点と改行の削除\n",
    "text = re.sub(r'、', '', text)\n",
    "text = re.sub(r'。', '', text)\n",
    "text = re.sub(r'\\n', '', text)\n",
    "text_list = text.split(\" \")\n",
    "N = text_list.count('')\n",
    "for i in range(N):\n",
    "    text_list.remove('')\n",
    "text_list"
   ]
  },
  {
   "cell_type": "markdown",
   "metadata": {},
   "source": [
    "## 特定の品詞だけを抽出する"
   ]
  },
  {
   "cell_type": "code",
   "execution_count": 193,
   "metadata": {},
   "outputs": [
    {
     "name": "stdout",
     "output_type": "stream",
     "text": [
      "私 名前 short ブログ\n"
     ]
    }
   ],
   "source": [
    "import MeCab\n",
    "def wakati(text):\n",
    "    tagger = MeCab.Tagger('')\n",
    "    tagger.parse('') \n",
    "    node = tagger.parseToNode(text)\n",
    "    word_list = []\n",
    "    \n",
    "    while node:\n",
    "        pos = node.feature.split(\",\")[0]\n",
    "        #品詞を選択\n",
    "        if pos in [\"名詞\"]: \n",
    "            word = node.surface\n",
    "            word_list.append(word)\n",
    "        node = node.next\n",
    "        \n",
    "    return \" \".join(word_list)\n",
    "text = \"私の名前は、βshortです。ブログを書いています。\"\n",
    "print(wakati(text))"
   ]
  },
  {
   "cell_type": "markdown",
   "metadata": {},
   "source": [
    "# BoW"
   ]
  },
  {
   "cell_type": "code",
   "execution_count": 244,
   "metadata": {},
   "outputs": [
    {
     "data": {
      "text/html": [
       "<div>\n",
       "<style scoped>\n",
       "    .dataframe tbody tr th:only-of-type {\n",
       "        vertical-align: middle;\n",
       "    }\n",
       "\n",
       "    .dataframe tbody tr th {\n",
       "        vertical-align: top;\n",
       "    }\n",
       "\n",
       "    .dataframe thead th {\n",
       "        text-align: right;\n",
       "    }\n",
       "</style>\n",
       "<table border=\"1\" class=\"dataframe\">\n",
       "  <thead>\n",
       "    <tr style=\"text-align: right;\">\n",
       "      <th></th>\n",
       "      <th>βshortです</th>\n",
       "      <th>データ分析に関するものです</th>\n",
       "      <th>ブログの内容は</th>\n",
       "      <th>ブログは</th>\n",
       "      <th>ブログを書いています</th>\n",
       "      <th>不定期で更新をしています</th>\n",
       "      <th>私の名前は</th>\n",
       "      <th>私は</th>\n",
       "    </tr>\n",
       "  </thead>\n",
       "  <tbody>\n",
       "    <tr>\n",
       "      <th>0</th>\n",
       "      <td>1</td>\n",
       "      <td>0</td>\n",
       "      <td>0</td>\n",
       "      <td>0</td>\n",
       "      <td>0</td>\n",
       "      <td>0</td>\n",
       "      <td>1</td>\n",
       "      <td>0</td>\n",
       "    </tr>\n",
       "    <tr>\n",
       "      <th>1</th>\n",
       "      <td>0</td>\n",
       "      <td>0</td>\n",
       "      <td>0</td>\n",
       "      <td>0</td>\n",
       "      <td>1</td>\n",
       "      <td>0</td>\n",
       "      <td>0</td>\n",
       "      <td>1</td>\n",
       "    </tr>\n",
       "    <tr>\n",
       "      <th>2</th>\n",
       "      <td>0</td>\n",
       "      <td>1</td>\n",
       "      <td>1</td>\n",
       "      <td>0</td>\n",
       "      <td>0</td>\n",
       "      <td>0</td>\n",
       "      <td>0</td>\n",
       "      <td>0</td>\n",
       "    </tr>\n",
       "    <tr>\n",
       "      <th>3</th>\n",
       "      <td>0</td>\n",
       "      <td>0</td>\n",
       "      <td>0</td>\n",
       "      <td>1</td>\n",
       "      <td>0</td>\n",
       "      <td>1</td>\n",
       "      <td>0</td>\n",
       "      <td>0</td>\n",
       "    </tr>\n",
       "  </tbody>\n",
       "</table>\n",
       "</div>"
      ],
      "text/plain": [
       "   βshortです  データ分析に関するものです  ブログの内容は  ブログは  ブログを書いています  不定期で更新をしています  私の名前は  私は\n",
       "0         1              0        0     0           0             0      1   0\n",
       "1         0              0        0     0           1             0      0   1\n",
       "2         0              1        1     0           0             0      0   0\n",
       "3         0              0        0     1           0             1      0   0"
      ]
     },
     "execution_count": 244,
     "metadata": {},
     "output_type": "execute_result"
    }
   ],
   "source": [
    "import pandas as pd\n",
    "from sklearn.feature_extraction.text import CountVectorizer\n",
    "import MeCab\n",
    "\n",
    "text_list = [\"私の名前は、βshortです。\",\n",
    "             \"私は、ブログを書いています。\",\n",
    "             \"ブログの内容は、データ分析に関するものです。\",\n",
    "             \"ブログは、不定期で更新をしています。\"]\n",
    "\n",
    "bow = CountVectorizer()\n",
    "count = bow.fit_transform(text_list)\n",
    "vec = count.toarray()\n",
    "name = bow.get_feature_names()\n",
    "pd.DataFrame(vec, columns=name)"
   ]
  },
  {
   "cell_type": "markdown",
   "metadata": {},
   "source": [
    "## 分かち書き"
   ]
  },
  {
   "cell_type": "code",
   "execution_count": 245,
   "metadata": {},
   "outputs": [
    {
     "data": {
      "text/html": [
       "<div>\n",
       "<style scoped>\n",
       "    .dataframe tbody tr th:only-of-type {\n",
       "        vertical-align: middle;\n",
       "    }\n",
       "\n",
       "    .dataframe tbody tr th {\n",
       "        vertical-align: top;\n",
       "    }\n",
       "\n",
       "    .dataframe thead th {\n",
       "        text-align: right;\n",
       "    }\n",
       "</style>\n",
       "<table border=\"1\" class=\"dataframe\">\n",
       "  <thead>\n",
       "    <tr style=\"text-align: right;\">\n",
       "      <th></th>\n",
       "      <th>short</th>\n",
       "      <th>です</th>\n",
       "      <th>に関する</th>\n",
       "      <th>ます</th>\n",
       "      <th>もの</th>\n",
       "      <th>データ</th>\n",
       "      <th>ブログ</th>\n",
       "      <th>不定期</th>\n",
       "      <th>内容</th>\n",
       "      <th>分析</th>\n",
       "      <th>名前</th>\n",
       "      <th>更新</th>\n",
       "      <th>書い</th>\n",
       "    </tr>\n",
       "  </thead>\n",
       "  <tbody>\n",
       "    <tr>\n",
       "      <th>0</th>\n",
       "      <td>1</td>\n",
       "      <td>1</td>\n",
       "      <td>0</td>\n",
       "      <td>0</td>\n",
       "      <td>0</td>\n",
       "      <td>0</td>\n",
       "      <td>0</td>\n",
       "      <td>0</td>\n",
       "      <td>0</td>\n",
       "      <td>0</td>\n",
       "      <td>1</td>\n",
       "      <td>0</td>\n",
       "      <td>0</td>\n",
       "    </tr>\n",
       "    <tr>\n",
       "      <th>1</th>\n",
       "      <td>0</td>\n",
       "      <td>0</td>\n",
       "      <td>0</td>\n",
       "      <td>1</td>\n",
       "      <td>0</td>\n",
       "      <td>0</td>\n",
       "      <td>1</td>\n",
       "      <td>0</td>\n",
       "      <td>0</td>\n",
       "      <td>0</td>\n",
       "      <td>0</td>\n",
       "      <td>0</td>\n",
       "      <td>1</td>\n",
       "    </tr>\n",
       "    <tr>\n",
       "      <th>2</th>\n",
       "      <td>0</td>\n",
       "      <td>1</td>\n",
       "      <td>1</td>\n",
       "      <td>0</td>\n",
       "      <td>1</td>\n",
       "      <td>1</td>\n",
       "      <td>1</td>\n",
       "      <td>0</td>\n",
       "      <td>1</td>\n",
       "      <td>1</td>\n",
       "      <td>0</td>\n",
       "      <td>0</td>\n",
       "      <td>0</td>\n",
       "    </tr>\n",
       "    <tr>\n",
       "      <th>3</th>\n",
       "      <td>0</td>\n",
       "      <td>0</td>\n",
       "      <td>0</td>\n",
       "      <td>1</td>\n",
       "      <td>0</td>\n",
       "      <td>0</td>\n",
       "      <td>1</td>\n",
       "      <td>1</td>\n",
       "      <td>0</td>\n",
       "      <td>0</td>\n",
       "      <td>0</td>\n",
       "      <td>1</td>\n",
       "      <td>0</td>\n",
       "    </tr>\n",
       "  </tbody>\n",
       "</table>\n",
       "</div>"
      ],
      "text/plain": [
       "   short  です  に関する  ます  もの  データ  ブログ  不定期  内容  分析  名前  更新  書い\n",
       "0      1   1     0   0   0    0    0    0   0   0   1   0   0\n",
       "1      0   0     0   1   0    0    1    0   0   0   0   0   1\n",
       "2      0   1     1   0   1    1    1    0   1   1   0   0   0\n",
       "3      0   0     0   1   0    0    1    1   0   0   0   1   0"
      ]
     },
     "execution_count": 245,
     "metadata": {},
     "output_type": "execute_result"
    }
   ],
   "source": [
    "import pandas as pd\n",
    "from sklearn.feature_extraction.text import CountVectorizer\n",
    "import MeCab\n",
    "\n",
    "def clear(text):\n",
    "    text = re.sub(r'、', '', text)\n",
    "    text = re.sub(r'。', '', text)\n",
    "    text = re.sub(r'\\n', '', text)\n",
    "\n",
    "    return text\n",
    "\n",
    "text_list = [\"私の名前は、βshortです。\",\n",
    "             \"私は、ブログを書いています。\",\n",
    "             \"ブログの内容は、データ分析に関するものです。\",\n",
    "             \"ブログは、不定期で更新をしています。\"]\n",
    "\n",
    "for i in range(len(text_list)):\n",
    "    tagger = MeCab.Tagger(\"-Owakati\")\n",
    "    text_list[i] = tagger.parse (text_list[i])\n",
    "    text_list[i] = clear(text_list[i])\n",
    "\n",
    "bow = CountVectorizer()\n",
    "count = bow.fit_transform(text_list)\n",
    "vec = count.toarray()\n",
    "name = bow.get_feature_names()\n",
    "pd.DataFrame(vec, columns=name)"
   ]
  },
  {
   "cell_type": "markdown",
   "metadata": {},
   "source": [
    "# TF-IDF"
   ]
  },
  {
   "cell_type": "code",
   "execution_count": 261,
   "metadata": {},
   "outputs": [
    {
     "data": {
      "text/html": [
       "<div>\n",
       "<style scoped>\n",
       "    .dataframe tbody tr th:only-of-type {\n",
       "        vertical-align: middle;\n",
       "    }\n",
       "\n",
       "    .dataframe tbody tr th {\n",
       "        vertical-align: top;\n",
       "    }\n",
       "\n",
       "    .dataframe thead th {\n",
       "        text-align: right;\n",
       "    }\n",
       "</style>\n",
       "<table border=\"1\" class=\"dataframe\">\n",
       "  <thead>\n",
       "    <tr style=\"text-align: right;\">\n",
       "      <th></th>\n",
       "      <th>short</th>\n",
       "      <th>です</th>\n",
       "      <th>に関する</th>\n",
       "      <th>ます</th>\n",
       "      <th>もの</th>\n",
       "      <th>データ</th>\n",
       "      <th>ブログ</th>\n",
       "      <th>不定期</th>\n",
       "      <th>内容</th>\n",
       "      <th>分析</th>\n",
       "      <th>名前</th>\n",
       "      <th>更新</th>\n",
       "      <th>書い</th>\n",
       "    </tr>\n",
       "  </thead>\n",
       "  <tbody>\n",
       "    <tr>\n",
       "      <th>0</th>\n",
       "      <td>1</td>\n",
       "      <td>1</td>\n",
       "      <td>0</td>\n",
       "      <td>0</td>\n",
       "      <td>0</td>\n",
       "      <td>0</td>\n",
       "      <td>0</td>\n",
       "      <td>0</td>\n",
       "      <td>0</td>\n",
       "      <td>0</td>\n",
       "      <td>1</td>\n",
       "      <td>0</td>\n",
       "      <td>0</td>\n",
       "    </tr>\n",
       "    <tr>\n",
       "      <th>1</th>\n",
       "      <td>0</td>\n",
       "      <td>0</td>\n",
       "      <td>0</td>\n",
       "      <td>1</td>\n",
       "      <td>0</td>\n",
       "      <td>0</td>\n",
       "      <td>1</td>\n",
       "      <td>0</td>\n",
       "      <td>0</td>\n",
       "      <td>0</td>\n",
       "      <td>0</td>\n",
       "      <td>0</td>\n",
       "      <td>1</td>\n",
       "    </tr>\n",
       "    <tr>\n",
       "      <th>2</th>\n",
       "      <td>0</td>\n",
       "      <td>1</td>\n",
       "      <td>1</td>\n",
       "      <td>0</td>\n",
       "      <td>1</td>\n",
       "      <td>1</td>\n",
       "      <td>1</td>\n",
       "      <td>0</td>\n",
       "      <td>1</td>\n",
       "      <td>1</td>\n",
       "      <td>0</td>\n",
       "      <td>0</td>\n",
       "      <td>0</td>\n",
       "    </tr>\n",
       "    <tr>\n",
       "      <th>3</th>\n",
       "      <td>0</td>\n",
       "      <td>0</td>\n",
       "      <td>0</td>\n",
       "      <td>1</td>\n",
       "      <td>0</td>\n",
       "      <td>0</td>\n",
       "      <td>1</td>\n",
       "      <td>1</td>\n",
       "      <td>0</td>\n",
       "      <td>0</td>\n",
       "      <td>0</td>\n",
       "      <td>1</td>\n",
       "      <td>0</td>\n",
       "    </tr>\n",
       "  </tbody>\n",
       "</table>\n",
       "</div>"
      ],
      "text/plain": [
       "   short  です  に関する  ます  もの  データ  ブログ  不定期  内容  分析  名前  更新  書い\n",
       "0      1   1     0   0   0    0    0    0   0   0   1   0   0\n",
       "1      0   0     0   1   0    0    1    0   0   0   0   0   1\n",
       "2      0   1     1   0   1    1    1    0   1   1   0   0   0\n",
       "3      0   0     0   1   0    0    1    1   0   0   0   1   0"
      ]
     },
     "execution_count": 261,
     "metadata": {},
     "output_type": "execute_result"
    }
   ],
   "source": [
    "import pandas as pd\n",
    "from sklearn.feature_extraction.text import CountVectorizer\n",
    "import MeCab\n",
    "\n",
    "def clear(text):\n",
    "    text = re.sub(r'、', '', text)\n",
    "    text = re.sub(r'。', '', text)\n",
    "    text = re.sub(r'\\n', '', text)\n",
    "\n",
    "    return text\n",
    "\n",
    "text_list = [\"私の名前は、βshortです。\",\n",
    "             \"私は、ブログを書いています。\",\n",
    "             \"ブログの内容は、データ分析に関するものです。\",\n",
    "             \"ブログは、不定期で更新をしています。\"]\n",
    "\n",
    "text_list_raw = text_list\n",
    "\n",
    "for i in range(len(text_list)):\n",
    "    tagger = MeCab.Tagger(\"-Owakati\")\n",
    "    text_list[i] = tagger.parse (text_list[i])\n",
    "    text_list[i] = clear(text_list[i])\n",
    "\n",
    "bow = CountVectorizer()\n",
    "count = bow.fit_transform(text_list)\n",
    "vec = count.toarray()\n",
    "name = bow.get_feature_names()\n",
    "pd.DataFrame(vec, columns=name)"
   ]
  },
  {
   "cell_type": "code",
   "execution_count": 270,
   "metadata": {},
   "outputs": [],
   "source": [
    "from sklearn.feature_extraction.text import TfidfTransformer\n",
    "\n",
    "tfidf = TfidfTransformer(use_idf=True, norm='l2', smooth_idf=True)\n",
    "tfidf_vec = tfidf.fit_transform(vec).toarray()\n",
    "\n",
    "df = pd.DataFrame(tfidf_vec, columns=name, index=text_list_raw)"
   ]
  },
  {
   "cell_type": "code",
   "execution_count": 271,
   "metadata": {},
   "outputs": [
    {
     "data": {
      "text/html": [
       "<div>\n",
       "<style scoped>\n",
       "    .dataframe tbody tr th:only-of-type {\n",
       "        vertical-align: middle;\n",
       "    }\n",
       "\n",
       "    .dataframe tbody tr th {\n",
       "        vertical-align: top;\n",
       "    }\n",
       "\n",
       "    .dataframe thead th {\n",
       "        text-align: right;\n",
       "    }\n",
       "</style>\n",
       "<table border=\"1\" class=\"dataframe\">\n",
       "  <thead>\n",
       "    <tr style=\"text-align: right;\">\n",
       "      <th></th>\n",
       "      <th>short</th>\n",
       "      <th>です</th>\n",
       "      <th>に関する</th>\n",
       "      <th>ます</th>\n",
       "      <th>もの</th>\n",
       "      <th>データ</th>\n",
       "      <th>ブログ</th>\n",
       "      <th>不定期</th>\n",
       "      <th>内容</th>\n",
       "      <th>分析</th>\n",
       "      <th>名前</th>\n",
       "      <th>更新</th>\n",
       "      <th>書い</th>\n",
       "    </tr>\n",
       "  </thead>\n",
       "  <tbody>\n",
       "    <tr>\n",
       "      <th>私 の 名前 は  β short です</th>\n",
       "      <td>0.617614</td>\n",
       "      <td>0.486934</td>\n",
       "      <td>0.000000</td>\n",
       "      <td>0.000000</td>\n",
       "      <td>0.000000</td>\n",
       "      <td>0.000000</td>\n",
       "      <td>0.000000</td>\n",
       "      <td>0.00000</td>\n",
       "      <td>0.000000</td>\n",
       "      <td>0.000000</td>\n",
       "      <td>0.617614</td>\n",
       "      <td>0.00000</td>\n",
       "      <td>0.000000</td>\n",
       "    </tr>\n",
       "    <tr>\n",
       "      <th>私 は  ブログ を 書い て い ます</th>\n",
       "      <td>0.000000</td>\n",
       "      <td>0.000000</td>\n",
       "      <td>0.000000</td>\n",
       "      <td>0.553492</td>\n",
       "      <td>0.000000</td>\n",
       "      <td>0.000000</td>\n",
       "      <td>0.448100</td>\n",
       "      <td>0.00000</td>\n",
       "      <td>0.000000</td>\n",
       "      <td>0.000000</td>\n",
       "      <td>0.000000</td>\n",
       "      <td>0.00000</td>\n",
       "      <td>0.702035</td>\n",
       "    </tr>\n",
       "    <tr>\n",
       "      <th>ブログ の 内容 は  データ 分析 に関する もの です</th>\n",
       "      <td>0.000000</td>\n",
       "      <td>0.321093</td>\n",
       "      <td>0.407265</td>\n",
       "      <td>0.000000</td>\n",
       "      <td>0.407265</td>\n",
       "      <td>0.407265</td>\n",
       "      <td>0.259952</td>\n",
       "      <td>0.00000</td>\n",
       "      <td>0.407265</td>\n",
       "      <td>0.407265</td>\n",
       "      <td>0.000000</td>\n",
       "      <td>0.00000</td>\n",
       "      <td>0.000000</td>\n",
       "    </tr>\n",
       "    <tr>\n",
       "      <th>ブログ は  不定期 で 更新 を し て い ます</th>\n",
       "      <td>0.000000</td>\n",
       "      <td>0.000000</td>\n",
       "      <td>0.000000</td>\n",
       "      <td>0.453005</td>\n",
       "      <td>0.000000</td>\n",
       "      <td>0.000000</td>\n",
       "      <td>0.366747</td>\n",
       "      <td>0.57458</td>\n",
       "      <td>0.000000</td>\n",
       "      <td>0.000000</td>\n",
       "      <td>0.000000</td>\n",
       "      <td>0.57458</td>\n",
       "      <td>0.000000</td>\n",
       "    </tr>\n",
       "  </tbody>\n",
       "</table>\n",
       "</div>"
      ],
      "text/plain": [
       "                                    short        です      に関する        ます  \\\n",
       "私 の 名前 は  β short です             0.617614  0.486934  0.000000  0.000000   \n",
       "私 は  ブログ を 書い て い ます             0.000000  0.000000  0.000000  0.553492   \n",
       "ブログ の 内容 は  データ 分析 に関する もの です    0.000000  0.321093  0.407265  0.000000   \n",
       "ブログ は  不定期 で 更新 を し て い ます       0.000000  0.000000  0.000000  0.453005   \n",
       "\n",
       "                                       もの       データ       ブログ      不定期  \\\n",
       "私 の 名前 は  β short です             0.000000  0.000000  0.000000  0.00000   \n",
       "私 は  ブログ を 書い て い ます             0.000000  0.000000  0.448100  0.00000   \n",
       "ブログ の 内容 は  データ 分析 に関する もの です    0.407265  0.407265  0.259952  0.00000   \n",
       "ブログ は  不定期 で 更新 を し て い ます       0.000000  0.000000  0.366747  0.57458   \n",
       "\n",
       "                                       内容        分析        名前       更新  \\\n",
       "私 の 名前 は  β short です             0.000000  0.000000  0.617614  0.00000   \n",
       "私 は  ブログ を 書い て い ます             0.000000  0.000000  0.000000  0.00000   \n",
       "ブログ の 内容 は  データ 分析 に関する もの です    0.407265  0.407265  0.000000  0.00000   \n",
       "ブログ は  不定期 で 更新 を し て い ます       0.000000  0.000000  0.000000  0.57458   \n",
       "\n",
       "                                       書い  \n",
       "私 の 名前 は  β short です             0.000000  \n",
       "私 は  ブログ を 書い て い ます             0.702035  \n",
       "ブログ の 内容 は  データ 分析 に関する もの です    0.000000  \n",
       "ブログ は  不定期 で 更新 を し て い ます       0.000000  "
      ]
     },
     "execution_count": 271,
     "metadata": {},
     "output_type": "execute_result"
    }
   ],
   "source": [
    "df"
   ]
  },
  {
   "cell_type": "markdown",
   "metadata": {},
   "source": [
    "## tableを画像出力する\n",
    "日本語は非対応"
   ]
  },
  {
   "cell_type": "code",
   "execution_count": 269,
   "metadata": {},
   "outputs": [
    {
     "data": {
      "image/png": "[encoded data removed]",
      "text/plain": [
       "<Figure size 864x576 with 1 Axes>"
      ]
     },
     "metadata": {
      "needs_background": "light"
     },
     "output_type": "display_data"
    }
   ],
   "source": [
    "import matplotlib.pyplot as plt\n",
    "fig, ax = plt.subplots(figsize=(12,8))\n",
    "ax.axis('off')\n",
    "ax.axis('tight')\n",
    "ax.table(cellText=df.values,\n",
    "         colLabels=df.columns,\n",
    "         loc='center',\n",
    "         bbox=[0,0,1,1])\n",
    "plt.savefig('table.png')"
   ]
  },
  {
   "cell_type": "markdown",
   "metadata": {},
   "source": [
    "# word2vec"
   ]
  },
  {
   "cell_type": "markdown",
   "metadata": {},
   "source": [
    "## gensim\n",
    "pip install gensim"
   ]
  },
  {
   "cell_type": "markdown",
   "metadata": {},
   "source": [
    "https://qiita.com/upura/items/3c10ff6fed4e7c3d70f0#%E3%83%86%E3%82%AD%E3%82%B9%E3%83%88%E3%82%92%E6%89%B1%E3%81%86%E3%82%B3%E3%83%B3%E3%83%9A%E3%83%86%E3%82%A3%E3%82%B7%E3%83%A7%E3%83%B3%E3%81%AE%E6%A6%82%E8%A6%81"
   ]
  },
  {
   "cell_type": "code",
   "execution_count": null,
   "metadata": {},
   "outputs": [],
   "source": [
    "from gensim.models import word2vec\n",
    "model = word2vec.Word2Vec(text_data,\n",
    "                          size=10,\n",
    "                          min_count=1,\n",
    "                          window=2,\n",
    "                          seed=7\n",
    "                         )\n",
    "model.wv['keyword']\n",
    "model.wv.most_similar('keyword')"
   ]
  },
  {
   "cell_type": "code",
   "execution_count": null,
   "metadata": {},
   "outputs": [],
   "source": []
  },
  {
   "cell_type": "code",
   "execution_count": null,
   "metadata": {},
   "outputs": [],
   "source": []
  },
  {
   "cell_type": "markdown",
   "metadata": {},
   "source": [
    "1. 文に登場する単語のベクトルの平均を取る\n",
    "```python\n",
    "np.mean(wordvec, axis=0)\n",
    "```\n",
    "2. 文に登場する単語ベクトルの各要素の最大値を取る\n",
    "```python\n",
    "np.max(wordvec, axis=0)\n",
    "```\n",
    "3. 各単語の時系列データとして扱う"
   ]
  },
  {
   "cell_type": "code",
   "execution_count": null,
   "metadata": {},
   "outputs": [],
   "source": []
  },
  {
   "cell_type": "markdown",
   "metadata": {},
   "source": [
    "http://cedro3.com/ai/word2vec-gensim/"
   ]
  },
  {
   "cell_type": "code",
   "execution_count": 288,
   "metadata": {},
   "outputs": [
    {
     "name": "stdout",
     "output_type": "stream",
     "text": [
      "('[機械学習]', 0.6342067122459412)\n",
      "('[グリッド・コンピューティング]', 0.5937871932983398)\n",
      "('[タンパク質構造予測]', 0.5929729342460632)\n",
      "('[クリティカルパス法]', 0.5910710096359253)\n",
      "('[デジタル信号処理]', 0.5864137411117554)\n",
      "('[量子コンピュータ]', 0.5849090814590454)\n",
      "('[分散コンピューティング]', 0.5813807249069214)\n",
      "('[分子動力学]', 0.577800989151001)\n",
      "('[データマイニング]', 0.5750172734260559)\n",
      "('[モンテカルロ法]', 0.5733920335769653)\n"
     ]
    }
   ],
   "source": [
    "from gensim.models import KeyedVectors\n",
    "\n",
    "model_dir = './entity_vector.model.bin'\n",
    "model = KeyedVectors.load_word2vec_format(model_dir, binary=True)\n",
    "results = model.most_similar(u'[ディープラーニング]')\n",
    "for result in results:\n",
    "    print(result)"
   ]
  },
  {
   "cell_type": "markdown",
   "metadata": {},
   "source": [
    "## 単語の引き算"
   ]
  },
  {
   "cell_type": "code",
   "execution_count": null,
   "metadata": {},
   "outputs": [],
   "source": [
    "results = model.most_similar(positive=[u'[keyword]'],\n",
    "                            negative=[u'[keyword]']\n",
    "                            )"
   ]
  },
  {
   "cell_type": "markdown",
   "metadata": {},
   "source": [
    "# ステミング"
   ]
  },
  {
   "cell_type": "code",
   "execution_count": null,
   "metadata": {},
   "outputs": [],
   "source": []
  }
 ],
 "metadata": {
  "kernelspec": {
   "display_name": "Python 3",
   "language": "python",
   "name": "python3"
  },
  "language_info": {
   "codemirror_mode": {
    "name": "ipython",
    "version": 3
   },
   "file_extension": ".py",
   "mimetype": "text/x-python",
   "name": "python",
   "nbconvert_exporter": "python",
   "pygments_lexer": "ipython3",
   "version": "3.7.5"
  }
 },
 "nbformat": 4,
 "nbformat_minor": 4
}

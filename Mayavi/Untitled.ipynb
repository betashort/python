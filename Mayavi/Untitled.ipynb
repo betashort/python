{
 "cells": [
  {
   "cell_type": "markdown",
   "metadata": {},
   "source": [
    "# Pythonとグラフ化 Mayavi \n",
    "\n",
    "3Dプロットは、matplotlibでも出来るが...  \n",
    "1. matplotlib  \n",
    "\n",
    "2.  VPython  \n",
    "標準ライブラリ  \n",
    "3. Panda3D  \n",
    "本格的な3D  \n",
    "\n",
    "4. Mayavi  \n",
    "科学計算のための3D描画ライブラリ\n",
    "\n",
    "## Mayavi  \n",
    "科学計算のための3D描画ライブラリ  \n",
    "\n"
   ]
  },
  {
   "cell_type": "code",
   "execution_count": null,
   "metadata": {},
   "outputs": [],
   "source": []
  }
 ],
 "metadata": {
  "kernelspec": {
   "display_name": "Python 3",
   "language": "python",
   "name": "python3"
  },
  "language_info": {
   "codemirror_mode": {
    "name": "ipython",
    "version": 3
   },
   "file_extension": ".py",
   "mimetype": "text/x-python",
   "name": "python",
   "nbconvert_exporter": "python",
   "pygments_lexer": "ipython3",
   "version": "3.6.8"
  }
 },
 "nbformat": 4,
 "nbformat_minor": 2
}

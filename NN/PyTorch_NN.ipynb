{
 "cells": [
  {
   "cell_type": "code",
   "execution_count": 29,
   "metadata": {},
   "outputs": [],
   "source": [
    "import torch\n",
    "from torch import nn\n",
    "from torch import optim\n",
    "\n",
    "from torch.utils.data import TensorDataset, DataLoader\n",
    "\n",
    "from sklearn.datasets import load_digits\n",
    "from sklearn.model_selection import train_test_split\n",
    "\n",
    "import matplotlib.pyplot as plt"
   ]
  },
  {
   "cell_type": "markdown",
   "metadata": {},
   "source": [
    "# PytorchでNNモデルを作成して、学習する手順\n",
    "\n",
    "## やること\n",
    "### 1. データの読み込み\n",
    "### 2. モデルの作成\n",
    "### 3. 学習\n",
    "### 4. 評価\n",
    "### 5. モデルの保存\n",
    "### 6. 検証"
   ]
  },
  {
   "cell_type": "markdown",
   "metadata": {},
   "source": [
    "# 1. データの読み込み\n",
    "\n",
    "## 使うライブラリ\n",
    "- torch.utils.data.Dataset()\n",
    "- torch.utils.data.DataLoader()\n"
   ]
  },
  {
   "cell_type": "code",
   "execution_count": null,
   "metadata": {},
   "outputs": [],
   "source": [
    "digits = load_digits()"
   ]
  },
  {
   "cell_type": "code",
   "execution_count": 31,
   "metadata": {},
   "outputs": [],
   "source": [
    "X = digits.data\n",
    "y = digits.target"
   ]
  },
  {
   "cell_type": "code",
   "execution_count": 32,
   "metadata": {},
   "outputs": [
    {
     "data": {
      "image/png": "[encoded data removed]",
      "text/plain": [
       "<Figure size 432x288 with 1 Axes>"
      ]
     },
     "metadata": {
      "needs_background": "light"
     },
     "output_type": "display_data"
    }
   ],
   "source": [
    "plt.title(f\"Label = {y[0]}\")\n",
    "plt.imshow(X[0].reshape(8,8), cmap=\"gray\")\n",
    "plt.show()"
   ]
  },
  {
   "cell_type": "code",
   "execution_count": 33,
   "metadata": {},
   "outputs": [],
   "source": [
    "#学習用データとテストデータに分ける\n",
    "X_train, X_test, y_train, y_test = train_test_split(X,y,test_size=0.2)"
   ]
  },
  {
   "cell_type": "code",
   "execution_count": 34,
   "metadata": {},
   "outputs": [],
   "source": [
    "X_train, X_valid, y_train, y_valid = train_test_split(X_train, y_train, test_size=0.3)"
   ]
  },
  {
   "cell_type": "code",
   "execution_count": 35,
   "metadata": {},
   "outputs": [],
   "source": [
    "#==== train ====\n",
    "X_train = torch.tensor(X_train, dtype=torch.float32)\n",
    "y_train = torch.tensor(y_train, dtype=torch.int64)\n",
    "\n",
    "#==== validation\n",
    "X_valid = torch.tensor(X_valid, dtype=torch.float32)\n",
    "y_valid = torch.tensor(y_valid, dtype=torch.int64)\n",
    "\n",
    "#==== test ====\n",
    "X_test = torch.tensor(X_test, dtype=torch.float32)"
   ]
  },
  {
   "cell_type": "code",
   "execution_count": 36,
   "metadata": {},
   "outputs": [],
   "source": [
    "#==== 学習用(train) ====\n",
    "ds = TensorDataset(X_train, y_train)\n",
    "train_loader = DataLoader(ds, batch_size=32, shuffle=True)\n",
    "\n",
    "#==== 検証用(valid) ====\n",
    "ds = TensorDataset(X_valid, y_valid)\n",
    "valid_loader = DataLoader(ds, batch_size=32, shuffle=True)\n",
    "\n",
    "#==== テスト用(test) ====\n",
    "ds = TensorDataset(X_test)\n",
    "test_loader = DataLoader(ds, batch_size=1, shuffle=False)"
   ]
  },
  {
   "cell_type": "code",
   "execution_count": 37,
   "metadata": {},
   "outputs": [
    {
     "name": "stdout",
     "output_type": "stream",
     "text": [
      "torch.Size([32, 64])\n",
      "tensor(3)\n"
     ]
    },
    {
     "data": {
      "image/png": "[encoded data removed]",
      "text/plain": [
       "<Figure size 432x288 with 1 Axes>"
      ]
     },
     "metadata": {
      "needs_background": "light"
     },
     "output_type": "display_data"
    }
   ],
   "source": [
    "for train, val in train_loader:\n",
    "    print(train.shape)\n",
    "    print(val[0])\n",
    "    plt.imshow(train[0].reshape(8,8), cmap=\"gray\")\n",
    "    plt.show()\n",
    "    break"
   ]
  },
  {
   "cell_type": "markdown",
   "metadata": {},
   "source": [
    "# 2. モデル作成\n",
    "\n",
    "## 使うライブラリ\n",
    "- torch.nn.Module\n",
    "- torch.nn\n",
    "\n"
   ]
  },
  {
   "cell_type": "code",
   "execution_count": 38,
   "metadata": {},
   "outputs": [],
   "source": [
    "class NNNet(nn.Module):\n",
    "    \n",
    "    def __init__(self, in_features, num_class=10):\n",
    "        super(NNNet, self).__init__()\n",
    "        \n",
    "        self.net = nn.Sequential(\n",
    "            nn.Linear(in_features, 128),\n",
    "            nn.ReLU(),\n",
    "            nn.Linear(128, 32),\n",
    "            nn.ReLU(),\n",
    "            nn.Linear(32, num_class)\n",
    "        )\n",
    "        \n",
    "    def forward(self, x):\n",
    "        out = self.net(x)\n",
    "        \n",
    "        return out\n",
    "        \n",
    "        "
   ]
  },
  {
   "cell_type": "markdown",
   "metadata": {},
   "source": [
    "# 学習\n",
    "\n",
    "## 使うもの\n",
    "- 損失関数(LossFunction)\n",
    " - torch.nn.CrossEntropyLoss()\n",
    "- 最適化関数(Optimizer)\n",
    " - torch.optim.Adam(model.paraters(), lr=learning_rate)\n",
    " \n",
    "- デバイス選択\n",
    " to\n",
    "\n",
    "## 手順\n",
    "1. deviceの選択\n",
    "- モデルの定義\n",
    "- 損失関数の定義\n",
    "- Optimizerの定義\n",
    "- データをdeviceに渡す\n",
    "- Optimizerの初期化\n",
    "- forward(処理ネットワークにデータを入力)\n",
    "- Lossを計算(損失関数に渡す)\n",
    "- backward(loss.backward())\n",
    "- Optimizerを更新(optimizer.step())"
   ]
  },
  {
   "cell_type": "code",
   "execution_count": 39,
   "metadata": {},
   "outputs": [],
   "source": [
    "#==== deviceの選択 ====\n",
    "device = torch.device(\"cuda\" if torch.cuda.is_available() else \"cpu\")\n",
    "\n",
    "#==== モデルの定義 ====\n",
    "model = NNNet(64).to(device)\n",
    "\n",
    "#==== 損失関数の定義 ====\n",
    "criterion = nn.CrossEntropyLoss()\n",
    "\n",
    "#==== Optimizerの定義 ====\n",
    "learning_rate = 0.01\n",
    "optimizer = torch.optim.Adam(model.parameters(), lr=learning_rate)"
   ]
  },
  {
   "cell_type": "code",
   "execution_count": null,
   "metadata": {},
   "outputs": [],
   "source": []
  },
  {
   "cell_type": "code",
   "execution_count": 40,
   "metadata": {},
   "outputs": [],
   "source": [
    "#==== 学習 ====\n",
    "def learning(train_loader, val_loader, num_epochs=100):\n",
    "    train_loss_list = []\n",
    "    train_acc_list = []\n",
    "    valid_loss_list = []\n",
    "    valid_acc_list = []\n",
    "    \n",
    "    for epoch in range(num_epochs):\n",
    "        train_loss = 0\n",
    "        train_acc = 0\n",
    "        valid_loss = 0\n",
    "        valid_acc = 0\n",
    "        \n",
    "        \n",
    "        #==== 学習 ====\n",
    "        model.train()\n",
    "        \n",
    "        for images, labels in train_loader:\n",
    "            #==== deviceに渡す\n",
    "            images = images.to(device)\n",
    "            labels = labels.to(device)\n",
    "            \n",
    "            #==== Optimizerの初期化 ====\n",
    "            optimizer.zero_grad()\n",
    "            \n",
    "            #==== forward processing ====\n",
    "            outputs = model(images)\n",
    "            \n",
    "            #==== Loss calcuration ====\n",
    "            loss = criterion(outputs, labels)\n",
    "            \n",
    "            #==== backward processing ====\n",
    "            loss.backward()\n",
    "            \n",
    "            #==== update optimizer ====\n",
    "            optimizer.step()\n",
    "            \n",
    "            train_loss += loss.item()\n",
    "            train_acc += (outputs.max(1)[1] == labels).sum().item()\n",
    "            \n",
    "        avg_train_loss = train_loss / len(train_loader.dataset)\n",
    "        avg_train_acc = train_acc / len(train_loader.dataset)\n",
    "        \n",
    "        #==== 検証 =====\n",
    "        model.eval()\n",
    "        \n",
    "        #重みを変えさせない\n",
    "        with torch.no_grad():\n",
    "            for images, labels in valid_loader:\n",
    "                images = images.to(device)\n",
    "                labels = labels.to(device)\n",
    "                \n",
    "                outputs = model(images)\n",
    "                loss = criterion(outputs, labels)\n",
    "                \n",
    "                valid_loss += loss.item()\n",
    "                valid_acc += (outputs.max(1)[1] == labels).sum().item()\n",
    "                \n",
    "        avg_valid_loss = valid_loss / len(valid_loader.dataset)\n",
    "        avg_valid_acc = valid_acc / len(valid_loader.dataset)\n",
    "        \n",
    "        print(f\"=====  epoch: {epoch+1} ===== \\\n",
    "        \\n train_loss: {avg_train_loss}, valid_loss: {avg_valid_loss} \\\n",
    "        \\n train_acc: {avg_train_acc}, valid_acc: {avg_valid_acc}\")\n",
    "        \n",
    "        train_loss_list.append(avg_train_loss)\n",
    "        train_acc_list.append(avg_train_acc)\n",
    "        valid_loss_list.append(avg_valid_loss)\n",
    "        valid_acc_list.append(avg_valid_acc)\n",
    "        \n",
    "    loss_list = [train_loss_list, valid_loss_list]\n",
    "    acc_list = [train_acc_list, valid_acc_list]\n",
    "    \n",
    "    return loss_list, acc_list"
   ]
  },
  {
   "cell_type": "code",
   "execution_count": 41,
   "metadata": {
    "scrolled": false
   },
   "outputs": [
    {
     "name": "stdout",
     "output_type": "stream",
     "text": [
      "=====  epoch: 1 =====         \n",
      " train_loss: 0.02888937614746948, valid_loss: 0.011557043185112652         \n",
      " train_acc: 0.6736318407960199, valid_acc: 0.8819444444444444\n",
      "=====  epoch: 2 =====         \n",
      " train_loss: 0.0067348198251641215, valid_loss: 0.005191546757015641         \n",
      " train_acc: 0.9283582089552239, valid_acc: 0.9444444444444444\n",
      "=====  epoch: 3 =====         \n",
      " train_loss: 0.002942825835290833, valid_loss: 0.004423153681542586         \n",
      " train_acc: 0.9661691542288557, valid_acc: 0.9513888888888888\n",
      "=====  epoch: 4 =====         \n",
      " train_loss: 0.004244701539291375, valid_loss: 0.004839372631438353         \n",
      " train_acc: 0.9512437810945273, valid_acc: 0.9467592592592593\n",
      "=====  epoch: 5 =====         \n",
      " train_loss: 0.0029261128142920893, valid_loss: 0.005929937620681745         \n",
      " train_acc: 0.9661691542288557, valid_acc: 0.9328703703703703\n",
      "=====  epoch: 6 =====         \n",
      " train_loss: 0.002040113377227304, valid_loss: 0.00809106269540886         \n",
      " train_acc: 0.9741293532338309, valid_acc: 0.9282407407407407\n",
      "=====  epoch: 7 =====         \n",
      " train_loss: 0.003161633406205112, valid_loss: 0.006592563810516839         \n",
      " train_acc: 0.9621890547263682, valid_acc: 0.9328703703703703\n",
      "=====  epoch: 8 =====         \n",
      " train_loss: 0.002543022710162757, valid_loss: 0.00581638350181661         \n",
      " train_acc: 0.9661691542288557, valid_acc: 0.9467592592592593\n",
      "=====  epoch: 9 =====         \n",
      " train_loss: 0.002782178636227934, valid_loss: 0.01287621802960833         \n",
      " train_acc: 0.9731343283582089, valid_acc: 0.9189814814814815\n",
      "=====  epoch: 10 =====         \n",
      " train_loss: 0.003519782337559322, valid_loss: 0.004628067463205231         \n",
      " train_acc: 0.96318407960199, valid_acc: 0.9537037037037037\n",
      "=====  epoch: 11 =====         \n",
      " train_loss: 0.003314480856257903, valid_loss: 0.0077640364222504475         \n",
      " train_acc: 0.9641791044776119, valid_acc: 0.9282407407407407\n",
      "=====  epoch: 12 =====         \n",
      " train_loss: 0.003138991542865953, valid_loss: 0.006331325274745554         \n",
      " train_acc: 0.9621890547263682, valid_acc: 0.9513888888888888\n",
      "=====  epoch: 13 =====         \n",
      " train_loss: 0.002463695718570895, valid_loss: 0.008417808516511556         \n",
      " train_acc: 0.972139303482587, valid_acc: 0.9490740740740741\n",
      "=====  epoch: 14 =====         \n",
      " train_loss: 0.0018868488446399292, valid_loss: 0.005148726580147114         \n",
      " train_acc: 0.9830845771144279, valid_acc: 0.9513888888888888\n",
      "=====  epoch: 15 =====         \n",
      " train_loss: 0.005120082831025281, valid_loss: 0.008351321180169988         \n",
      " train_acc: 0.9522388059701492, valid_acc: 0.9398148148148148\n",
      "=====  epoch: 16 =====         \n",
      " train_loss: 0.004187104589681127, valid_loss: 0.007260574697284028         \n",
      " train_acc: 0.9572139303482587, valid_acc: 0.9467592592592593\n",
      "=====  epoch: 17 =====         \n",
      " train_loss: 0.0016184618174728581, valid_loss: 0.004724622535933223         \n",
      " train_acc: 0.9751243781094527, valid_acc: 0.9583333333333334\n",
      "=====  epoch: 18 =====         \n",
      " train_loss: 0.0003398098644049866, valid_loss: 0.00439838917561617         \n",
      " train_acc: 0.9970149253731343, valid_acc: 0.9583333333333334\n",
      "=====  epoch: 19 =====         \n",
      " train_loss: 0.00013904456345744393, valid_loss: 0.003568453004171951         \n",
      " train_acc: 1.0, valid_acc: 0.9675925925925926\n",
      "=====  epoch: 20 =====         \n",
      " train_loss: 0.00033688045022702213, valid_loss: 0.004922633511341701         \n",
      " train_acc: 0.9970149253731343, valid_acc: 0.9652777777777778\n",
      "=====  epoch: 21 =====         \n",
      " train_loss: 0.00024365532802253097, valid_loss: 0.005052743537888731         \n",
      " train_acc: 0.9980099502487563, valid_acc: 0.9722222222222222\n",
      "=====  epoch: 22 =====         \n",
      " train_loss: 0.00017762417298684735, valid_loss: 0.003862072527462496         \n",
      " train_acc: 0.9980099502487563, valid_acc: 0.9745370370370371\n",
      "=====  epoch: 23 =====         \n",
      " train_loss: 6.833264872882829e-05, valid_loss: 0.0063382472892393946         \n",
      " train_acc: 1.0, valid_acc: 0.9675925925925926\n",
      "=====  epoch: 24 =====         \n",
      " train_loss: 1.612353566613014e-05, valid_loss: 0.004745701417852565         \n",
      " train_acc: 1.0, valid_acc: 0.9722222222222222\n",
      "=====  epoch: 25 =====         \n",
      " train_loss: 4.547690073580166e-06, valid_loss: 0.0042627736951780446         \n",
      " train_acc: 1.0, valid_acc: 0.9722222222222222\n",
      "=====  epoch: 26 =====         \n",
      " train_loss: 3.6967916005312476e-06, valid_loss: 0.004630740808099492         \n",
      " train_acc: 1.0, valid_acc: 0.9722222222222222\n",
      "=====  epoch: 27 =====         \n",
      " train_loss: 3.23285689117808e-06, valid_loss: 0.00428170370037993         \n",
      " train_acc: 1.0, valid_acc: 0.9722222222222222\n",
      "=====  epoch: 28 =====         \n",
      " train_loss: 2.815800854111344e-06, valid_loss: 0.004320692213957079         \n",
      " train_acc: 1.0, valid_acc: 0.9722222222222222\n",
      "=====  epoch: 29 =====         \n",
      " train_loss: 2.7869863493037317e-06, valid_loss: 0.0042648660002134456         \n",
      " train_acc: 1.0, valid_acc: 0.9722222222222222\n",
      "=====  epoch: 30 =====         \n",
      " train_loss: 2.3099949711156763e-06, valid_loss: 0.0042420914986257266         \n",
      " train_acc: 1.0, valid_acc: 0.9722222222222222\n",
      "=====  epoch: 31 =====         \n",
      " train_loss: 2.129764575487688e-06, valid_loss: 0.0042626068577562735         \n",
      " train_acc: 1.0, valid_acc: 0.9722222222222222\n",
      "=====  epoch: 32 =====         \n",
      " train_loss: 2.057973156003406e-06, valid_loss: 0.004248016976256858         \n",
      " train_acc: 1.0, valid_acc: 0.9722222222222222\n",
      "=====  epoch: 33 =====         \n",
      " train_loss: 1.915541824317514e-06, valid_loss: 0.0043996449640952015         \n",
      " train_acc: 1.0, valid_acc: 0.9722222222222222\n",
      "=====  epoch: 34 =====         \n",
      " train_loss: 1.7227022612815966e-06, valid_loss: 0.004647842053288885         \n",
      " train_acc: 1.0, valid_acc: 0.9722222222222222\n",
      "=====  epoch: 35 =====         \n",
      " train_loss: 1.6559697434641562e-06, valid_loss: 0.004412424251010331         \n",
      " train_acc: 1.0, valid_acc: 0.9722222222222222\n",
      "=====  epoch: 36 =====         \n",
      " train_loss: 1.5926365698425653e-06, valid_loss: 0.0046185596269476         \n",
      " train_acc: 1.0, valid_acc: 0.9722222222222222\n",
      "=====  epoch: 37 =====         \n",
      " train_loss: 1.447724404141949e-06, valid_loss: 0.004269683341910287         \n",
      " train_acc: 1.0, valid_acc: 0.9722222222222222\n",
      "=====  epoch: 38 =====         \n",
      " train_loss: 1.3706172291588686e-06, valid_loss: 0.004271380337888365         \n",
      " train_acc: 1.0, valid_acc: 0.9722222222222222\n",
      "=====  epoch: 39 =====         \n",
      " train_loss: 1.3038088564573074e-06, valid_loss: 0.004278654216677667         \n",
      " train_acc: 1.0, valid_acc: 0.9722222222222222\n",
      "=====  epoch: 40 =====         \n",
      " train_loss: 1.2505845777875731e-06, valid_loss: 0.004282013140170791         \n",
      " train_acc: 1.0, valid_acc: 0.9722222222222222\n",
      "=====  epoch: 41 =====         \n",
      " train_loss: 1.1893240879820481e-06, valid_loss: 0.004287599294684696         \n",
      " train_acc: 1.0, valid_acc: 0.9722222222222222\n",
      "=====  epoch: 42 =====         \n",
      " train_loss: 1.202844729600181e-06, valid_loss: 0.004281731174732731         \n",
      " train_acc: 1.0, valid_acc: 0.9722222222222222\n",
      "=====  epoch: 43 =====         \n",
      " train_loss: 1.1317251647682975e-06, valid_loss: 0.0042902966720669575         \n",
      " train_acc: 1.0, valid_acc: 0.9722222222222222\n",
      "=====  epoch: 44 =====         \n",
      " train_loss: 1.052960112277635e-06, valid_loss: 0.0042913719889412505         \n",
      " train_acc: 1.0, valid_acc: 0.9722222222222222\n",
      "=====  epoch: 45 =====         \n",
      " train_loss: 1.0331680725393926e-06, valid_loss: 0.004292467160498446         \n",
      " train_acc: 1.0, valid_acc: 0.9745370370370371\n",
      "=====  epoch: 46 =====         \n",
      " train_loss: 9.8098403844604e-07, valid_loss: 0.004453897551667507         \n",
      " train_acc: 1.0, valid_acc: 0.9745370370370371\n",
      "=====  epoch: 47 =====         \n",
      " train_loss: 9.555521490423489e-07, valid_loss: 0.005095695078963487         \n",
      " train_acc: 1.0, valid_acc: 0.9745370370370371\n",
      "=====  epoch: 48 =====         \n",
      " train_loss: 9.198502661391429e-07, valid_loss: 0.005081739841965632         \n",
      " train_acc: 1.0, valid_acc: 0.9745370370370371\n",
      "=====  epoch: 49 =====         \n",
      " train_loss: 8.840992712573292e-07, valid_loss: 0.005035698888638796         \n",
      " train_acc: 1.0, valid_acc: 0.9745370370370371\n",
      "=====  epoch: 50 =====         \n",
      " train_loss: 8.572455227884356e-07, valid_loss: 0.004312752061431874         \n",
      " train_acc: 1.0, valid_acc: 0.9745370370370371\n",
      "=====  epoch: 51 =====         \n",
      " train_loss: 8.322239978608096e-07, valid_loss: 0.004346908233266596         \n",
      " train_acc: 1.0, valid_acc: 0.9745370370370371\n",
      "=====  epoch: 52 =====         \n",
      " train_loss: 8.444310616544304e-07, valid_loss: 0.004322713516249042         \n",
      " train_acc: 1.0, valid_acc: 0.9745370370370371\n"
     ]
    },
    {
     "name": "stdout",
     "output_type": "stream",
     "text": [
      "=====  epoch: 53 =====         \n",
      " train_loss: 7.863762509409006e-07, valid_loss: 0.004319728066986028         \n",
      " train_acc: 1.0, valid_acc: 0.9745370370370371\n",
      "=====  epoch: 54 =====         \n",
      " train_loss: 7.622076039204339e-07, valid_loss: 0.00432294300831186         \n",
      " train_acc: 1.0, valid_acc: 0.9745370370370371\n",
      "=====  epoch: 55 =====         \n",
      " train_loss: 7.349400079126599e-07, valid_loss: 0.004858260070288149         \n",
      " train_acc: 1.0, valid_acc: 0.9745370370370371\n",
      "=====  epoch: 56 =====         \n",
      " train_loss: 8.038574217390482e-07, valid_loss: 0.004339646132439999         \n",
      " train_acc: 1.0, valid_acc: 0.9745370370370371\n",
      "=====  epoch: 57 =====         \n",
      " train_loss: 7.015379813466681e-07, valid_loss: 0.004341322923925906         \n",
      " train_acc: 1.0, valid_acc: 0.9745370370370371\n",
      "=====  epoch: 58 =====         \n",
      " train_loss: 6.815601875530602e-07, valid_loss: 0.004477948810138817         \n",
      " train_acc: 1.0, valid_acc: 0.9745370370370371\n",
      "=====  epoch: 59 =====         \n",
      " train_loss: 6.59415940983073e-07, valid_loss: 0.004391829026429959         \n",
      " train_acc: 1.0, valid_acc: 0.9745370370370371\n",
      "=====  epoch: 60 =====         \n",
      " train_loss: 6.62338305320548e-07, valid_loss: 0.004355652196304207         \n",
      " train_acc: 1.0, valid_acc: 0.9745370370370371\n",
      "=====  epoch: 61 =====         \n",
      " train_loss: 6.455599386347093e-07, valid_loss: 0.004362640499085434         \n",
      " train_acc: 1.0, valid_acc: 0.9745370370370371\n",
      "=====  epoch: 62 =====         \n",
      " train_loss: 6.263170379400467e-07, valid_loss: 0.004374257381030062         \n",
      " train_acc: 1.0, valid_acc: 0.9745370370370371\n",
      "=====  epoch: 63 =====         \n",
      " train_loss: 6.410707230125849e-07, valid_loss: 0.00438368639223612         \n",
      " train_acc: 1.0, valid_acc: 0.9745370370370371\n",
      "=====  epoch: 64 =====         \n",
      " train_loss: 5.818064890385656e-07, valid_loss: 0.004516534373612591         \n",
      " train_acc: 1.0, valid_acc: 0.9745370370370371\n",
      "=====  epoch: 65 =====         \n",
      " train_loss: 5.66040350250248e-07, valid_loss: 0.005153361454871528         \n",
      " train_acc: 1.0, valid_acc: 0.9745370370370371\n",
      "=====  epoch: 66 =====         \n",
      " train_loss: 6.361487721586225e-07, valid_loss: 0.004877668178879604         \n",
      " train_acc: 1.0, valid_acc: 0.9745370370370371\n",
      "=====  epoch: 67 =====         \n",
      " train_loss: 5.389940228251453e-07, valid_loss: 0.004395270799197651         \n",
      " train_acc: 1.0, valid_acc: 0.9745370370370371\n",
      "=====  epoch: 68 =====         \n",
      " train_loss: 5.234053666677412e-07, valid_loss: 0.0044012087306300645         \n",
      " train_acc: 1.0, valid_acc: 0.9745370370370371\n",
      "=====  epoch: 69 =====         \n",
      " train_loss: 5.107772624828455e-07, valid_loss: 0.0050394421608685935         \n",
      " train_acc: 1.0, valid_acc: 0.9745370370370371\n",
      "=====  epoch: 70 =====         \n",
      " train_loss: 5.020972932371066e-07, valid_loss: 0.004412982833332587         \n",
      " train_acc: 1.0, valid_acc: 0.9745370370370371\n",
      "=====  epoch: 71 =====         \n",
      " train_loss: 5.24227546484507e-07, valid_loss: 0.004414433377453027         \n",
      " train_acc: 1.0, valid_acc: 0.9745370370370371\n",
      "=====  epoch: 72 =====         \n",
      " train_loss: 4.811406859740844e-07, valid_loss: 0.004425290116184492         \n",
      " train_acc: 1.0, valid_acc: 0.9745370370370371\n",
      "=====  epoch: 73 =====         \n",
      " train_loss: 4.79924894723546e-07, valid_loss: 0.004431622175700424         \n",
      " train_acc: 1.0, valid_acc: 0.9745370370370371\n",
      "=====  epoch: 74 =====         \n",
      " train_loss: 4.5455135314150923e-07, valid_loss: 0.00443176059596866         \n",
      " train_acc: 1.0, valid_acc: 0.9745370370370371\n",
      "=====  epoch: 75 =====         \n",
      " train_loss: 4.446306227276666e-07, valid_loss: 0.004436289506421839         \n",
      " train_acc: 1.0, valid_acc: 0.9745370370370371\n",
      "=====  epoch: 76 =====         \n",
      " train_loss: 4.3689102629239424e-07, valid_loss: 0.004443124176286044         \n",
      " train_acc: 1.0, valid_acc: 0.9745370370370371\n",
      "=====  epoch: 77 =====         \n",
      " train_loss: 4.415063542852584e-07, valid_loss: 0.004449257959206703         \n",
      " train_acc: 1.0, valid_acc: 0.9745370370370371\n",
      "=====  epoch: 78 =====         \n",
      " train_loss: 4.1184439229748285e-07, valid_loss: 0.00445818753595867         \n",
      " train_acc: 1.0, valid_acc: 0.9745370370370371\n",
      "=====  epoch: 79 =====         \n",
      " train_loss: 4.0372972250962396e-07, valid_loss: 0.00446140886916853         \n",
      " train_acc: 1.0, valid_acc: 0.9745370370370371\n",
      "=====  epoch: 80 =====         \n",
      " train_loss: 3.9832000922289615e-07, valid_loss: 0.004471104335906333         \n",
      " train_acc: 1.0, valid_acc: 0.9745370370370371\n",
      "=====  epoch: 81 =====         \n",
      " train_loss: 3.9095045753382336e-07, valid_loss: 0.004477723820762684         \n",
      " train_acc: 1.0, valid_acc: 0.9745370370370371\n",
      "=====  epoch: 82 =====         \n",
      " train_loss: 3.8455832713116794e-07, valid_loss: 0.004481466841416141         \n",
      " train_acc: 1.0, valid_acc: 0.9745370370370371\n",
      "=====  epoch: 83 =====         \n",
      " train_loss: 3.7256745605390194e-07, valid_loss: 0.005276021086939619         \n",
      " train_acc: 1.0, valid_acc: 0.9745370370370371\n",
      "=====  epoch: 84 =====         \n",
      " train_loss: 3.6311955252461473e-07, valid_loss: 0.00497931968193444         \n",
      " train_acc: 1.0, valid_acc: 0.9745370370370371\n",
      "=====  epoch: 85 =====         \n",
      " train_loss: 3.5607577620993566e-07, valid_loss: 0.00449478174807183         \n",
      " train_acc: 1.0, valid_acc: 0.9745370370370371\n",
      "=====  epoch: 86 =====         \n",
      " train_loss: 3.4949263141668473e-07, valid_loss: 0.004500203110644589         \n",
      " train_acc: 1.0, valid_acc: 0.9745370370370371\n",
      "=====  epoch: 87 =====         \n",
      " train_loss: 3.477997226957937e-07, valid_loss: 0.005394698782049966         \n",
      " train_acc: 1.0, valid_acc: 0.9745370370370371\n",
      "=====  epoch: 88 =====         \n",
      " train_loss: 3.4989016747846534e-07, valid_loss: 0.004512860476133085         \n",
      " train_acc: 1.0, valid_acc: 0.9745370370370371\n",
      "=====  epoch: 89 =====         \n",
      " train_loss: 3.265173541985317e-07, valid_loss: 0.004515764231458492         \n",
      " train_acc: 1.0, valid_acc: 0.9745370370370371\n",
      "=====  epoch: 90 =====         \n",
      " train_loss: 3.19715701578081e-07, valid_loss: 0.004517250988533279         \n",
      " train_acc: 1.0, valid_acc: 0.9745370370370371\n",
      "=====  epoch: 91 =====         \n",
      " train_loss: 3.4750500911069314e-07, valid_loss: 0.004524302860870511         \n",
      " train_acc: 1.0, valid_acc: 0.9745370370370371\n",
      "=====  epoch: 92 =====         \n",
      " train_loss: 3.239521703194011e-07, valid_loss: 0.004526770187019928         \n",
      " train_acc: 1.0, valid_acc: 0.9745370370370371\n",
      "=====  epoch: 93 =====         \n",
      " train_loss: 3.0290985141030646e-07, valid_loss: 0.005000911900281106         \n",
      " train_acc: 1.0, valid_acc: 0.9745370370370371\n",
      "=====  epoch: 94 =====         \n",
      " train_loss: 2.9709866374612115e-07, valid_loss: 0.006207953558642927         \n",
      " train_acc: 1.0, valid_acc: 0.9745370370370371\n",
      "=====  epoch: 95 =====         \n",
      " train_loss: 2.9012574756070447e-07, valid_loss: 0.004542151939751765         \n",
      " train_acc: 1.0, valid_acc: 0.9745370370370371\n",
      "=====  epoch: 96 =====         \n",
      " train_loss: 2.841530818624793e-07, valid_loss: 0.005372850584982085         \n",
      " train_acc: 1.0, valid_acc: 0.9745370370370371\n",
      "=====  epoch: 97 =====         \n",
      " train_loss: 2.783667302121365e-07, valid_loss: 0.00455134873605116         \n",
      " train_acc: 1.0, valid_acc: 0.9745370370370371\n",
      "=====  epoch: 98 =====         \n",
      " train_loss: 2.7261181272497107e-07, valid_loss: 0.004648159221553063         \n",
      " train_acc: 1.0, valid_acc: 0.9745370370370371\n",
      "=====  epoch: 99 =====         \n",
      " train_loss: 2.722587406742152e-07, valid_loss: 0.004589590076176575         \n",
      " train_acc: 1.0, valid_acc: 0.9745370370370371\n",
      "=====  epoch: 100 =====         \n",
      " train_loss: 2.632593431379141e-07, valid_loss: 0.004571108975787402         \n",
      " train_acc: 1.0, valid_acc: 0.9745370370370371\n"
     ]
    }
   ],
   "source": [
    "loss_list, acc_list = learning(train_loader, valid_loader)"
   ]
  },
  {
   "cell_type": "markdown",
   "metadata": {},
   "source": [
    "# 学習の過程"
   ]
  },
  {
   "cell_type": "code",
   "execution_count": 42,
   "metadata": {},
   "outputs": [
    {
     "data": {
      "image/png": "[encoded data removed]",
      "text/plain": [
       "<Figure size 1152x576 with 2 Axes>"
      ]
     },
     "metadata": {
      "needs_background": "light"
     },
     "output_type": "display_data"
    }
   ],
   "source": [
    "plt.figure(figsize=(16, 8))\n",
    "\n",
    "plt.subplot(2, 1, 1)\n",
    "plt.title(\"Loss\")\n",
    "plt.plot(loss_list[0], label=\"train\")\n",
    "plt.plot(loss_list[1], label=\"valid\")\n",
    "plt.legend()\n",
    "\n",
    "plt.subplot(2, 1, 2)\n",
    "plt.title(\"ACC\")\n",
    "plt.plot(acc_list[0], label=\"train\")\n",
    "plt.plot(acc_list[1], label=\"valid\")\n",
    "plt.legend()\n",
    "\n",
    "plt.show()"
   ]
  },
  {
   "cell_type": "markdown",
   "metadata": {},
   "source": [
    "# モデルの保存"
   ]
  },
  {
   "cell_type": "code",
   "execution_count": 186,
   "metadata": {},
   "outputs": [],
   "source": [
    "#====== 保存 =======\n",
    "torch.save(model.state_dict(), \"model.pth\")"
   ]
  },
  {
   "cell_type": "markdown",
   "metadata": {},
   "source": [
    "## モデルのロード"
   ]
  },
  {
   "cell_type": "code",
   "execution_count": 21,
   "metadata": {},
   "outputs": [
    {
     "data": {
      "text/plain": [
       "<All keys matched successfully>"
      ]
     },
     "execution_count": 21,
     "metadata": {},
     "output_type": "execute_result"
    }
   ],
   "source": [
    "model = NNNet(64)\n",
    "#====== ロード =======\n",
    "model.load_state_dict(torch.load(\"model.pth\", map_location=device))"
   ]
  },
  {
   "cell_type": "markdown",
   "metadata": {},
   "source": [
    "# 検証"
   ]
  },
  {
   "cell_type": "code",
   "execution_count": 22,
   "metadata": {},
   "outputs": [],
   "source": [
    "def prediction(test_loader):\n",
    "    pred_list = []\n",
    "    model.eval()\n",
    "    with torch.no_grad():\n",
    "        for images in test_loader:\n",
    "            images = images[0].to(device)\n",
    "            outputs = model.forward(images)\n",
    "            _, pred = torch.max(outputs.data, 1)\n",
    "            pred_list.append(pred.item())\n",
    "    return pred_list"
   ]
  },
  {
   "cell_type": "code",
   "execution_count": 23,
   "metadata": {},
   "outputs": [],
   "source": [
    "pred = prediction(test_loader)"
   ]
  },
  {
   "cell_type": "code",
   "execution_count": 24,
   "metadata": {},
   "outputs": [],
   "source": [
    "from sklearn.metrics import accuracy_score"
   ]
  },
  {
   "cell_type": "code",
   "execution_count": 25,
   "metadata": {},
   "outputs": [
    {
     "data": {
      "text/plain": [
       "0.9944444444444445"
      ]
     },
     "execution_count": 25,
     "metadata": {},
     "output_type": "execute_result"
    }
   ],
   "source": [
    "accuracy_score(pred, y_test)"
   ]
  },
  {
   "cell_type": "code",
   "execution_count": 28,
   "metadata": {},
   "outputs": [
    {
     "data": {
      "image/png": "[encoded data removed]",
      "text/plain": [
       "<Figure size 432x288 with 1 Axes>"
      ]
     },
     "metadata": {
      "needs_background": "light"
     },
     "output_type": "display_data"
    }
   ],
   "source": [
    "for i, image in enumerate(test_loader):\n",
    "    plt.title(pred[i])\n",
    "    plt.imshow(image[0].reshape(8,8))\n",
    "    plt.show()\n",
    "    break"
   ]
  },
  {
   "cell_type": "code",
   "execution_count": null,
   "metadata": {},
   "outputs": [],
   "source": []
  }
 ],
 "metadata": {
  "kernelspec": {
   "display_name": "Python 3",
   "language": "python",
   "name": "python3"
  },
  "language_info": {
   "codemirror_mode": {
    "name": "ipython",
    "version": 3
   },
   "file_extension": ".py",
   "mimetype": "text/x-python",
   "name": "python",
   "nbconvert_exporter": "python",
   "pygments_lexer": "ipython3",
   "version": "3.7.5"
  }
 },
 "nbformat": 4,
 "nbformat_minor": 2
}

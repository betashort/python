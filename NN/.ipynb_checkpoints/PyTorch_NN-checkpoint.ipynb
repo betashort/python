{
 "cells": [
  {
   "cell_type": "code",
   "execution_count": 1,
   "metadata": {},
   "outputs": [],
   "source": [
    "import torch\n",
    "from torch import nn\n",
    "from torch import optim\n",
    "\n",
    "from torch.utils.data import TensorDataset, DataLoader\n",
    "\n",
    "from sklearn.datasets import load_digits\n",
    "from sklearn.model_selection import train_test_split\n",
    "\n",
    "import matplotlib.pyplot as plt"
   ]
  },
  {
   "cell_type": "markdown",
   "metadata": {},
   "source": [
    "# PytorchでNNモデルを作成して、学習する手順\n",
    "\n",
    "## やること\n",
    "### 1. データの読み込み\n",
    "### 2. モデルの作成\n",
    "### 3. 学習\n",
    "### 4. 評価\n",
    "### 5. モデルの保存\n",
    "### 6. 検証"
   ]
  },
  {
   "cell_type": "markdown",
   "metadata": {},
   "source": [
    "# 1. データの読み込み\n",
    "\n",
    "## 使うライブラリ\n",
    "- torch.utils.data.Dataset()\n",
    "- torch.utils.data.DataLoader()\n"
   ]
  },
  {
   "cell_type": "code",
   "execution_count": 2,
   "metadata": {},
   "outputs": [],
   "source": [
    "digits = load_digits()"
   ]
  },
  {
   "cell_type": "code",
   "execution_count": 3,
   "metadata": {},
   "outputs": [],
   "source": [
    "X = digits.data\n",
    "y = digits.target"
   ]
  },
  {
   "cell_type": "code",
   "execution_count": 4,
   "metadata": {},
   "outputs": [
    {
     "data": {
      "image/png": "[encoded data removed]",
      "text/plain": [
       "<Figure size 432x288 with 1 Axes>"
      ]
     },
     "metadata": {
      "needs_background": "light"
     },
     "output_type": "display_data"
    }
   ],
   "source": [
    "plt.title(f\"Label = {y[0]}\")\n",
    "plt.imshow(X[0].reshape(8,8), cmap=\"gray\")\n",
    "plt.show()"
   ]
  },
  {
   "cell_type": "code",
   "execution_count": 5,
   "metadata": {},
   "outputs": [],
   "source": [
    "#学習用データとテストデータに分ける\n",
    "X_train, X_test, y_train, y_test = train_test_split(X,y,test_size=0.2)"
   ]
  },
  {
   "cell_type": "code",
   "execution_count": 6,
   "metadata": {},
   "outputs": [],
   "source": [
    "X_train, X_valid, y_train, y_valid = train_test_split(X_train, y_train, test_size=0.3)"
   ]
  },
  {
   "cell_type": "code",
   "execution_count": 7,
   "metadata": {},
   "outputs": [],
   "source": [
    "#==== train ====\n",
    "X_train = torch.tensor(X_train, dtype=torch.float32)\n",
    "y_train = torch.tensor(y_train, dtype=torch.int64)\n",
    "\n",
    "#==== validation\n",
    "X_valid = torch.tensor(X_valid, dtype=torch.float32)\n",
    "y_valid = torch.tensor(y_valid, dtype=torch.int64)\n",
    "\n",
    "#==== test ====\n",
    "X_test = torch.tensor(X_test, dtype=torch.float32)"
   ]
  },
  {
   "cell_type": "code",
   "execution_count": 8,
   "metadata": {},
   "outputs": [],
   "source": [
    "#==== 学習用(train) ====\n",
    "ds = TensorDataset(X_train, y_train)\n",
    "train_loader = DataLoader(ds, batch_size=32, shuffle=True)\n",
    "\n",
    "#==== 検証用(valid) ====\n",
    "ds = TensorDataset(X_valid, y_valid)\n",
    "valid_loader = DataLoader(ds, batch_size=32, shuffle=True)\n",
    "\n",
    "#==== テスト用(test) ====\n",
    "ds = TensorDataset(X_test)\n",
    "test_loader = DataLoader(ds, batch_size=1, shuffle=False)"
   ]
  },
  {
   "cell_type": "code",
   "execution_count": 9,
   "metadata": {},
   "outputs": [
    {
     "name": "stdout",
     "output_type": "stream",
     "text": [
      "torch.Size([32, 64])\n",
      "tensor(4)\n"
     ]
    },
    {
     "data": {
      "image/png": "[encoded data removed]",
      "text/plain": [
       "<Figure size 432x288 with 1 Axes>"
      ]
     },
     "metadata": {
      "needs_background": "light"
     },
     "output_type": "display_data"
    }
   ],
   "source": [
    "for train, val in train_loader:\n",
    "    print(train.shape)\n",
    "    print(val[0])\n",
    "    plt.imshow(train[0].reshape(8,8), cmap=\"gray\")\n",
    "    plt.show()\n",
    "    break"
   ]
  },
  {
   "cell_type": "markdown",
   "metadata": {},
   "source": [
    "# 2. モデル作成\n",
    "\n",
    "## 使うライブラリ\n",
    "- torch.nn.Module\n",
    "- torch.nn\n",
    "\n"
   ]
  },
  {
   "cell_type": "code",
   "execution_count": 10,
   "metadata": {},
   "outputs": [],
   "source": [
    "class NNNet(nn.Module):\n",
    "    \n",
    "    def __init__(self, in_features, num_class=10):\n",
    "        super(NNNet, self).__init__()\n",
    "        \n",
    "        self.net = nn.Sequential(\n",
    "            nn.Linear(in_features, 128),\n",
    "            nn.ReLU(),\n",
    "            nn.Linear(128, 32),\n",
    "            nn.ReLU(),\n",
    "            nn.Linear(32, num_class)\n",
    "        )\n",
    "        \n",
    "    def forward(self, x):\n",
    "        out = self.net(x)\n",
    "        \n",
    "        return out\n",
    "        \n",
    "        "
   ]
  },
  {
   "cell_type": "markdown",
   "metadata": {},
   "source": [
    "# 学習\n",
    "\n",
    "## 使うもの\n",
    "- 損失関数(LossFunction)\n",
    " - torch.nn.CrossEntropyLoss()\n",
    "- 最適化関数(Optimizer)\n",
    " - torch.optim.Adam(model.paraters(), lr=learning_rate)\n",
    " \n",
    "- デバイス選択\n",
    " to\n",
    "\n",
    "## 手順\n",
    "1. deviceの選択\n",
    "- モデルの定義\n",
    "- 損失関数の定義\n",
    "- Optimizerの定義\n",
    "- データをdeviceに渡す\n",
    "- Optimizerの初期化\n",
    "- forward(処理ネットワークにデータを入力)\n",
    "- Lossを計算(損失関数に渡す)\n",
    "- backward(loss.backward())\n",
    "- Optimizerを更新(optimizer.step())"
   ]
  },
  {
   "cell_type": "code",
   "execution_count": 11,
   "metadata": {},
   "outputs": [],
   "source": [
    "#==== deviceの選択 ====\n",
    "device = torch.device(\"cuda\" if torch.cuda.is_available() else \"cpu\")\n",
    "\n",
    "#==== モデルの定義 ====\n",
    "model = NNNet(64).to(device)\n",
    "\n",
    "#==== 損失関数の定義 ====\n",
    "criterion = nn.CrossEntropyLoss()\n",
    "\n",
    "#==== Optimizerの定義 ====\n",
    "learning_rate = 0.01\n",
    "optimizer = torch.optim.Adam(model.parameters(), lr=learning_rate)"
   ]
  },
  {
   "cell_type": "code",
   "execution_count": 12,
   "metadata": {},
   "outputs": [],
   "source": [
    "#==== 学習 ====\n",
    "def learning(train_loader, val_loader, num_epochs=100):\n",
    "    train_loss_list = []\n",
    "    train_acc_list = []\n",
    "    valid_loss_list = []\n",
    "    valid_acc_list = []\n",
    "    \n",
    "    for epoch in range(num_epochs):\n",
    "        train_loss = 0\n",
    "        train_acc = 0\n",
    "        valid_loss = 0\n",
    "        valid_acc = 0\n",
    "        \n",
    "        \n",
    "        #==== 学習 ====\n",
    "        model.train()\n",
    "        \n",
    "        for images, labels in train_loader:\n",
    "            #==== deviceに渡す\n",
    "            images = images.to(device)\n",
    "            labels = labels.to(device)\n",
    "            \n",
    "            #==== Optimizerの初期化 ====\n",
    "            optimizer.zero_grad()\n",
    "            \n",
    "            #==== forward processing ====\n",
    "            outputs = model(images)\n",
    "            \n",
    "            #==== Loss calcuration ====\n",
    "            loss = criterion(outputs, labels)\n",
    "            \n",
    "            #==== backward processing ====\n",
    "            loss.backward()\n",
    "            \n",
    "            #==== update optimizer ====\n",
    "            optimizer.step()\n",
    "            \n",
    "            train_loss += loss.item()\n",
    "            train_acc += (outputs.max(1)[1] == labels).sum().item()\n",
    "            \n",
    "        avg_train_loss = train_loss / len(train_loader.dataset)\n",
    "        avg_train_acc = train_acc / len(train_loader.dataset)\n",
    "        \n",
    "        #==== 検証 =====\n",
    "        model.eval()\n",
    "        \n",
    "        #重みを変えさせない\n",
    "        with torch.no_grad():\n",
    "            for images, labels in valid_loader:\n",
    "                images = images.to(device)\n",
    "                labels = labels.to(device)\n",
    "                \n",
    "                outputs = model(images)\n",
    "                loss = criterion(outputs, labels)\n",
    "                \n",
    "                valid_loss += loss.item()\n",
    "                valid_acc += (outputs.max(1)[1] == labels).sum().item()\n",
    "                \n",
    "        avg_valid_loss = valid_loss / len(valid_loader.dataset)\n",
    "        avg_valid_acc = valid_acc / len(valid_loader.dataset)\n",
    "        \n",
    "        print(f\"=====  epoch: {epoch+1} ===== \\\n",
    "        \\n train_loss: {avg_train_loss}, valid_loss: {avg_valid_loss} \\\n",
    "        \\n train_acc: {avg_train_acc}, valid_acc: {avg_valid_acc}\")\n",
    "        \n",
    "        train_loss_list.append(avg_train_loss)\n",
    "        train_acc_list.append(avg_train_acc)\n",
    "        valid_loss_list.append(avg_valid_loss)\n",
    "        valid_acc_list.append(avg_valid_acc)\n",
    "        \n",
    "    loss_list = [train_loss_list, valid_loss_list]\n",
    "    acc_list = [train_acc_list, valid_acc_list]\n",
    "    \n",
    "    return loss_list, acc_list"
   ]
  },
  {
   "cell_type": "code",
   "execution_count": 13,
   "metadata": {
    "scrolled": true
   },
   "outputs": [
    {
     "name": "stdout",
     "output_type": "stream",
     "text": [
      "=====  epoch: 1 =====         \n",
      " train_loss: 0.028541882402861297, valid_loss: 0.011163744609802961         \n",
      " train_acc: 0.7064676616915423, valid_acc: 0.8912037037037037\n",
      "=====  epoch: 2 =====         \n",
      " train_loss: 0.007897409722579652, valid_loss: 0.008232864042468093         \n",
      " train_acc: 0.9203980099502488, valid_acc: 0.9212962962962963\n",
      "=====  epoch: 3 =====         \n",
      " train_loss: 0.005914402986640361, valid_loss: 0.0049184791364327626         \n",
      " train_acc: 0.9333333333333333, valid_acc: 0.9583333333333334\n",
      "=====  epoch: 4 =====         \n",
      " train_loss: 0.002960781818626458, valid_loss: 0.005172873243551563         \n",
      " train_acc: 0.9691542288557214, valid_acc: 0.9490740740740741\n",
      "=====  epoch: 5 =====         \n",
      " train_loss: 0.0018281183807892882, valid_loss: 0.004914977333370458         \n",
      " train_acc: 0.9781094527363184, valid_acc: 0.9537037037037037\n",
      "=====  epoch: 6 =====         \n",
      " train_loss: 0.0018528511970123248, valid_loss: 0.008832712864710225         \n",
      " train_acc: 0.9800995024875622, valid_acc: 0.9143518518518519\n",
      "=====  epoch: 7 =====         \n",
      " train_loss: 0.002522345853330039, valid_loss: 0.0066530663321760514         \n",
      " train_acc: 0.9781094527363184, valid_acc: 0.9467592592592593\n",
      "=====  epoch: 8 =====         \n",
      " train_loss: 0.0012901417583815605, valid_loss: 0.00785018183739373         \n",
      " train_acc: 0.9870646766169154, valid_acc: 0.9444444444444444\n",
      "=====  epoch: 9 =====         \n",
      " train_loss: 0.0016613983899002793, valid_loss: 0.007644342399780052         \n",
      " train_acc: 0.9850746268656716, valid_acc: 0.9537037037037037\n",
      "=====  epoch: 10 =====         \n",
      " train_loss: 0.00207082574853479, valid_loss: 0.008982948152589853         \n",
      " train_acc: 0.9800995024875622, valid_acc: 0.9282407407407407\n",
      "=====  epoch: 11 =====         \n",
      " train_loss: 0.005849371514102416, valid_loss: 0.009687441254586534         \n",
      " train_acc: 0.9502487562189055, valid_acc: 0.9236111111111112\n",
      "=====  epoch: 12 =====         \n",
      " train_loss: 0.004941169147620636, valid_loss: 0.014821774326264858         \n",
      " train_acc: 0.9532338308457712, valid_acc: 0.8680555555555556\n",
      "=====  epoch: 13 =====         \n",
      " train_loss: 0.004726595576593087, valid_loss: 0.004421462944635466         \n",
      " train_acc: 0.9582089552238806, valid_acc: 0.9513888888888888\n",
      "=====  epoch: 14 =====         \n",
      " train_loss: 0.0009305896418196942, valid_loss: 0.0033488351252378415         \n",
      " train_acc: 0.9900497512437811, valid_acc: 0.9629629629629629\n",
      "=====  epoch: 15 =====         \n",
      " train_loss: 0.00043701152810977483, valid_loss: 0.003984893363748496         \n",
      " train_acc: 0.9950248756218906, valid_acc: 0.9652777777777778\n",
      "=====  epoch: 16 =====         \n",
      " train_loss: 0.00030178266922179935, valid_loss: 0.0038430315482603167         \n",
      " train_acc: 0.9970149253731343, valid_acc: 0.9652777777777778\n",
      "=====  epoch: 17 =====         \n",
      " train_loss: 0.0001280349551726698, valid_loss: 0.003223936117407262         \n",
      " train_acc: 0.9990049751243781, valid_acc: 0.9745370370370371\n",
      "=====  epoch: 18 =====         \n",
      " train_loss: 5.857182140337939e-05, valid_loss: 0.0030064659654777236         \n",
      " train_acc: 1.0, valid_acc: 0.9699074074074074\n",
      "=====  epoch: 19 =====         \n",
      " train_loss: 1.7679805141008943e-05, valid_loss: 0.0030024590367382325         \n",
      " train_acc: 1.0, valid_acc: 0.9745370370370371\n",
      "=====  epoch: 20 =====         \n",
      " train_loss: 1.174574995886034e-05, valid_loss: 0.003334590135872767         \n",
      " train_acc: 1.0, valid_acc: 0.9745370370370371\n",
      "=====  epoch: 21 =====         \n",
      " train_loss: 9.973606589410699e-06, valid_loss: 0.0034100876157565465         \n",
      " train_acc: 1.0, valid_acc: 0.9745370370370371\n",
      "=====  epoch: 22 =====         \n",
      " train_loss: 8.790058658162331e-06, valid_loss: 0.0034225382166907905         \n",
      " train_acc: 1.0, valid_acc: 0.9745370370370371\n",
      "=====  epoch: 23 =====         \n",
      " train_loss: 8.180647356805175e-06, valid_loss: 0.003340305803046956         \n",
      " train_acc: 1.0, valid_acc: 0.9745370370370371\n",
      "=====  epoch: 24 =====         \n",
      " train_loss: 7.531051261904209e-06, valid_loss: 0.003395726892921192         \n",
      " train_acc: 1.0, valid_acc: 0.9745370370370371\n",
      "=====  epoch: 25 =====         \n",
      " train_loss: 6.833983243087455e-06, valid_loss: 0.0036575424610082         \n",
      " train_acc: 1.0, valid_acc: 0.9745370370370371\n",
      "=====  epoch: 26 =====         \n",
      " train_loss: 6.541385136102211e-06, valid_loss: 0.0034200007357446374         \n",
      " train_acc: 1.0, valid_acc: 0.9745370370370371\n",
      "=====  epoch: 27 =====         \n",
      " train_loss: 5.646263589165864e-06, valid_loss: 0.003475339556075596         \n",
      " train_acc: 1.0, valid_acc: 0.9745370370370371\n",
      "=====  epoch: 28 =====         \n",
      " train_loss: 5.3838479793490814e-06, valid_loss: 0.00313306178536713         \n",
      " train_acc: 1.0, valid_acc: 0.9745370370370371\n",
      "=====  epoch: 29 =====         \n",
      " train_loss: 5.005830205312064e-06, valid_loss: 0.003159253886257863         \n",
      " train_acc: 1.0, valid_acc: 0.9745370370370371\n",
      "=====  epoch: 30 =====         \n",
      " train_loss: 4.621940251244589e-06, valid_loss: 0.0034069306001651123         \n",
      " train_acc: 1.0, valid_acc: 0.9745370370370371\n",
      "=====  epoch: 31 =====         \n",
      " train_loss: 5.2287717583237115e-06, valid_loss: 0.0031720215467632646         \n",
      " train_acc: 1.0, valid_acc: 0.9745370370370371\n",
      "=====  epoch: 32 =====         \n",
      " train_loss: 4.12393489785978e-06, valid_loss: 0.0031816435460617263         \n",
      " train_acc: 1.0, valid_acc: 0.9745370370370371\n",
      "=====  epoch: 33 =====         \n",
      " train_loss: 4.4842672895044156e-06, valid_loss: 0.003816271035854394         \n",
      " train_acc: 1.0, valid_acc: 0.9745370370370371\n",
      "=====  epoch: 34 =====         \n",
      " train_loss: 3.920820376178972e-06, valid_loss: 0.003813510167207015         \n",
      " train_acc: 1.0, valid_acc: 0.9745370370370371\n",
      "=====  epoch: 35 =====         \n",
      " train_loss: 3.4509390495747825e-06, valid_loss: 0.0032528970678126993         \n",
      " train_acc: 1.0, valid_acc: 0.9745370370370371\n",
      "=====  epoch: 36 =====         \n",
      " train_loss: 3.1628101932758215e-06, valid_loss: 0.0033506478339067718         \n",
      " train_acc: 1.0, valid_acc: 0.9745370370370371\n",
      "=====  epoch: 37 =====         \n",
      " train_loss: 2.9642242027274106e-06, valid_loss: 0.0038961734798485174         \n",
      " train_acc: 1.0, valid_acc: 0.9745370370370371\n",
      "=====  epoch: 38 =====         \n",
      " train_loss: 3.2455399705846976e-06, valid_loss: 0.004287300621921598         \n",
      " train_acc: 1.0, valid_acc: 0.9745370370370371\n",
      "=====  epoch: 39 =====         \n",
      " train_loss: 2.760413312288036e-06, valid_loss: 0.0032863889636734747         \n",
      " train_acc: 1.0, valid_acc: 0.9745370370370371\n",
      "=====  epoch: 40 =====         \n",
      " train_loss: 2.61519930724142e-06, valid_loss: 0.0032898849199143486         \n",
      " train_acc: 1.0, valid_acc: 0.9745370370370371\n",
      "=====  epoch: 41 =====         \n",
      " train_loss: 2.3898740344529824e-06, valid_loss: 0.003321258722053244         \n",
      " train_acc: 1.0, valid_acc: 0.9745370370370371\n",
      "=====  epoch: 42 =====         \n",
      " train_loss: 2.3169613313035567e-06, valid_loss: 0.004129452410173447         \n",
      " train_acc: 1.0, valid_acc: 0.9745370370370371\n",
      "=====  epoch: 43 =====         \n",
      " train_loss: 2.2636407424898828e-06, valid_loss: 0.00336629334149755         \n",
      " train_acc: 1.0, valid_acc: 0.9745370370370371\n",
      "=====  epoch: 44 =====         \n",
      " train_loss: 2.076573700598524e-06, valid_loss: 0.0033672930142832533         \n",
      " train_acc: 1.0, valid_acc: 0.9745370370370371\n",
      "=====  epoch: 45 =====         \n",
      " train_loss: 2.0160519284783633e-06, valid_loss: 0.004064486592302206         \n",
      " train_acc: 1.0, valid_acc: 0.9745370370370371\n",
      "=====  epoch: 46 =====         \n",
      " train_loss: 1.8998149540375969e-06, valid_loss: 0.003419317689972727         \n",
      " train_acc: 1.0, valid_acc: 0.9745370370370371\n",
      "=====  epoch: 47 =====         \n",
      " train_loss: 1.8913570119054126e-06, valid_loss: 0.003858710510838945         \n",
      " train_acc: 1.0, valid_acc: 0.9745370370370371\n",
      "=====  epoch: 48 =====         \n",
      " train_loss: 1.823566004584076e-06, valid_loss: 0.003395927601037261         \n",
      " train_acc: 1.0, valid_acc: 0.9745370370370371\n",
      "=====  epoch: 49 =====         \n",
      " train_loss: 1.7281305687010809e-06, valid_loss: 0.0033901141316366396         \n",
      " train_acc: 1.0, valid_acc: 0.9745370370370371\n",
      "=====  epoch: 50 =====         \n",
      " train_loss: 1.7269292050455372e-06, valid_loss: 0.0036025462483882656         \n",
      " train_acc: 1.0, valid_acc: 0.9745370370370371\n",
      "=====  epoch: 51 =====         \n",
      " train_loss: 1.5953323705091758e-06, valid_loss: 0.003403242728954528         \n",
      " train_acc: 1.0, valid_acc: 0.9745370370370371\n",
      "=====  epoch: 52 =====         \n",
      " train_loss: 1.5183251257191266e-06, valid_loss: 0.0034131518423373983         \n",
      " train_acc: 1.0, valid_acc: 0.9745370370370371\n"
     ]
    },
    {
     "name": "stdout",
     "output_type": "stream",
     "text": [
      "=====  epoch: 53 =====         \n",
      " train_loss: 1.4892350558946066e-06, valid_loss: 0.0034167068368352225         \n",
      " train_acc: 1.0, valid_acc: 0.9745370370370371\n",
      "=====  epoch: 54 =====         \n",
      " train_loss: 1.4231851367296158e-06, valid_loss: 0.004585282068513118         \n",
      " train_acc: 1.0, valid_acc: 0.9745370370370371\n",
      "=====  epoch: 55 =====         \n",
      " train_loss: 1.3881215131698524e-06, valid_loss: 0.004137087915452226         \n",
      " train_acc: 1.0, valid_acc: 0.9745370370370371\n",
      "=====  epoch: 56 =====         \n",
      " train_loss: 1.3520502550284559e-06, valid_loss: 0.0038064349390104463         \n",
      " train_acc: 1.0, valid_acc: 0.9745370370370371\n",
      "=====  epoch: 57 =====         \n",
      " train_loss: 1.2794314289609039e-06, valid_loss: 0.003449226214991507         \n",
      " train_acc: 1.0, valid_acc: 0.9745370370370371\n",
      "=====  epoch: 58 =====         \n",
      " train_loss: 1.2385759885600874e-06, valid_loss: 0.003645629812328682         \n",
      " train_acc: 1.0, valid_acc: 0.9745370370370371\n",
      "=====  epoch: 59 =====         \n",
      " train_loss: 1.1939047399481304e-06, valid_loss: 0.004004283981512597         \n",
      " train_acc: 1.0, valid_acc: 0.9745370370370371\n",
      "=====  epoch: 60 =====         \n",
      " train_loss: 1.1642342582630797e-06, valid_loss: 0.0041419830951815164         \n",
      " train_acc: 1.0, valid_acc: 0.9745370370370371\n",
      "=====  epoch: 61 =====         \n",
      " train_loss: 1.2101882140851373e-06, valid_loss: 0.003676071300341627         \n",
      " train_acc: 1.0, valid_acc: 0.9745370370370371\n",
      "=====  epoch: 62 =====         \n",
      " train_loss: 1.1614122561569e-06, valid_loss: 0.003485055424588813         \n",
      " train_acc: 1.0, valid_acc: 0.9745370370370371\n",
      "=====  epoch: 63 =====         \n",
      " train_loss: 1.0848100959518531e-06, valid_loss: 0.004124947426425428         \n",
      " train_acc: 1.0, valid_acc: 0.9745370370370371\n",
      "=====  epoch: 64 =====         \n",
      " train_loss: 1.037890369934305e-06, valid_loss: 0.0034777892240761593         \n",
      " train_acc: 1.0, valid_acc: 0.9745370370370371\n",
      "=====  epoch: 65 =====         \n",
      " train_loss: 9.960748763719199e-07, valid_loss: 0.003521779648087465         \n",
      " train_acc: 1.0, valid_acc: 0.9745370370370371\n",
      "=====  epoch: 66 =====         \n",
      " train_loss: 1.0288838373399536e-06, valid_loss: 0.003901195307342412         \n",
      " train_acc: 1.0, valid_acc: 0.9745370370370371\n",
      "=====  epoch: 67 =====         \n",
      " train_loss: 9.315500146082437e-07, valid_loss: 0.0035150859659206952         \n",
      " train_acc: 1.0, valid_acc: 0.9745370370370371\n",
      "=====  epoch: 68 =====         \n",
      " train_loss: 9.096837856648662e-07, valid_loss: 0.00352058006794525         \n",
      " train_acc: 1.0, valid_acc: 0.9745370370370371\n",
      "=====  epoch: 69 =====         \n",
      " train_loss: 8.756587095236474e-07, valid_loss: 0.0036900898864126296         \n",
      " train_acc: 1.0, valid_acc: 0.9745370370370371\n",
      "=====  epoch: 70 =====         \n",
      " train_loss: 8.516311154878407e-07, valid_loss: 0.0035527635690628914         \n",
      " train_acc: 1.0, valid_acc: 0.9745370370370371\n",
      "=====  epoch: 71 =====         \n",
      " train_loss: 8.577073200665755e-07, valid_loss: 0.0035288979732347008         \n",
      " train_acc: 1.0, valid_acc: 0.9745370370370371\n",
      "=====  epoch: 72 =====         \n",
      " train_loss: 8.025287869695694e-07, valid_loss: 0.003680158000895096         \n",
      " train_acc: 1.0, valid_acc: 0.9745370370370371\n",
      "=====  epoch: 73 =====         \n",
      " train_loss: 7.943742399114021e-07, valid_loss: 0.0038254682521912603         \n",
      " train_acc: 1.0, valid_acc: 0.9745370370370371\n",
      "=====  epoch: 74 =====         \n",
      " train_loss: 7.61100530516119e-07, valid_loss: 0.003555196997606597         \n",
      " train_acc: 1.0, valid_acc: 0.9745370370370371\n",
      "=====  epoch: 75 =====         \n",
      " train_loss: 7.406557640490462e-07, valid_loss: 0.003942365217665366         \n",
      " train_acc: 1.0, valid_acc: 0.9745370370370371\n",
      "=====  epoch: 76 =====         \n",
      " train_loss: 7.124221218335115e-07, valid_loss: 0.0038361373566052257         \n",
      " train_acc: 1.0, valid_acc: 0.9745370370370371\n",
      "=====  epoch: 77 =====         \n",
      " train_loss: 7.409825665359423e-07, valid_loss: 0.003569667838838263         \n",
      " train_acc: 1.0, valid_acc: 0.9745370370370371\n",
      "=====  epoch: 78 =====         \n",
      " train_loss: 6.882355650920196e-07, valid_loss: 0.0035600792842295187         \n",
      " train_acc: 1.0, valid_acc: 0.9745370370370371\n",
      "=====  epoch: 79 =====         \n",
      " train_loss: 6.708965535193358e-07, valid_loss: 0.0035677471604142535         \n",
      " train_acc: 1.0, valid_acc: 0.9745370370370371\n",
      "=====  epoch: 80 =====         \n",
      " train_loss: 6.427812840188584e-07, valid_loss: 0.003974294440548852         \n",
      " train_acc: 1.0, valid_acc: 0.9745370370370371\n",
      "=====  epoch: 81 =====         \n",
      " train_loss: 6.250904624677891e-07, valid_loss: 0.003584074167110674         \n",
      " train_acc: 1.0, valid_acc: 0.9745370370370371\n",
      "=====  epoch: 82 =====         \n",
      " train_loss: 6.107792822220616e-07, valid_loss: 0.0038677909236765925         \n",
      " train_acc: 1.0, valid_acc: 0.9745370370370371\n",
      "=====  epoch: 83 =====         \n",
      " train_loss: 6.068537660569777e-07, valid_loss: 0.00360924312025822         \n",
      " train_acc: 1.0, valid_acc: 0.9745370370370371\n",
      "=====  epoch: 84 =====         \n",
      " train_loss: 5.943745799214497e-07, valid_loss: 0.004063567984645894         \n",
      " train_acc: 1.0, valid_acc: 0.9745370370370371\n",
      "=====  epoch: 85 =====         \n",
      " train_loss: 5.611068698824024e-07, valid_loss: 0.003993099471779944         \n",
      " train_acc: 1.0, valid_acc: 0.9745370370370371\n",
      "=====  epoch: 86 =====         \n",
      " train_loss: 5.581658586411164e-07, valid_loss: 0.003598769982128639         \n",
      " train_acc: 1.0, valid_acc: 0.9745370370370371\n",
      "=====  epoch: 87 =====         \n",
      " train_loss: 5.391721749075073e-07, valid_loss: 0.0036064028935432666         \n",
      " train_acc: 1.0, valid_acc: 0.9745370370370371\n",
      "=====  epoch: 88 =====         \n",
      " train_loss: 5.376657480074253e-07, valid_loss: 0.003900762993469942         \n",
      " train_acc: 1.0, valid_acc: 0.9745370370370371\n",
      "=====  epoch: 89 =====         \n",
      " train_loss: 5.150492441359587e-07, valid_loss: 0.004187538492267869         \n",
      " train_acc: 1.0, valid_acc: 0.9745370370370371\n",
      "=====  epoch: 90 =====         \n",
      " train_loss: 4.992242896883882e-07, valid_loss: 0.003622655036615975         \n",
      " train_acc: 1.0, valid_acc: 0.9722222222222222\n",
      "=====  epoch: 91 =====         \n",
      " train_loss: 4.960775003500524e-07, valid_loss: 0.0036334790108877835         \n",
      " train_acc: 1.0, valid_acc: 0.9722222222222222\n",
      "=====  epoch: 92 =====         \n",
      " train_loss: 4.769385543624766e-07, valid_loss: 0.004441236196726095         \n",
      " train_acc: 1.0, valid_acc: 0.9722222222222222\n",
      "=====  epoch: 93 =====         \n",
      " train_loss: 4.782790379587949e-07, valid_loss: 0.0038074918831764787         \n",
      " train_acc: 1.0, valid_acc: 0.9722222222222222\n",
      "=====  epoch: 94 =====         \n",
      " train_loss: 4.564062107388212e-07, valid_loss: 0.003642655452014028         \n",
      " train_acc: 1.0, valid_acc: 0.9722222222222222\n",
      "=====  epoch: 95 =====         \n",
      " train_loss: 4.5321738685173056e-07, valid_loss: 0.0036392951454415736         \n",
      " train_acc: 1.0, valid_acc: 0.9722222222222222\n",
      "=====  epoch: 96 =====         \n",
      " train_loss: 4.365193802444612e-07, valid_loss: 0.004217771019074024         \n",
      " train_acc: 1.0, valid_acc: 0.9722222222222222\n",
      "=====  epoch: 97 =====         \n",
      " train_loss: 4.222782592650269e-07, valid_loss: 0.0036861282608495255         \n",
      " train_acc: 1.0, valid_acc: 0.9722222222222222\n",
      "=====  epoch: 98 =====         \n",
      " train_loss: 4.0851257754591424e-07, valid_loss: 0.0036564708716679416         \n",
      " train_acc: 1.0, valid_acc: 0.9722222222222222\n",
      "=====  epoch: 99 =====         \n",
      " train_loss: 3.985205402481804e-07, valid_loss: 0.0036715107781438512         \n",
      " train_acc: 1.0, valid_acc: 0.9722222222222222\n",
      "=====  epoch: 100 =====         \n",
      " train_loss: 3.892266209026166e-07, valid_loss: 0.003671069686693803         \n",
      " train_acc: 1.0, valid_acc: 0.9722222222222222\n"
     ]
    }
   ],
   "source": [
    "loss_list, acc_list = learning(train_loader, valid_loader)"
   ]
  },
  {
   "cell_type": "markdown",
   "metadata": {},
   "source": [
    "# 学習の過程"
   ]
  },
  {
   "cell_type": "code",
   "execution_count": 46,
   "metadata": {},
   "outputs": [
    {
     "data": {
      "image/png": "[encoded data removed]",
      "text/plain": [
       "<Figure size 1440x720 with 1 Axes>"
      ]
     },
     "metadata": {
      "needs_background": "light"
     },
     "output_type": "display_data"
    }
   ],
   "source": [
    "plt.figure(figsize=(20, 10))\n",
    "plt.rcParams[\"font.size\"] = 20\n",
    "plt.title(\"Loss\", fontsize=50)\n",
    "plt.plot(loss_list[0], label=\"train\", linewidth = 10.0)\n",
    "plt.plot(loss_list[1], label=\"valid\", linewidth = 10.0)\n",
    "plt.legend()\n",
    "\n",
    "plt.savefig(\"loss_figure.png\")\n",
    "\n",
    "plt.show()"
   ]
  },
  {
   "cell_type": "code",
   "execution_count": 45,
   "metadata": {},
   "outputs": [
    {
     "data": {
      "image/png": "[encoded data removed]",
      "text/plain": [
       "<Figure size 1440x720 with 1 Axes>"
      ]
     },
     "metadata": {
      "needs_background": "light"
     },
     "output_type": "display_data"
    }
   ],
   "source": [
    "plt.figure(figsize=(20, 10))\n",
    "plt.rcParams[\"font.size\"] = 20\n",
    "plt.title(\"Acc\", fontsize=50)\n",
    "plt.plot(acc_list[0], label=\"train\", linewidth = 10.0)\n",
    "plt.plot(acc_list[1], label=\"valid\", linewidth = 10.0)\n",
    "plt.legend()\n",
    "plt.savefig(\"acc_figure.png\")\n",
    "plt.show()"
   ]
  },
  {
   "cell_type": "code",
   "execution_count": 14,
   "metadata": {},
   "outputs": [
    {
     "data": {
      "image/png": "[encoded data removed]",
      "text/plain": [
       "<Figure size 1152x576 with 2 Axes>"
      ]
     },
     "metadata": {
      "needs_background": "light"
     },
     "output_type": "display_data"
    }
   ],
   "source": [
    "plt.figure(figsize=(16, 8))\n",
    "\n",
    "plt.subplot(2, 1, 1)\n",
    "plt.title(\"Loss\")\n",
    "plt.plot(loss_list[0], label=\"train\")\n",
    "plt.plot(loss_list[1], label=\"valid\")\n",
    "plt.legend()\n",
    "\n",
    "plt.subplot(2, 1, 2)\n",
    "plt.title(\"ACC\")\n",
    "plt.plot(acc_list[0], label=\"train\")\n",
    "plt.plot(acc_list[1], label=\"valid\")\n",
    "plt.legend()\n",
    "\n",
    "plt.show()"
   ]
  },
  {
   "cell_type": "markdown",
   "metadata": {},
   "source": [
    "# モデルの保存"
   ]
  },
  {
   "cell_type": "code",
   "execution_count": 186,
   "metadata": {},
   "outputs": [],
   "source": [
    "#====== 保存 =======\n",
    "torch.save(model.state_dict(), \"model.pth\")"
   ]
  },
  {
   "cell_type": "markdown",
   "metadata": {},
   "source": [
    "## モデルのロード"
   ]
  },
  {
   "cell_type": "code",
   "execution_count": 21,
   "metadata": {},
   "outputs": [
    {
     "data": {
      "text/plain": [
       "<All keys matched successfully>"
      ]
     },
     "execution_count": 21,
     "metadata": {},
     "output_type": "execute_result"
    }
   ],
   "source": [
    "model = NNNet(64)\n",
    "#====== ロード =======\n",
    "model.load_state_dict(torch.load(\"model.pth\", map_location=device))"
   ]
  },
  {
   "cell_type": "markdown",
   "metadata": {},
   "source": [
    "# 検証"
   ]
  },
  {
   "cell_type": "code",
   "execution_count": 22,
   "metadata": {},
   "outputs": [],
   "source": [
    "def prediction(test_loader):\n",
    "    pred_list = []\n",
    "    model.eval()\n",
    "    with torch.no_grad():\n",
    "        for images in test_loader:\n",
    "            images = images[0].to(device)\n",
    "            outputs = model.forward(images)\n",
    "            _, pred = torch.max(outputs.data, 1)\n",
    "            pred_list.append(pred.item())\n",
    "    return pred_list"
   ]
  },
  {
   "cell_type": "code",
   "execution_count": null,
   "metadata": {},
   "outputs": [],
   "source": [
    "model.eval()\n",
    "\n",
    "with torch.no_grad():\n",
    "    outputs = model.forward(images)\n",
    "            "
   ]
  },
  {
   "cell_type": "code",
   "execution_count": 23,
   "metadata": {},
   "outputs": [],
   "source": [
    "pred = prediction(test_loader)"
   ]
  },
  {
   "cell_type": "code",
   "execution_count": 24,
   "metadata": {},
   "outputs": [],
   "source": [
    "from sklearn.metrics import accuracy_score"
   ]
  },
  {
   "cell_type": "code",
   "execution_count": 25,
   "metadata": {},
   "outputs": [
    {
     "data": {
      "text/plain": [
       "0.9944444444444445"
      ]
     },
     "execution_count": 25,
     "metadata": {},
     "output_type": "execute_result"
    }
   ],
   "source": [
    "accuracy_score(pred, y_test)"
   ]
  },
  {
   "cell_type": "code",
   "execution_count": 28,
   "metadata": {},
   "outputs": [
    {
     "data": {
      "image/png": "[encoded data removed]",
      "text/plain": [
       "<Figure size 432x288 with 1 Axes>"
      ]
     },
     "metadata": {
      "needs_background": "light"
     },
     "output_type": "display_data"
    }
   ],
   "source": [
    "for i, image in enumerate(test_loader):\n",
    "    plt.title(pred[i])\n",
    "    plt.imshow(image[0].reshape(8,8))\n",
    "    plt.show()\n",
    "    break"
   ]
  },
  {
   "cell_type": "code",
   "execution_count": null,
   "metadata": {},
   "outputs": [],
   "source": []
  }
 ],
 "metadata": {
  "kernelspec": {
   "display_name": "Python 3",
   "language": "python",
   "name": "python3"
  },
  "language_info": {
   "codemirror_mode": {
    "name": "ipython",
    "version": 3
   },
   "file_extension": ".py",
   "mimetype": "text/x-python",
   "name": "python",
   "nbconvert_exporter": "python",
   "pygments_lexer": "ipython3",
   "version": "3.7.5"
  }
 },
 "nbformat": 4,
 "nbformat_minor": 2
}

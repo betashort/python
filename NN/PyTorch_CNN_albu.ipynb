{
 "cells": [
  {
   "cell_type": "code",
   "execution_count": 342,
   "metadata": {},
   "outputs": [],
   "source": [
    "import numpy as np\n",
    "\n",
    "import torch\n",
    "from torch import nn\n",
    "from torch import optim\n",
    "\n",
    "from torch.utils.data import TensorDataset, DataLoader\n",
    "\n",
    "import torchvision.transforms as transforms\n",
    "\n",
    "import albumentations as albu\n",
    "from albumentations.pytorch import ToTensor\n",
    "\n",
    "from PIL import Image\n",
    "\n",
    "from sklearn.datasets import load_digits\n",
    "from sklearn.model_selection import train_test_split\n",
    "\n",
    "import matplotlib.pyplot as plt"
   ]
  },
  {
   "cell_type": "markdown",
   "metadata": {},
   "source": [
    "# PytorchでNNモデルを作成して、学習する手順\n",
    "\n",
    "## やること\n",
    "### 1. データの読み込み\n",
    "### 2. モデルの作成\n",
    "### 3. 学習\n",
    "### 4. 評価\n",
    "### 5. モデルの保存\n",
    "### 6. 検証"
   ]
  },
  {
   "cell_type": "markdown",
   "metadata": {},
   "source": [
    "# 1. データの読み込み\n",
    "\n",
    "## 使うライブラリ\n",
    "- torch.utils.data.Dataset()\n",
    "- torch.utils.data.DataLoader()\n",
    "\n"
   ]
  },
  {
   "cell_type": "code",
   "execution_count": 343,
   "metadata": {},
   "outputs": [],
   "source": [
    "digits = load_digits()\n",
    "\n",
    "X = digits.data\n",
    "y = digits.target"
   ]
  },
  {
   "cell_type": "code",
   "execution_count": 344,
   "metadata": {},
   "outputs": [
    {
     "data": {
      "image/png": "[encoded data removed]",
      "text/plain": [
       "<Figure size 432x288 with 1 Axes>"
      ]
     },
     "metadata": {
      "needs_background": "light"
     },
     "output_type": "display_data"
    }
   ],
   "source": [
    "plt.title(f\"Label = {y[0]}\")\n",
    "plt.imshow(X[0].reshape(8,8), cmap=\"gray\")\n",
    "plt.show()"
   ]
  },
  {
   "cell_type": "code",
   "execution_count": 345,
   "metadata": {},
   "outputs": [],
   "source": [
    "X = X.reshape(-1, 8, 8, 1).astype(np.float32)"
   ]
  },
  {
   "cell_type": "code",
   "execution_count": 346,
   "metadata": {},
   "outputs": [],
   "source": [
    "#学習用データとテストデータに分ける\n",
    "X_train, X_test, y_train, y_test = train_test_split(X,y,test_size=0.2)\n",
    "\n",
    "X_train, X_valid, y_train, y_valid = train_test_split(X_train, y_train, test_size=0.3)\n"
   ]
  },
  {
   "cell_type": "markdown",
   "metadata": {},
   "source": [
    "## 画像"
   ]
  },
  {
   "cell_type": "markdown",
   "metadata": {},
   "source": [
    "## Ver albumentations"
   ]
  },
  {
   "cell_type": "code",
   "execution_count": 347,
   "metadata": {},
   "outputs": [],
   "source": [
    "def train_augmentation():\n",
    "    transform = [\n",
    "        albu.Resize(32,32),\n",
    "        albu.Normalize(mean=(0.485,), std=(0.229,)),\n",
    "        ToTensor(),\n",
    "    ]\n",
    "    return albu.Compose(transform)\n",
    "\n",
    "def test_augmentation():\n",
    "    transform = [\n",
    "        albu.Resize(32,32),\n",
    "        albu.Normalize(mean=(0.485,), std=(0.229,)),\n",
    "        ToTensor(),\n",
    "    ]\n",
    "    return albu.Compose(transform)"
   ]
  },
  {
   "cell_type": "code",
   "execution_count": 348,
   "metadata": {},
   "outputs": [],
   "source": [
    "class MNIST(torch.utils.data.Dataset):\n",
    "    \n",
    "    def __init__(self, images, labels, trans, flag=True):\n",
    "        super().__init__()\n",
    "        \n",
    "        self.flag = flag\n",
    "        self.trans = trans\n",
    "        self.images = images\n",
    "        self.labels = labels\n",
    "        \n",
    "    def __len__(self):\n",
    "        return len(self.images)\n",
    "    \n",
    "    \n",
    "    def __getitem__(self, idx):\n",
    "        \n",
    "        if self.flag:\n",
    "            image = self.images[idx]\n",
    "            label = self.labels[idx]\n",
    "            image = self.trans(image=image)['image']\n",
    "            return image, label\n",
    "        else:\n",
    "            image = self.images[idx]\n",
    "            image = self.trans(image=image)['image']\n",
    "            return image"
   ]
  },
  {
   "cell_type": "code",
   "execution_count": 349,
   "metadata": {},
   "outputs": [],
   "source": [
    "train_loader = torch.utils.data.DataLoader(MNIST(X_train, y_train, train_augmentation(), flag=True), batch_size=64, shuffle=True)\n",
    "valid_loader = torch.utils.data.DataLoader(MNIST(X_valid, y_valid, train_augmentation(), flag=True), batch_size=64, shuffle=True)\n",
    "test_loader = torch.utils.data.DataLoader(MNIST(X_test, False, test_augmentation(), flag=False), batch_size=1, shuffle=False)"
   ]
  },
  {
   "cell_type": "code",
   "execution_count": 350,
   "metadata": {},
   "outputs": [],
   "source": [
    "# ネットワークの定義\n",
    "class CNNNet(nn.Module):\n",
    "    def __init__(self):\n",
    "        super(CNNNet,self).__init__()\n",
    "        #畳み込み層\n",
    "        self.conv_layers = nn.Sequential(\n",
    "            nn.Conv2d(in_channels = 1, out_channels = 16, kernel_size = 3, stride=1, padding=0),\n",
    "            nn.ReLU(inplace=True),\n",
    "            nn.MaxPool2d(kernel_size=2, stride=2),\n",
    "            nn.Conv2d(in_channels = 16, out_channels = 32, kernel_size = 3, stride=1, padding=0),\n",
    "            nn.ReLU(inplace=True),\n",
    "            nn.MaxPool2d(kernel_size=2, stride=2),\n",
    "        )\n",
    "        #全結合層\n",
    "        self.dence = nn.Sequential(\n",
    "            nn.Linear(32 * 6 * 6, 128),\n",
    "            nn.ReLU(inplace=True),\n",
    "            #nn.Dropout(p=0.2),\n",
    "            nn.Linear(128, 64),\n",
    "            nn.ReLU(inplace=True),\n",
    "            #nn.Dropout(p=0.2),\n",
    "            nn.Linear(64, 10),\n",
    "        )\n",
    "         \n",
    "    #順伝播\n",
    "    def forward(self,x):\n",
    "         \n",
    "        out = self.conv_layers(x)\n",
    "        #Flatten\n",
    "        out = out.view(out.size(0), -1)\n",
    "        #全結合層\n",
    "        out = self.dence(out)\n",
    "         \n",
    "        return out\n",
    "     \n",
    "    #畳み込み層の出力サイズのチェック\n",
    "    def check_cnn_size(self, size_check):\n",
    "        out = self.conv_layers(size_check)\n",
    "         \n",
    "        return out"
   ]
  },
  {
   "cell_type": "markdown",
   "metadata": {},
   "source": [
    "## 確認"
   ]
  },
  {
   "cell_type": "code",
   "execution_count": 351,
   "metadata": {},
   "outputs": [
    {
     "name": "stdout",
     "output_type": "stream",
     "text": [
      "torch.Size([10, 32, 6, 6])\n"
     ]
    }
   ],
   "source": [
    "#デバイスの状態を確定\n",
    "device = 'cuda' if torch.cuda.is_available() else 'cpu'\n",
    " \n",
    "#net()をデバイスに渡す\n",
    "model = CNNNet().to(device)\n",
    " \n",
    "#畳み込み層の出力サイズ=全結合層のinput_sizeの確認\n",
    "size_check = torch.FloatTensor(10, 1, 32, 32)\n",
    "size_check = size_check.to(device)\n",
    "print(model.check_cnn_size(size_check).size())"
   ]
  },
  {
   "cell_type": "code",
   "execution_count": null,
   "metadata": {},
   "outputs": [],
   "source": []
  },
  {
   "cell_type": "code",
   "execution_count": 352,
   "metadata": {},
   "outputs": [],
   "source": [
    "#==== deviceの選択 ====\n",
    "device = torch.device(\"cuda\" if torch.cuda.is_available() else \"cpu\")\n",
    "\n",
    "#==== モデルの定義 ====\n",
    "model = CNNNet().to(device)\n",
    "\n",
    "#==== 損失関数の定義 ====\n",
    "criterion = nn.CrossEntropyLoss()\n",
    "\n",
    "#==== Optimizerの定義 ====\n",
    "learning_rate = 0.001\n",
    "optimizer = torch.optim.Adam(model.parameters(), lr=learning_rate)"
   ]
  },
  {
   "cell_type": "code",
   "execution_count": null,
   "metadata": {},
   "outputs": [],
   "source": []
  },
  {
   "cell_type": "code",
   "execution_count": 353,
   "metadata": {},
   "outputs": [],
   "source": [
    "#==== 学習 ====\n",
    "def learning(train_loader, val_loader, num_epochs=100):\n",
    "    train_loss_list = []\n",
    "    train_acc_list = []\n",
    "    valid_loss_list = []\n",
    "    valid_acc_list = []\n",
    "    \n",
    "    for epoch in range(num_epochs):\n",
    "        train_loss = 0\n",
    "        train_acc = 0\n",
    "        valid_loss = 0\n",
    "        valid_acc = 0\n",
    "        \n",
    "        \n",
    "        #==== 学習 ====\n",
    "        model.train()\n",
    "        \n",
    "        for images, labels in train_loader:\n",
    "            #==== deviceに渡す\n",
    "            images = images.to(device)\n",
    "            labels = labels.to(device)\n",
    "            \n",
    "            #==== Optimizerの初期化 ====\n",
    "            optimizer.zero_grad()\n",
    "            \n",
    "            #==== forward processing ====\n",
    "            outputs = model(images)\n",
    "            \n",
    "            #==== Loss calcuration ====\n",
    "            loss = criterion(outputs, labels)\n",
    "            \n",
    "            #==== backward processing ====\n",
    "            loss.backward()\n",
    "            \n",
    "            #==== update optimizer ====\n",
    "            optimizer.step()\n",
    "            \n",
    "            train_loss += loss.item()\n",
    "            train_acc += (outputs.max(1)[1] == labels).sum().item()\n",
    "            \n",
    "        avg_train_loss = train_loss / len(train_loader.dataset)\n",
    "        avg_train_acc = train_acc / len(train_loader.dataset)\n",
    "        \n",
    "        #==== 検証 =====\n",
    "        model.eval()\n",
    "        \n",
    "        #重みを変えさせない\n",
    "        with torch.no_grad():\n",
    "            for images, labels in valid_loader:\n",
    "                images = images.to(device)\n",
    "                labels = labels.to(device)\n",
    "                \n",
    "                outputs = model(images)\n",
    "                loss = criterion(outputs, labels)\n",
    "                \n",
    "                valid_loss += loss.item()\n",
    "                valid_acc += (outputs.max(1)[1] == labels).sum().item()\n",
    "                \n",
    "        avg_valid_loss = valid_loss / len(valid_loader.dataset)\n",
    "        avg_valid_acc = valid_acc / len(valid_loader.dataset)\n",
    "        \n",
    "        print(f\"=====  epoch: {epoch+1} ===== \\\n",
    "        \\n train_loss: {avg_train_loss}, valid_loss: {avg_valid_loss} \\\n",
    "        \\n train_acc: {avg_train_acc}, valid_acc: {avg_valid_acc}\")\n",
    "        \n",
    "        train_loss_list.append(avg_train_loss)\n",
    "        train_acc_list.append(avg_train_acc)\n",
    "        valid_loss_list.append(avg_valid_loss)\n",
    "        valid_acc_list.append(avg_valid_acc)\n",
    "        \n",
    "    loss_list = [train_loss_list, valid_loss_list]\n",
    "    acc_list = [train_acc_list, valid_acc_list]\n",
    "    \n",
    "    return loss_list, acc_list"
   ]
  },
  {
   "cell_type": "code",
   "execution_count": 354,
   "metadata": {
    "scrolled": true
   },
   "outputs": [
    {
     "name": "stdout",
     "output_type": "stream",
     "text": [
      "=====  epoch: 1 =====         \n",
      " train_loss: 0.036753899541067246, valid_loss: 0.037435201583085234         \n",
      " train_acc: 0.09353233830845771, valid_acc: 0.09722222222222222\n",
      "=====  epoch: 2 =====         \n",
      " train_loss: 0.036671862436171196, valid_loss: 0.037411415466555846         \n",
      " train_acc: 0.0945273631840796, valid_acc: 0.08564814814814815\n",
      "=====  epoch: 3 =====         \n",
      " train_loss: 0.03666350284026037, valid_loss: 0.03737874384279604         \n",
      " train_acc: 0.10646766169154229, valid_acc: 0.08564814814814815\n",
      "=====  epoch: 4 =====         \n",
      " train_loss: 0.03665071198003209, valid_loss: 0.037323187898706506         \n",
      " train_acc: 0.12039800995024875, valid_acc: 0.09953703703703703\n"
     ]
    },
    {
     "ename": "KeyboardInterrupt",
     "evalue": "",
     "output_type": "error",
     "traceback": [
      "\u001b[0;31m---------------------------------------------------------------------------\u001b[0m",
      "\u001b[0;31mKeyboardInterrupt\u001b[0m                         Traceback (most recent call last)",
      "\u001b[0;32m<ipython-input-354-7fafcbf158a4>\u001b[0m in \u001b[0;36m<module>\u001b[0;34m\u001b[0m\n\u001b[0;32m----> 1\u001b[0;31m \u001b[0mloss_list\u001b[0m\u001b[0;34m,\u001b[0m \u001b[0macc_list\u001b[0m \u001b[0;34m=\u001b[0m \u001b[0mlearning\u001b[0m\u001b[0;34m(\u001b[0m\u001b[0mtrain_loader\u001b[0m\u001b[0;34m,\u001b[0m \u001b[0mvalid_loader\u001b[0m\u001b[0;34m,\u001b[0m \u001b[0;36m150\u001b[0m\u001b[0;34m)\u001b[0m\u001b[0;34m\u001b[0m\u001b[0;34m\u001b[0m\u001b[0m\n\u001b[0m",
      "\u001b[0;32m<ipython-input-353-33e8c1d67242>\u001b[0m in \u001b[0;36mlearning\u001b[0;34m(train_loader, val_loader, num_epochs)\u001b[0m\n\u001b[1;32m     31\u001b[0m \u001b[0;34m\u001b[0m\u001b[0m\n\u001b[1;32m     32\u001b[0m             \u001b[0;31m#==== backward processing ====\u001b[0m\u001b[0;34m\u001b[0m\u001b[0;34m\u001b[0m\u001b[0;34m\u001b[0m\u001b[0m\n\u001b[0;32m---> 33\u001b[0;31m             \u001b[0mloss\u001b[0m\u001b[0;34m.\u001b[0m\u001b[0mbackward\u001b[0m\u001b[0;34m(\u001b[0m\u001b[0;34m)\u001b[0m\u001b[0;34m\u001b[0m\u001b[0;34m\u001b[0m\u001b[0m\n\u001b[0m\u001b[1;32m     34\u001b[0m \u001b[0;34m\u001b[0m\u001b[0m\n\u001b[1;32m     35\u001b[0m             \u001b[0;31m#==== update optimizer ====\u001b[0m\u001b[0;34m\u001b[0m\u001b[0;34m\u001b[0m\u001b[0;34m\u001b[0m\u001b[0m\n",
      "\u001b[0;32m~/opt/anaconda3/envs/default/lib/python3.7/site-packages/torch/tensor.py\u001b[0m in \u001b[0;36mbackward\u001b[0;34m(self, gradient, retain_graph, create_graph)\u001b[0m\n\u001b[1;32m    148\u001b[0m                 \u001b[0mproducts\u001b[0m\u001b[0;34m.\u001b[0m \u001b[0mDefaults\u001b[0m \u001b[0mto\u001b[0m\u001b[0;31m \u001b[0m\u001b[0;31m`\u001b[0m\u001b[0;31m`\u001b[0m\u001b[0;32mFalse\u001b[0m\u001b[0;31m`\u001b[0m\u001b[0;31m`\u001b[0m\u001b[0;34m.\u001b[0m\u001b[0;34m\u001b[0m\u001b[0;34m\u001b[0m\u001b[0m\n\u001b[1;32m    149\u001b[0m         \"\"\"\n\u001b[0;32m--> 150\u001b[0;31m         \u001b[0mtorch\u001b[0m\u001b[0;34m.\u001b[0m\u001b[0mautograd\u001b[0m\u001b[0;34m.\u001b[0m\u001b[0mbackward\u001b[0m\u001b[0;34m(\u001b[0m\u001b[0mself\u001b[0m\u001b[0;34m,\u001b[0m \u001b[0mgradient\u001b[0m\u001b[0;34m,\u001b[0m \u001b[0mretain_graph\u001b[0m\u001b[0;34m,\u001b[0m \u001b[0mcreate_graph\u001b[0m\u001b[0;34m)\u001b[0m\u001b[0;34m\u001b[0m\u001b[0;34m\u001b[0m\u001b[0m\n\u001b[0m\u001b[1;32m    151\u001b[0m \u001b[0;34m\u001b[0m\u001b[0m\n\u001b[1;32m    152\u001b[0m     \u001b[0;32mdef\u001b[0m \u001b[0mregister_hook\u001b[0m\u001b[0;34m(\u001b[0m\u001b[0mself\u001b[0m\u001b[0;34m,\u001b[0m \u001b[0mhook\u001b[0m\u001b[0;34m)\u001b[0m\u001b[0;34m:\u001b[0m\u001b[0;34m\u001b[0m\u001b[0;34m\u001b[0m\u001b[0m\n",
      "\u001b[0;32m~/opt/anaconda3/envs/default/lib/python3.7/site-packages/torch/autograd/__init__.py\u001b[0m in \u001b[0;36mbackward\u001b[0;34m(tensors, grad_tensors, retain_graph, create_graph, grad_variables)\u001b[0m\n\u001b[1;32m     97\u001b[0m     Variable._execution_engine.run_backward(\n\u001b[1;32m     98\u001b[0m         \u001b[0mtensors\u001b[0m\u001b[0;34m,\u001b[0m \u001b[0mgrad_tensors\u001b[0m\u001b[0;34m,\u001b[0m \u001b[0mretain_graph\u001b[0m\u001b[0;34m,\u001b[0m \u001b[0mcreate_graph\u001b[0m\u001b[0;34m,\u001b[0m\u001b[0;34m\u001b[0m\u001b[0;34m\u001b[0m\u001b[0m\n\u001b[0;32m---> 99\u001b[0;31m         allow_unreachable=True)  # allow_unreachable flag\n\u001b[0m\u001b[1;32m    100\u001b[0m \u001b[0;34m\u001b[0m\u001b[0m\n\u001b[1;32m    101\u001b[0m \u001b[0;34m\u001b[0m\u001b[0m\n",
      "\u001b[0;31mKeyboardInterrupt\u001b[0m: "
     ]
    }
   ],
   "source": [
    "loss_list, acc_list = learning(train_loader, valid_loader, 150)"
   ]
  },
  {
   "cell_type": "code",
   "execution_count": null,
   "metadata": {},
   "outputs": [],
   "source": []
  },
  {
   "cell_type": "code",
   "execution_count": 265,
   "metadata": {},
   "outputs": [
    {
     "data": {
      "image/png": "[encoded data removed]",
      "text/plain": [
       "<Figure size 1152x576 with 2 Axes>"
      ]
     },
     "metadata": {
      "needs_background": "light"
     },
     "output_type": "display_data"
    }
   ],
   "source": [
    "plt.figure(figsize=(16, 8))\n",
    "\n",
    "plt.subplot(2, 1, 1)\n",
    "plt.title(\"Loss\")\n",
    "plt.plot(loss_list[0], label=\"train\")\n",
    "plt.plot(loss_list[1], label=\"valid\")\n",
    "plt.legend()\n",
    "\n",
    "plt.subplot(2, 1, 2)\n",
    "plt.title(\"ACC\")\n",
    "plt.plot(acc_list[0], label=\"train\")\n",
    "plt.plot(acc_list[1], label=\"valid\")\n",
    "plt.legend()\n",
    "\n",
    "plt.show()"
   ]
  },
  {
   "cell_type": "code",
   "execution_count": null,
   "metadata": {},
   "outputs": [],
   "source": []
  },
  {
   "cell_type": "code",
   "execution_count": 195,
   "metadata": {},
   "outputs": [],
   "source": [
    "#====== 保存 =======\n",
    "torch.save(model.state_dict(), \"model_cnn.pth\")"
   ]
  },
  {
   "cell_type": "code",
   "execution_count": null,
   "metadata": {},
   "outputs": [],
   "source": [
    "model = CNNNet()\n",
    "#====== ロード =======\n",
    "model.load_state_dict(torch.load(\"model_cnn.pth\", map_location=device))"
   ]
  },
  {
   "cell_type": "code",
   "execution_count": null,
   "metadata": {},
   "outputs": [],
   "source": []
  },
  {
   "cell_type": "code",
   "execution_count": 200,
   "metadata": {},
   "outputs": [],
   "source": [
    "def prediction(test_loader):\n",
    "    pred_list = []\n",
    "    model.eval()\n",
    "    with torch.no_grad():\n",
    "        for images in test_loader:\n",
    "            images = images.to(device)\n",
    "            outputs = model.forward(images)\n",
    "            _, pred = torch.max(outputs.data, 1)\n",
    "            pred_list.append(pred.item())\n",
    "    return pred_list"
   ]
  },
  {
   "cell_type": "code",
   "execution_count": 201,
   "metadata": {},
   "outputs": [],
   "source": [
    "pred = prediction(test_loader)"
   ]
  },
  {
   "cell_type": "code",
   "execution_count": 202,
   "metadata": {},
   "outputs": [],
   "source": [
    "from sklearn.metrics import accuracy_score"
   ]
  },
  {
   "cell_type": "code",
   "execution_count": 203,
   "metadata": {},
   "outputs": [
    {
     "data": {
      "text/plain": [
       "0.9638888888888889"
      ]
     },
     "execution_count": 203,
     "metadata": {},
     "output_type": "execute_result"
    }
   ],
   "source": [
    "accuracy_score(pred, y_test)"
   ]
  },
  {
   "cell_type": "code",
   "execution_count": 221,
   "metadata": {},
   "outputs": [
    {
     "data": {
      "image/png": "[encoded data removed]",
      "text/plain": [
       "<Figure size 1152x1152 with 9 Axes>"
      ]
     },
     "metadata": {
      "needs_background": "light"
     },
     "output_type": "display_data"
    }
   ],
   "source": [
    "plt.figure(figsize=(16, 16))\n",
    "for i, image in enumerate(test_loader):\n",
    "    plt.subplot(3, 3, i+1)\n",
    "    plt.title(f\"pred:{pred[i]} True: {y_test[i]}\")\n",
    "    plt.imshow(image.reshape(32,32), cmap=\"gray\")\n",
    "    \n",
    "    if i+1 == 9:\n",
    "        plt.show()\n",
    "        break"
   ]
  },
  {
   "cell_type": "code",
   "execution_count": null,
   "metadata": {},
   "outputs": [],
   "source": []
  },
  {
   "cell_type": "code",
   "execution_count": null,
   "metadata": {},
   "outputs": [],
   "source": []
  }
 ],
 "metadata": {
  "kernelspec": {
   "display_name": "Python 3",
   "language": "python",
   "name": "python3"
  },
  "language_info": {
   "codemirror_mode": {
    "name": "ipython",
    "version": 3
   },
   "file_extension": ".py",
   "mimetype": "text/x-python",
   "name": "python",
   "nbconvert_exporter": "python",
   "pygments_lexer": "ipython3",
   "version": "3.7.5"
  }
 },
 "nbformat": 4,
 "nbformat_minor": 2
}

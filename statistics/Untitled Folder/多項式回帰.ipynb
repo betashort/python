{
 "cells": [
  {
   "cell_type": "code",
   "execution_count": 11,
   "metadata": {},
   "outputs": [
    {
     "name": "stdout",
     "output_type": "stream",
     "text": [
      "傾き1:0.10828748539100336\n",
      "傾き2:-0.12902043569976895\n",
      "切片：-0.12902043569976895\n"
     ]
    },
    {
     "data": {
      "image/png": "[encoded data removed]",
      "text/plain": [
       "<matplotlib.figure.Figure at 0x11d917630>"
      ]
     },
     "metadata": {},
     "output_type": "display_data"
    }
   ],
   "source": [
    "%matplotlib inline\n",
    "import numpy as np\n",
    "from pylab import *\n",
    "\n",
    "#ランダムな数を固定\n",
    "np.random.seed(0)\n",
    "x = np.random.normal(3.0, 1.0, 100)\n",
    "y = 10 + x * np.random.rand(100)\n",
    "\n",
    "'''\n",
    "多項式回帰\n",
    "'''\n",
    "\n",
    "#numpyのarrayに変換\n",
    "x = np.array(x)\n",
    "y = np.array(y)\n",
    "\n",
    "slope1, slope2, intercept = np.polyfit(x, y, 2)\n",
    "\n",
    "print(\"傾き1:{0}\\n傾き2:{1}\\n切片：{1}\".format(slope1, slope2,intercept))\n",
    "\n",
    "#回帰式のyの推定値\n",
    "y_pre = slope1 * x + slope2 * x + intercept\n",
    "\n",
    "#xとyの散布図\n",
    "plt.scatter(x,y)\n",
    "plt.plot(x, y_pre, c='r')\n",
    "plt.show()"
   ]
  },
  {
   "cell_type": "code",
   "execution_count": null,
   "metadata": {},
   "outputs": [],
   "source": []
  }
 ],
 "metadata": {
  "kernelspec": {
   "display_name": "Python 3",
   "language": "python",
   "name": "python3"
  },
  "language_info": {
   "codemirror_mode": {
    "name": "ipython",
    "version": 3
   },
   "file_extension": ".py",
   "mimetype": "text/x-python",
   "name": "python",
   "nbconvert_exporter": "python",
   "pygments_lexer": "ipython3",
   "version": "3.6.4"
  }
 },
 "nbformat": 4,
 "nbformat_minor": 2
}

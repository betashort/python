{
 "cells": [
  {
   "cell_type": "code",
   "execution_count": 5,
   "metadata": {},
   "outputs": [],
   "source": [
    "import numpy as np\n",
    "from pylab import *\n",
    "x = np.random.normal(3.0, 1.0, 1000)\n",
    "y = np.random.normal(10.0, 4.0, 1000)"
   ]
  },
  {
   "cell_type": "code",
   "execution_count": 8,
   "metadata": {},
   "outputs": [
    {
     "name": "stdout",
     "output_type": "stream",
     "text": [
      "xの分散：0.9677404181002434\n",
      "yの分散：16.130932616530046\n",
      "共分散：[[ 0.96870913 -0.09332162]\n",
      " [-0.09332162 16.1470797 ]]\n",
      "\n"
     ]
    }
   ],
   "source": [
    "#共分散\n",
    "covs = np.cov(x, y)\n",
    "print(\"xの分散：{0}\\nyの分散：{1}\\n\\\n",
    "共分散：{2}\\n\".format(np.var(x),np.var(y),covs))"
   ]
  },
  {
   "cell_type": "code",
   "execution_count": 9,
   "metadata": {},
   "outputs": [
    {
     "name": "stdout",
     "output_type": "stream",
     "text": [
      "相関係数：[[ 1.        -0.0234195]\n",
      " [-0.0234195  1.       ]]\n"
     ]
    }
   ],
   "source": [
    "import numpy as np\n",
    "from pylab import *\n",
    "\n",
    "x = np.random.normal(3.0, 1.0, 1000)\n",
    "y = np.random.normal(10.0, 4.0, 1000)\n",
    "\n",
    "#相関係数\n",
    "cor = np.corrcoef(x, y)\n",
    "\n",
    "print(\"相関係数：{0}\".format(cor))\n"
   ]
  },
  {
   "cell_type": "code",
   "execution_count": null,
   "metadata": {},
   "outputs": [],
   "source": []
  }
 ],
 "metadata": {
  "kernelspec": {
   "display_name": "Python 3",
   "language": "python",
   "name": "python3"
  },
  "language_info": {
   "codemirror_mode": {
    "name": "ipython",
    "version": 3
   },
   "file_extension": ".py",
   "mimetype": "text/x-python",
   "name": "python",
   "nbconvert_exporter": "python",
   "pygments_lexer": "ipython3",
   "version": "3.6.4"
  }
 },
 "nbformat": 4,
 "nbformat_minor": 2
}

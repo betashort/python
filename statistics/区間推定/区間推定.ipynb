{
 "cells": [
  {
   "cell_type": "markdown",
   "metadata": {},
   "source": [
    "# P174 (1)"
   ]
  },
  {
   "cell_type": "code",
   "execution_count": 112,
   "metadata": {},
   "outputs": [],
   "source": [
    "import numpy as np\n",
    "import scipy.stats as stats"
   ]
  },
  {
   "cell_type": "code",
   "execution_count": 113,
   "metadata": {},
   "outputs": [],
   "source": [
    "n = 9\n",
    "x_bar = 10\n",
    "sigma_m = 16\n",
    "alpha_r = 0.05\n",
    "level_s = 1 - alpha_r "
   ]
  },
  {
   "cell_type": "markdown",
   "metadata": {},
   "source": [
    "## z = abs(st.norm.ppf(alpha_r/2))  \n",
    "absは絶対値\n",
    "st.norm.ppf()は、標準正規分布の値\n",
    "## st.norm.cdf(-2.828427)\n",
    "標準正規分布の逆"
   ]
  },
  {
   "cell_type": "code",
   "execution_count": 114,
   "metadata": {},
   "outputs": [
    {
     "data": {
      "text/plain": [
       "1.9599639845400545"
      ]
     },
     "execution_count": 114,
     "metadata": {},
     "output_type": "execute_result"
    }
   ],
   "source": [
    "z = abs(stats.norm.ppf(alpha_r/2))  \n",
    "# st.norm.cdf(-2.828427)\n",
    "z"
   ]
  },
  {
   "cell_type": "code",
   "execution_count": 115,
   "metadata": {},
   "outputs": [],
   "source": [
    "z_value =  np.sqrt(sigma_m)/np.sqrt(sigma_m)"
   ]
  },
  {
   "cell_type": "code",
   "execution_count": 116,
   "metadata": {},
   "outputs": [],
   "source": [
    "theta_1 = x_bar - z_value *z "
   ]
  },
  {
   "cell_type": "code",
   "execution_count": 117,
   "metadata": {},
   "outputs": [
    {
     "data": {
      "text/plain": [
       "8.040036015459945"
      ]
     },
     "execution_count": 117,
     "metadata": {},
     "output_type": "execute_result"
    }
   ],
   "source": [
    "theta_1"
   ]
  },
  {
   "cell_type": "code",
   "execution_count": 118,
   "metadata": {},
   "outputs": [],
   "source": [
    "theta_2 = x_bar + z_value * z"
   ]
  },
  {
   "cell_type": "code",
   "execution_count": 119,
   "metadata": {},
   "outputs": [
    {
     "data": {
      "text/plain": [
       "11.959963984540055"
      ]
     },
     "execution_count": 119,
     "metadata": {},
     "output_type": "execute_result"
    }
   ],
   "source": [
    "theta_2"
   ]
  },
  {
   "cell_type": "code",
   "execution_count": 120,
   "metadata": {
    "scrolled": true
   },
   "outputs": [
    {
     "name": "stdout",
     "output_type": "stream",
     "text": [
      "信頼区間\n",
      "8.040036015459945<μ<11.959963984540055\n"
     ]
    }
   ],
   "source": [
    "print(\"信頼区間\\n{0}<μ<{1}\".format(theta_1 ,theta_2))"
   ]
  },
  {
   "cell_type": "code",
   "execution_count": 121,
   "metadata": {},
   "outputs": [
    {
     "name": "stdout",
     "output_type": "stream",
     "text": [
      "手計算の信頼区間\n",
      " 7.39 < μ < 12.61\n"
     ]
    }
   ],
   "source": [
    "print(\"手計算の信頼区間\\n 7.39 < μ < 12.61\")"
   ]
  },
  {
   "cell_type": "markdown",
   "metadata": {},
   "source": [
    "# P179(2)"
   ]
  },
  {
   "cell_type": "markdown",
   "metadata": {},
   "source": [
    "# 不偏推定量"
   ]
  },
  {
   "cell_type": "code",
   "execution_count": 130,
   "metadata": {},
   "outputs": [],
   "source": [
    "x = [9.8, 10.3, 11.9, 8.7, 8.5, 10.2, 10.9, 8.2, 9.4, 10.5]\n",
    "n = len(x)\n",
    "x_bar = np.mean(x)\n",
    "s2_x = np.var(x, ddof=1)\n",
    "s_x = np.std(x, ddof=1)"
   ]
  },
  {
   "cell_type": "markdown",
   "metadata": {},
   "source": [
    "## 母平均の95%信頼区間"
   ]
  },
  {
   "cell_type": "code",
   "execution_count": 131,
   "metadata": {},
   "outputs": [],
   "source": [
    "alpha_r = 0.05"
   ]
  },
  {
   "cell_type": "markdown",
   "metadata": {},
   "source": [
    "## ｔ分布\n",
    "### st.t.ppf(alpha_r/2)"
   ]
  },
  {
   "cell_type": "code",
   "execution_count": 132,
   "metadata": {},
   "outputs": [],
   "source": [
    "t = abs(stats.t.ppf(alpha_r/2, df = n-1))"
   ]
  },
  {
   "cell_type": "code",
   "execution_count": 133,
   "metadata": {},
   "outputs": [],
   "source": [
    "theta_1 = x_bar - t*(s_x/np.sqrt(n))"
   ]
  },
  {
   "cell_type": "code",
   "execution_count": 134,
   "metadata": {},
   "outputs": [],
   "source": [
    "theta_2 = x_bar + t*(s_x/np.sqrt(n))"
   ]
  },
  {
   "cell_type": "code",
   "execution_count": 135,
   "metadata": {},
   "outputs": [
    {
     "name": "stdout",
     "output_type": "stream",
     "text": [
      "信頼区間\n",
      "9.00972017855509 < μ < 10.67027982144491\n"
     ]
    }
   ],
   "source": [
    "print(\"信頼区間\\n{0} < μ < {1}\".format(theta_1,theta_2))"
   ]
  },
  {
   "cell_type": "code",
   "execution_count": 136,
   "metadata": {},
   "outputs": [
    {
     "name": "stdout",
     "output_type": "stream",
     "text": [
      "手計算の信頼区間\n",
      " 9.173 < μ < 10.707\n"
     ]
    }
   ],
   "source": [
    "print(\"手計算の信頼区間\\n 9.173 < μ < 10.707\")"
   ]
  },
  {
   "cell_type": "markdown",
   "metadata": {},
   "source": [
    "## 母分散の95%信頼区間"
   ]
  },
  {
   "cell_type": "code",
   "execution_count": 137,
   "metadata": {},
   "outputs": [],
   "source": [
    "alpha_r = 0.05"
   ]
  },
  {
   "cell_type": "markdown",
   "metadata": {},
   "source": [
    "## カイ２乗分布\n",
    "### stats.chi2.ppf(alpha_r/2, df = n-1)"
   ]
  },
  {
   "cell_type": "code",
   "execution_count": 138,
   "metadata": {},
   "outputs": [],
   "source": [
    "chi_2_1 = stats.chi2.ppf(alpha_r/2, df = n-1)"
   ]
  },
  {
   "cell_type": "code",
   "execution_count": 139,
   "metadata": {},
   "outputs": [],
   "source": [
    "chi_2_2 = stats.chi2.ppf(1-(alpha_r/2), df = n-1)"
   ]
  },
  {
   "cell_type": "code",
   "execution_count": 140,
   "metadata": {},
   "outputs": [],
   "source": [
    "theta_1 = ((n-1) * s2_x )/chi_2_2"
   ]
  },
  {
   "cell_type": "code",
   "execution_count": 141,
   "metadata": {},
   "outputs": [],
   "source": [
    "theta_2 = ((n-1) * s2_x ) / chi_2_1"
   ]
  },
  {
   "cell_type": "code",
   "execution_count": 142,
   "metadata": {},
   "outputs": [
    {
     "name": "stdout",
     "output_type": "stream",
     "text": [
      "信頼区間\n",
      "0.6373415334894511 < σ2 < 4.489722686334026\n"
     ]
    }
   ],
   "source": [
    "print(\"信頼区間\\n{0} < σ2 < {1}\".format(theta_1,theta_2))"
   ]
  },
  {
   "cell_type": "code",
   "execution_count": 143,
   "metadata": {},
   "outputs": [
    {
     "name": "stdout",
     "output_type": "stream",
     "text": [
      "手計算の信頼区間\n",
      "0.544 < σ2 < 3.831\n"
     ]
    }
   ],
   "source": [
    "print(\"手計算の信頼区間\\n0.544 < σ2 < 3.831\")"
   ]
  }
 ],
 "metadata": {
  "kernelspec": {
   "display_name": "Python 3",
   "language": "python",
   "name": "python3"
  },
  "language_info": {
   "codemirror_mode": {
    "name": "ipython",
    "version": 3
   },
   "file_extension": ".py",
   "mimetype": "text/x-python",
   "name": "python",
   "nbconvert_exporter": "python",
   "pygments_lexer": "ipython3",
   "version": "3.6.4"
  }
 },
 "nbformat": 4,
 "nbformat_minor": 2
}

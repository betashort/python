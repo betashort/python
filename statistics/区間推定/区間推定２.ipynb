{
 "cells": [
  {
   "cell_type": "markdown",
   "metadata": {},
   "source": [
    "# P182"
   ]
  },
  {
   "cell_type": "markdown",
   "metadata": {},
   "source": [
    "## 不偏推定量"
   ]
  },
  {
   "cell_type": "code",
   "execution_count": 13,
   "metadata": {},
   "outputs": [],
   "source": [
    "import numpy as np\n",
    "import scipy.stats as stats\n",
    "import statistics"
   ]
  },
  {
   "cell_type": "code",
   "execution_count": 17,
   "metadata": {},
   "outputs": [
    {
     "data": {
      "text/plain": [
       "'\\nstatisticsも使える\\n不偏推定量\\ns2_x2 = statistics.variance(x)\\ns_x2 = statistics.stdev(x)\\n分集団\\nsigma2_x = statistics.pvariance(x)\\nsigma_x = statistics.pstdev(x)\\n\\n'"
      ]
     },
     "execution_count": 17,
     "metadata": {},
     "output_type": "execute_result"
    }
   ],
   "source": [
    "x = [0.5, 4.2, 3.8, 1.2, 0.8, 2.1, 2.4, 3.0]\n",
    "x_bar = np.mean(x)\n",
    "s2_x = np.var(x, ddof=1)\n",
    "s_x = np.std(x, ddof=1)\n",
    "\n",
    "'''\n",
    "statisticsも使える\n",
    "不偏推定量\n",
    "s2_x2 = statistics.variance(x)\n",
    "s_x2 = statistics.stdev(x)\n",
    "分集団\n",
    "sigma2_x = statistics.pvariance(x)\n",
    "sigma_x = statistics.pstdev(x)\n",
    "\n",
    "'''"
   ]
  },
  {
   "cell_type": "markdown",
   "metadata": {},
   "source": [
    "## 母平均の99%信頼区間"
   ]
  },
  {
   "cell_type": "code",
   "execution_count": 21,
   "metadata": {},
   "outputs": [],
   "source": [
    "alpha_r = 0.01\n",
    "n = len(x)"
   ]
  },
  {
   "cell_type": "code",
   "execution_count": 23,
   "metadata": {},
   "outputs": [],
   "source": [
    "t = abs(stats.t.ppf(alpha_r/2, df = n-1 ))"
   ]
  },
  {
   "cell_type": "code",
   "execution_count": 25,
   "metadata": {},
   "outputs": [],
   "source": [
    "theta_1 = x_bar - t*s_x/np.sqrt(n)"
   ]
  },
  {
   "cell_type": "code",
   "execution_count": 27,
   "metadata": {},
   "outputs": [],
   "source": [
    "theta_2 = x_bar + t*s_x/np.sqrt(n)"
   ]
  },
  {
   "cell_type": "markdown",
   "metadata": {},
   "source": [
    "有効数字n桁\n",
    "<br/>桁数の指定{:.nf}"
   ]
  },
  {
   "cell_type": "code",
   "execution_count": 38,
   "metadata": {},
   "outputs": [
    {
     "name": "stdout",
     "output_type": "stream",
     "text": [
      "信頼区間\n",
      " 0.56 < μ < 3.94\n"
     ]
    }
   ],
   "source": [
    "print(\"信頼区間\\n {:.2f} < μ < {:.2f}\".format(theta_1,theta_2))"
   ]
  },
  {
   "cell_type": "code",
   "execution_count": 39,
   "metadata": {},
   "outputs": [
    {
     "name": "stdout",
     "output_type": "stream",
     "text": [
      "手計算の信頼区間\n",
      " 0.56 < μ < 3.94\n"
     ]
    }
   ],
   "source": [
    "print(\"手計算の信頼区間\\n 0.56 < μ < 3.94\")"
   ]
  },
  {
   "cell_type": "markdown",
   "metadata": {},
   "source": [
    "# P184"
   ]
  },
  {
   "cell_type": "markdown",
   "metadata": {},
   "source": [
    "## 不偏推定量"
   ]
  },
  {
   "cell_type": "code",
   "execution_count": 40,
   "metadata": {},
   "outputs": [
    {
     "data": {
      "text/plain": [
       "'\\nstatisticsも使える\\n不偏推定量\\ns2_x2 = statistics.variance(x)\\ns_x2 = statistics.stdev(x)\\n分集団\\nsigma2_x = statistics.pvariance(x)\\nsigma_x = statistics.pstdev(x)\\n\\n'"
      ]
     },
     "execution_count": 40,
     "metadata": {},
     "output_type": "execute_result"
    }
   ],
   "source": [
    "x = [3, 7, 1, 5, 2, 9, 6, 4]\n",
    "x_bar = np.mean(x)\n",
    "s2_x = np.var(x, ddof=1)\n",
    "s_x = np.std(x, ddof=1)\n",
    "\n",
    "'''\n",
    "statisticsも使える\n",
    "不偏推定量\n",
    "s2_x2 = statistics.variance(x)\n",
    "s_x2 = statistics.stdev(x)\n",
    "分集団\n",
    "sigma2_x = statistics.pvariance(x)\n",
    "sigma_x = statistics.pstdev(x)\n",
    "\n",
    "'''"
   ]
  },
  {
   "cell_type": "markdown",
   "metadata": {},
   "source": [
    "## 母分散の95%信頼区間"
   ]
  },
  {
   "cell_type": "code",
   "execution_count": 41,
   "metadata": {},
   "outputs": [],
   "source": [
    "alpha_r = 0.05\n",
    "n = len(x)\n",
    "m = n-1"
   ]
  },
  {
   "cell_type": "code",
   "execution_count": 43,
   "metadata": {},
   "outputs": [],
   "source": [
    "chi_2_1 = stats.chi2.ppf(alpha_r/2, df = m)\n",
    "chi_2_2 = stats.chi2.ppf(1-alpha_r/2, df = m)"
   ]
  },
  {
   "cell_type": "code",
   "execution_count": 45,
   "metadata": {},
   "outputs": [],
   "source": [
    "theta_1 = m*s2_x/chi_2_2\n",
    "theta_2 = m*s2_x/chi_2_1"
   ]
  },
  {
   "cell_type": "code",
   "execution_count": 46,
   "metadata": {},
   "outputs": [
    {
     "name": "stdout",
     "output_type": "stream",
     "text": [
      "信頼区間\n",
      "3.11 < σ2 < 29.51\n"
     ]
    }
   ],
   "source": [
    "print(\"信頼区間\\n{:.2f} < σ2 < {:.2f}\".format(theta_1, theta_2))"
   ]
  },
  {
   "cell_type": "code",
   "execution_count": 47,
   "metadata": {},
   "outputs": [
    {
     "name": "stdout",
     "output_type": "stream",
     "text": [
      "手計算の信頼区間\n",
      " 3.11 < σ2 < 29.51\n"
     ]
    }
   ],
   "source": [
    "print(\"手計算の信頼区間\\n 3.11 < σ2 < 29.51\")"
   ]
  },
  {
   "cell_type": "code",
   "execution_count": null,
   "metadata": {},
   "outputs": [],
   "source": []
  }
 ],
 "metadata": {
  "kernelspec": {
   "display_name": "Python 3",
   "language": "python",
   "name": "python3"
  },
  "language_info": {
   "codemirror_mode": {
    "name": "ipython",
    "version": 3
   },
   "file_extension": ".py",
   "mimetype": "text/x-python",
   "name": "python",
   "nbconvert_exporter": "python",
   "pygments_lexer": "ipython3",
   "version": "3.6.4"
  }
 },
 "nbformat": 4,
 "nbformat_minor": 2
}

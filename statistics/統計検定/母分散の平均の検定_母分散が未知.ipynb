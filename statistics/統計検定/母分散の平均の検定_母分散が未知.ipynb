{
 "cells": [
  {
   "cell_type": "markdown",
   "metadata": {},
   "source": [
    "# 母分散が未知\n",
    "## 各母集団は正規分布\n",
    "###  帰無仮説-->mu_x = mu_y <br/>対立仮説-->mu_x≠mu_y <br/>有意水準0.05"
   ]
  },
  {
   "cell_type": "code",
   "execution_count": 1,
   "metadata": {},
   "outputs": [],
   "source": [
    "import numpy as np\n",
    "import scipy.stats as stats"
   ]
  },
  {
   "cell_type": "code",
   "execution_count": 34,
   "metadata": {},
   "outputs": [],
   "source": [
    "x = [2.5,3.0,0.8,5.0,2.4]\n",
    "y = [4.0,2.0,2.1,3.2,1.2,0.5,4.2]\n",
    "n_x = len(x)\n",
    "n_y = len(y)\n",
    "m = n_x+n_y-2\n",
    "x_bar = np.mean(x)\n",
    "y_bar = np.mean(y)\n",
    "s2_x = n_x * np.var(x)\n",
    "s2_y = n_y * np.var(y)\n",
    "\n",
    "s2_xy = (s2_x+s2_y)/m\n",
    "\n",
    "alpha_r = 0.05\n"
   ]
  },
  {
   "cell_type": "code",
   "execution_count": 35,
   "metadata": {},
   "outputs": [],
   "source": [
    "t_value = ((x_bar-y_bar)/np.sqrt((1/n_x + 1/n_y)*s2_xy))"
   ]
  },
  {
   "cell_type": "code",
   "execution_count": 36,
   "metadata": {},
   "outputs": [],
   "source": [
    "t = abs(stats.t.ppf(alpha_r/2,m))"
   ]
  },
  {
   "cell_type": "code",
   "execution_count": 38,
   "metadata": {},
   "outputs": [
    {
     "name": "stdout",
     "output_type": "stream",
     "text": [
      "帰無仮説は棄却されない\n"
     ]
    }
   ],
   "source": [
    "if -t < t_value and t_value < t:\n",
    "    print(\"帰無仮説は棄却されない\")\n",
    "else:\n",
    "    print(\"帰無仮説は棄却される\")"
   ]
  },
  {
   "cell_type": "code",
   "execution_count": null,
   "metadata": {},
   "outputs": [],
   "source": []
  }
 ],
 "metadata": {
  "kernelspec": {
   "display_name": "Python 3",
   "language": "python",
   "name": "python3"
  },
  "language_info": {
   "codemirror_mode": {
    "name": "ipython",
    "version": 3
   },
   "file_extension": ".py",
   "mimetype": "text/x-python",
   "name": "python",
   "nbconvert_exporter": "python",
   "pygments_lexer": "ipython3",
   "version": "3.6.4"
  }
 },
 "nbformat": 4,
 "nbformat_minor": 2
}

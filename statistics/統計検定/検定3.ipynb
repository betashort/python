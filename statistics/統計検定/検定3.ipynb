{
 "cells": [
  {
   "cell_type": "markdown",
   "metadata": {},
   "source": [
    "# 母平均の検定\n",
    "## 母分散が未知 <br/> 母集団は正規分布\n",
    "### 帰無仮説-->mu=2.5 <br/> 対立仮説-->mu≠2.5 <br/>有意水準=0.05 <br/>"
   ]
  },
  {
   "cell_type": "code",
   "execution_count": 1,
   "metadata": {},
   "outputs": [],
   "source": [
    "import numpy as np\n",
    "import scipy.stats as stats"
   ]
  },
  {
   "cell_type": "code",
   "execution_count": 2,
   "metadata": {},
   "outputs": [],
   "source": [
    "x = [0.5,4.2,3.8,1.2,0.8,2.1,2.4,3.0]\n",
    "n = len(x)\n",
    "x_bar = np.mean(x)\n",
    "s2_x = np.var(x, ddof=1)\n",
    "s_x = np.std(x, ddof=1)"
   ]
  },
  {
   "cell_type": "code",
   "execution_count": 3,
   "metadata": {},
   "outputs": [],
   "source": [
    "mu = 2.5\n",
    "alpha_r = 0.05"
   ]
  },
  {
   "cell_type": "code",
   "execution_count": 18,
   "metadata": {},
   "outputs": [],
   "source": [
    "t = abs(stats.t.ppf(alpha_r,n-1))\n",
    "t_value = (x_bar-mu) / (s_x/np.sqrt(n))"
   ]
  },
  {
   "cell_type": "code",
   "execution_count": 22,
   "metadata": {
    "scrolled": true
   },
   "outputs": [
    {
     "data": {
      "text/plain": [
       "-0.5172853157197943"
      ]
     },
     "execution_count": 22,
     "metadata": {},
     "output_type": "execute_result"
    }
   ],
   "source": [
    "t_value"
   ]
  },
  {
   "cell_type": "code",
   "execution_count": 21,
   "metadata": {},
   "outputs": [
    {
     "name": "stdout",
     "output_type": "stream",
     "text": [
      "帰無仮説は棄却されない\n"
     ]
    }
   ],
   "source": [
    "if (-t < t_value and t_value < t) :\n",
    "    print(\"帰無仮説は棄却されない\")\n",
    "else:\n",
    "    print(\"帰無仮説は棄却される\")\n"
   ]
  },
  {
   "cell_type": "code",
   "execution_count": null,
   "metadata": {},
   "outputs": [],
   "source": []
  }
 ],
 "metadata": {
  "kernelspec": {
   "display_name": "Python 3",
   "language": "python",
   "name": "python3"
  },
  "language_info": {
   "codemirror_mode": {
    "name": "ipython",
    "version": 3
   },
   "file_extension": ".py",
   "mimetype": "text/x-python",
   "name": "python",
   "nbconvert_exporter": "python",
   "pygments_lexer": "ipython3",
   "version": "3.6.4"
  }
 },
 "nbformat": 4,
 "nbformat_minor": 2
}

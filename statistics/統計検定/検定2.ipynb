{
 "cells": [
  {
   "cell_type": "markdown",
   "metadata": {},
   "source": [
    "# 検定2"
   ]
  },
  {
   "cell_type": "markdown",
   "metadata": {},
   "source": [
    "## 普遍統計量"
   ]
  },
  {
   "cell_type": "code",
   "execution_count": 26,
   "metadata": {},
   "outputs": [],
   "source": [
    "import numpy as np\n",
    "import scipy.stats as stats"
   ]
  },
  {
   "cell_type": "code",
   "execution_count": 27,
   "metadata": {},
   "outputs": [],
   "source": [
    "x = [9.8,10.3,11.9,8.7,9.5,10.2,10.9,8.2,9.4,10.5]\n",
    "n = len(x)\n",
    "x_bar = np.mean(x)\n",
    "s2_x = np.var(x, ddof=1)\n",
    "s_x = np.std(x, ddof=1)\n",
    "sigma = np.var(x)"
   ]
  },
  {
   "cell_type": "markdown",
   "metadata": {},
   "source": [
    "## 帰無仮説-->mu=10\n",
    "## 対立仮説-->mu<10 \n",
    "### 有意水準=0.01 "
   ]
  },
  {
   "cell_type": "code",
   "execution_count": 28,
   "metadata": {},
   "outputs": [],
   "source": [
    "mu = 10\n",
    "alpha_r = 0.01"
   ]
  },
  {
   "cell_type": "markdown",
   "metadata": {},
   "source": [
    "### 母集団は正規分布に従うとして、その情報が無い"
   ]
  },
  {
   "cell_type": "code",
   "execution_count": 29,
   "metadata": {},
   "outputs": [],
   "source": [
    "t_value = (x_bar - mu) / (s_x / np.sqrt(n))"
   ]
  },
  {
   "cell_type": "code",
   "execution_count": 30,
   "metadata": {},
   "outputs": [],
   "source": [
    "t = abs(stats.t.ppf(alpha_r, n-1))"
   ]
  },
  {
   "cell_type": "code",
   "execution_count": 31,
   "metadata": {},
   "outputs": [
    {
     "name": "stdout",
     "output_type": "stream",
     "text": [
      "帰無仮説は棄却されない\n",
      "\n"
     ]
    }
   ],
   "source": [
    "if( t_value < -t):\n",
    "    print(\"帰無仮説は棄却される\\n\")\n",
    "else:\n",
    "    print(\"帰無仮説は棄却されない\\n\")"
   ]
  },
  {
   "cell_type": "markdown",
   "metadata": {},
   "source": [
    "## 母分散は0.5である\n",
    "### 帰無仮説-->sigma2 = 0.5\n",
    "### 対立仮説-->sigma2 ≠ 0.5\n",
    "### 有意水準 0.05"
   ]
  },
  {
   "cell_type": "code",
   "execution_count": 36,
   "metadata": {},
   "outputs": [],
   "source": [
    "sigma2 = 0.5\n",
    "sigma = np.sqrt(0.5)\n",
    "alpha_r = 0.05\n",
    "chi_2_1 = stats.chi2.ppf(alpha_r/2, n-1)\n",
    "chi_2_2 = stats.chi2.ppf(1-alpha_r/2, n-1)"
   ]
  },
  {
   "cell_type": "code",
   "execution_count": 37,
   "metadata": {},
   "outputs": [],
   "source": [
    "chi_2_value = (n-1)*s2_x/sigma2"
   ]
  },
  {
   "cell_type": "code",
   "execution_count": 39,
   "metadata": {},
   "outputs": [
    {
     "name": "stdout",
     "output_type": "stream",
     "text": [
      "帰無仮説は棄却される\n"
     ]
    }
   ],
   "source": [
    "if (chi_2_2<chi_2_value and chi_2_value < chi_2_1):\n",
    "    print(\"帰無仮説は棄却されない\")\n",
    "else:\n",
    "    print(\"帰無仮説は棄却される\")"
   ]
  },
  {
   "cell_type": "code",
   "execution_count": null,
   "metadata": {},
   "outputs": [],
   "source": []
  }
 ],
 "metadata": {
  "kernelspec": {
   "display_name": "Python 3",
   "language": "python",
   "name": "python3"
  },
  "language_info": {
   "codemirror_mode": {
    "name": "ipython",
    "version": 3
   },
   "file_extension": ".py",
   "mimetype": "text/x-python",
   "name": "python",
   "nbconvert_exporter": "python",
   "pygments_lexer": "ipython3",
   "version": "3.6.4"
  }
 },
 "nbformat": 4,
 "nbformat_minor": 2
}

{
 "cells": [
  {
   "cell_type": "markdown",
   "metadata": {},
   "source": [
    "# 母分散の比の検定\n",
    "## 各母集団は正規分布\n",
    "## 帰無仮説-->sigma2_x = sigma2_y<br/>sigma2_x≠sigma2_y<br/>有意水準0.05"
   ]
  },
  {
   "cell_type": "code",
   "execution_count": 9,
   "metadata": {},
   "outputs": [],
   "source": [
    "import numpy as np\n",
    "import scipy.stats as stats"
   ]
  },
  {
   "cell_type": "code",
   "execution_count": 16,
   "metadata": {},
   "outputs": [],
   "source": [
    "x = [2.5,3.0,0.8,5.0,2.4]\n",
    "y = [4.0,2.0,2.1,3.2,1.2,0.5,4.2]\n",
    "#x = [1.2,0.8,1.5,1.0]\n",
    "#y = [0.8,0.4,0.6,1.0,0.5,0.4,0.5]\n",
    "#x = [76,82,96,70,69]\n",
    "#y = [42,53,81,60,65,44]\n",
    "n_x = len(x)\n",
    "n_y = len(y)\n",
    "x_bar = np.mean(x)\n",
    "y_bar = np.mean(y)\n",
    "\n",
    "s2_x = np.var(x, ddof=1)\n",
    "s2_y = np.var(y, ddof=1)\n",
    "\n",
    "m = n_x+n_y-1\n",
    "\n",
    "alpha_r = 0.05"
   ]
  },
  {
   "cell_type": "code",
   "execution_count": 17,
   "metadata": {},
   "outputs": [],
   "source": [
    "f_value = s2_x / s2_y"
   ]
  },
  {
   "cell_type": "code",
   "execution_count": 18,
   "metadata": {},
   "outputs": [],
   "source": [
    "f_1 = stats.f.ppf(alpha_r/2,n_x-1,n_y-1)\n",
    "f_2 = stats.f.ppf(1-alpha_r/2,n_x-1,n_y-1)"
   ]
  },
  {
   "cell_type": "code",
   "execution_count": 19,
   "metadata": {},
   "outputs": [
    {
     "name": "stdout",
     "output_type": "stream",
     "text": [
      "帰無仮説は棄却されない\n"
     ]
    }
   ],
   "source": [
    "if f_1<f_value and f_value<f_2:\n",
    "    print(\"帰無仮説は棄却されない\")\n",
    "else:\n",
    "    print(\"帰無仮説は棄却される\")"
   ]
  },
  {
   "cell_type": "code",
   "execution_count": null,
   "metadata": {},
   "outputs": [],
   "source": []
  }
 ],
 "metadata": {
  "kernelspec": {
   "display_name": "Python 3",
   "language": "python",
   "name": "python3"
  },
  "language_info": {
   "codemirror_mode": {
    "name": "ipython",
    "version": 3
   },
   "file_extension": ".py",
   "mimetype": "text/x-python",
   "name": "python",
   "nbconvert_exporter": "python",
   "pygments_lexer": "ipython3",
   "version": "3.6.4"
  }
 },
 "nbformat": 4,
 "nbformat_minor": 2
}

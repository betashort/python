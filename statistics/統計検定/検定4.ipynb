{
 "cells": [
  {
   "cell_type": "markdown",
   "metadata": {},
   "source": [
    "# 母分散の検定\n",
    "## 母集団は正規分布　有意水準=0.01\n",
    "## 帰無仮説-->sigma2=5 <br/> 対立仮説-->sigma2≠5"
   ]
  },
  {
   "cell_type": "code",
   "execution_count": 1,
   "metadata": {},
   "outputs": [],
   "source": [
    "import numpy as np\n",
    "import scipy.stats as stats"
   ]
  },
  {
   "cell_type": "code",
   "execution_count": 5,
   "metadata": {},
   "outputs": [],
   "source": [
    "x = [3,7,1,5,2,9,6,4]\n",
    "n = len(x)\n",
    "x_bar = np.mean(x)\n",
    "s2_x = np.var(x, ddof=1)\n",
    "s_x = np.std(x, ddof=1)\n",
    "alpha_r = 0.01\n",
    "sigma2 = 5"
   ]
  },
  {
   "cell_type": "code",
   "execution_count": 7,
   "metadata": {},
   "outputs": [],
   "source": [
    "chi_2_1 = stats.chi2.ppf(alpha_r/2, n-1)\n",
    "chi_2_2 = stats.chi2.ppf(1-alpha_r/2, n-1)"
   ]
  },
  {
   "cell_type": "code",
   "execution_count": 8,
   "metadata": {},
   "outputs": [],
   "source": [
    "chi_2_value = ((n-1)*s2_x)/sigma2"
   ]
  },
  {
   "cell_type": "code",
   "execution_count": 10,
   "metadata": {},
   "outputs": [
    {
     "name": "stdout",
     "output_type": "stream",
     "text": [
      "帰無仮説は棄却されない\n"
     ]
    }
   ],
   "source": [
    "if (chi_2_1 < chi_2_value and chi_2_value < chi_2_2):\n",
    "    print(\"帰無仮説は棄却されない\")\n",
    "else:\n",
    "    print(\"帰無仮説は棄却される\")"
   ]
  },
  {
   "cell_type": "code",
   "execution_count": null,
   "metadata": {},
   "outputs": [],
   "source": []
  }
 ],
 "metadata": {
  "kernelspec": {
   "display_name": "Python 3",
   "language": "python",
   "name": "python3"
  },
  "language_info": {
   "codemirror_mode": {
    "name": "ipython",
    "version": 3
   },
   "file_extension": ".py",
   "mimetype": "text/x-python",
   "name": "python",
   "nbconvert_exporter": "python",
   "pygments_lexer": "ipython3",
   "version": "3.6.4"
  }
 },
 "nbformat": 4,
 "nbformat_minor": 2
}
